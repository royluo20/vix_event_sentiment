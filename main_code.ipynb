{
 "cells": [
  {
   "cell_type": "code",
   "execution_count": 49,
   "metadata": {},
   "outputs": [
    {
     "data": {
      "text/html": [
       "<div>\n",
       "<style scoped>\n",
       "    .dataframe tbody tr th:only-of-type {\n",
       "        vertical-align: middle;\n",
       "    }\n",
       "\n",
       "    .dataframe tbody tr th {\n",
       "        vertical-align: top;\n",
       "    }\n",
       "\n",
       "    .dataframe thead th {\n",
       "        text-align: right;\n",
       "    }\n",
       "</style>\n",
       "<table border=\"1\" class=\"dataframe\">\n",
       "  <thead>\n",
       "    <tr style=\"text-align: right;\">\n",
       "      <th></th>\n",
       "      <th>Date</th>\n",
       "      <th>Open</th>\n",
       "      <th>High</th>\n",
       "      <th>Low</th>\n",
       "      <th>Close</th>\n",
       "      <th>Adj Close</th>\n",
       "      <th>Volume</th>\n",
       "      <th>Return</th>\n",
       "    </tr>\n",
       "  </thead>\n",
       "  <tbody>\n",
       "    <tr>\n",
       "      <th>0</th>\n",
       "      <td>2000/1/3</td>\n",
       "      <td>24.360001</td>\n",
       "      <td>26.150000</td>\n",
       "      <td>23.980000</td>\n",
       "      <td>24.209999</td>\n",
       "      <td>24.209999</td>\n",
       "      <td>0</td>\n",
       "      <td>NaN</td>\n",
       "    </tr>\n",
       "    <tr>\n",
       "      <th>1</th>\n",
       "      <td>2000/1/4</td>\n",
       "      <td>24.940001</td>\n",
       "      <td>27.180000</td>\n",
       "      <td>24.799999</td>\n",
       "      <td>27.010000</td>\n",
       "      <td>27.010000</td>\n",
       "      <td>0</td>\n",
       "      <td>0.115655</td>\n",
       "    </tr>\n",
       "    <tr>\n",
       "      <th>2</th>\n",
       "      <td>2000/1/5</td>\n",
       "      <td>27.980000</td>\n",
       "      <td>29.000000</td>\n",
       "      <td>25.850000</td>\n",
       "      <td>26.410000</td>\n",
       "      <td>26.410000</td>\n",
       "      <td>0</td>\n",
       "      <td>-0.022214</td>\n",
       "    </tr>\n",
       "    <tr>\n",
       "      <th>3</th>\n",
       "      <td>2000/1/6</td>\n",
       "      <td>26.680000</td>\n",
       "      <td>26.709999</td>\n",
       "      <td>24.700001</td>\n",
       "      <td>25.730000</td>\n",
       "      <td>25.730000</td>\n",
       "      <td>0</td>\n",
       "      <td>-0.025748</td>\n",
       "    </tr>\n",
       "    <tr>\n",
       "      <th>4</th>\n",
       "      <td>2000/1/7</td>\n",
       "      <td>25.139999</td>\n",
       "      <td>25.170000</td>\n",
       "      <td>21.719999</td>\n",
       "      <td>21.719999</td>\n",
       "      <td>21.719999</td>\n",
       "      <td>0</td>\n",
       "      <td>-0.155849</td>\n",
       "    </tr>\n",
       "  </tbody>\n",
       "</table>\n",
       "</div>"
      ],
      "text/plain": [
       "       Date       Open       High        Low      Close  Adj Close  Volume  \\\n",
       "0  2000/1/3  24.360001  26.150000  23.980000  24.209999  24.209999       0   \n",
       "1  2000/1/4  24.940001  27.180000  24.799999  27.010000  27.010000       0   \n",
       "2  2000/1/5  27.980000  29.000000  25.850000  26.410000  26.410000       0   \n",
       "3  2000/1/6  26.680000  26.709999  24.700001  25.730000  25.730000       0   \n",
       "4  2000/1/7  25.139999  25.170000  21.719999  21.719999  21.719999       0   \n",
       "\n",
       "     Return  \n",
       "0       NaN  \n",
       "1  0.115655  \n",
       "2 -0.022214  \n",
       "3 -0.025748  \n",
       "4 -0.155849  "
      ]
     },
     "execution_count": 49,
     "metadata": {},
     "output_type": "execute_result"
    }
   ],
   "source": [
    "import pandas as pd\n",
    "import numpy as np\n",
    "import matplotlib.pyplot as plt\n",
    "import graphviz\n",
    "\n",
    "\n",
    "vix_daily = pd.read_csv('VIX daily.csv')\n",
    "vix_daily.head()"
   ]
  },
  {
   "cell_type": "code",
   "execution_count": 53,
   "metadata": {},
   "outputs": [],
   "source": [
    "df_price = pd.read_csv('dailypricehistory.csv')"
   ]
  },
  {
   "cell_type": "code",
   "execution_count": 54,
   "metadata": {},
   "outputs": [
    {
     "data": {
      "text/html": [
       "<div>\n",
       "<style scoped>\n",
       "    .dataframe tbody tr th:only-of-type {\n",
       "        vertical-align: middle;\n",
       "    }\n",
       "\n",
       "    .dataframe tbody tr th {\n",
       "        vertical-align: top;\n",
       "    }\n",
       "\n",
       "    .dataframe thead th {\n",
       "        text-align: right;\n",
       "    }\n",
       "</style>\n",
       "<table border=\"1\" class=\"dataframe\">\n",
       "  <thead>\n",
       "    <tr style=\"text-align: right;\">\n",
       "      <th></th>\n",
       "      <th>spx</th>\n",
       "      <th>sign</th>\n",
       "    </tr>\n",
       "    <tr>\n",
       "      <th>Date</th>\n",
       "      <th></th>\n",
       "      <th></th>\n",
       "    </tr>\n",
       "  </thead>\n",
       "  <tbody>\n",
       "    <tr>\n",
       "      <th>2015-01-02</th>\n",
       "      <td>-0.000340</td>\n",
       "      <td>0</td>\n",
       "    </tr>\n",
       "    <tr>\n",
       "      <th>2015-01-05</th>\n",
       "      <td>-0.018278</td>\n",
       "      <td>0</td>\n",
       "    </tr>\n",
       "    <tr>\n",
       "      <th>2015-01-06</th>\n",
       "      <td>-0.008893</td>\n",
       "      <td>0</td>\n",
       "    </tr>\n",
       "    <tr>\n",
       "      <th>2015-01-07</th>\n",
       "      <td>0.011630</td>\n",
       "      <td>1</td>\n",
       "    </tr>\n",
       "    <tr>\n",
       "      <th>2015-01-08</th>\n",
       "      <td>0.017888</td>\n",
       "      <td>1</td>\n",
       "    </tr>\n",
       "  </tbody>\n",
       "</table>\n",
       "</div>"
      ],
      "text/plain": [
       "                 spx  sign\n",
       "Date                      \n",
       "2015-01-02 -0.000340     0\n",
       "2015-01-05 -0.018278     0\n",
       "2015-01-06 -0.008893     0\n",
       "2015-01-07  0.011630     1\n",
       "2015-01-08  0.017888     1"
      ]
     },
     "execution_count": 54,
     "metadata": {},
     "output_type": "execute_result"
    }
   ],
   "source": [
    "df_price = df_price.iloc[4:8196,[0,3]]\n",
    "df_price.columns = ['Date', 'spx']\n",
    "df_price.index = pd.to_datetime(df_price.Date)\n",
    "df_price.loc[:,'spx'] = pd.to_numeric(df_price.spx)\n",
    "df_price = df_price.drop(columns = 'Date')\n",
    "df_price = df_price.pct_change().loc['2015-01-01':,]\n",
    "df_price['sign'] = df_price.spx.apply(lambda x: 1 if x >= 0 else 0)\n",
    "df_price.head()"
   ]
  },
  {
   "cell_type": "code",
   "execution_count": 7,
   "metadata": {},
   "outputs": [
    {
     "data": {
      "text/html": [
       "<div>\n",
       "<style scoped>\n",
       "    .dataframe tbody tr th:only-of-type {\n",
       "        vertical-align: middle;\n",
       "    }\n",
       "\n",
       "    .dataframe tbody tr th {\n",
       "        vertical-align: top;\n",
       "    }\n",
       "\n",
       "    .dataframe thead th {\n",
       "        text-align: right;\n",
       "    }\n",
       "</style>\n",
       "<table border=\"1\" class=\"dataframe\">\n",
       "  <thead>\n",
       "    <tr style=\"text-align: right;\">\n",
       "      <th></th>\n",
       "      <th>Date</th>\n",
       "      <th>Open</th>\n",
       "      <th>High</th>\n",
       "      <th>Low</th>\n",
       "      <th>Close</th>\n",
       "      <th>Adj Close</th>\n",
       "      <th>Volume</th>\n",
       "      <th>Return</th>\n",
       "    </tr>\n",
       "  </thead>\n",
       "  <tbody>\n",
       "    <tr>\n",
       "      <th>4807</th>\n",
       "      <td>2019/2/12</td>\n",
       "      <td>15.23</td>\n",
       "      <td>15.65</td>\n",
       "      <td>14.95</td>\n",
       "      <td>15.430000</td>\n",
       "      <td>15.430000</td>\n",
       "      <td>0</td>\n",
       "      <td>-0.033813</td>\n",
       "    </tr>\n",
       "    <tr>\n",
       "      <th>4808</th>\n",
       "      <td>2019/2/13</td>\n",
       "      <td>15.46</td>\n",
       "      <td>15.91</td>\n",
       "      <td>15.00</td>\n",
       "      <td>15.650000</td>\n",
       "      <td>15.650000</td>\n",
       "      <td>0</td>\n",
       "      <td>0.014258</td>\n",
       "    </tr>\n",
       "    <tr>\n",
       "      <th>4809</th>\n",
       "      <td>2019/2/14</td>\n",
       "      <td>15.61</td>\n",
       "      <td>17.27</td>\n",
       "      <td>15.30</td>\n",
       "      <td>16.219999</td>\n",
       "      <td>16.219999</td>\n",
       "      <td>0</td>\n",
       "      <td>0.036422</td>\n",
       "    </tr>\n",
       "    <tr>\n",
       "      <th>4810</th>\n",
       "      <td>2019/2/15</td>\n",
       "      <td>16.82</td>\n",
       "      <td>16.82</td>\n",
       "      <td>14.79</td>\n",
       "      <td>14.910000</td>\n",
       "      <td>14.910000</td>\n",
       "      <td>0</td>\n",
       "      <td>-0.080764</td>\n",
       "    </tr>\n",
       "    <tr>\n",
       "      <th>4811</th>\n",
       "      <td>2019/2/19</td>\n",
       "      <td>15.65</td>\n",
       "      <td>16.16</td>\n",
       "      <td>14.64</td>\n",
       "      <td>14.880000</td>\n",
       "      <td>14.880000</td>\n",
       "      <td>0</td>\n",
       "      <td>-0.002012</td>\n",
       "    </tr>\n",
       "  </tbody>\n",
       "</table>\n",
       "</div>"
      ],
      "text/plain": [
       "           Date   Open   High    Low      Close  Adj Close  Volume    Return\n",
       "4807  2019/2/12  15.23  15.65  14.95  15.430000  15.430000       0 -0.033813\n",
       "4808  2019/2/13  15.46  15.91  15.00  15.650000  15.650000       0  0.014258\n",
       "4809  2019/2/14  15.61  17.27  15.30  16.219999  16.219999       0  0.036422\n",
       "4810  2019/2/15  16.82  16.82  14.79  14.910000  14.910000       0 -0.080764\n",
       "4811  2019/2/19  15.65  16.16  14.64  14.880000  14.880000       0 -0.002012"
      ]
     },
     "execution_count": 7,
     "metadata": {},
     "output_type": "execute_result"
    }
   ],
   "source": [
    "vix_daily.tail()"
   ]
  },
  {
   "cell_type": "code",
   "execution_count": 8,
   "metadata": {},
   "outputs": [
    {
     "data": {
      "text/plain": [
       "Date          object\n",
       "Open         float64\n",
       "High         float64\n",
       "Low          float64\n",
       "Close        float64\n",
       "Adj Close    float64\n",
       "Volume         int64\n",
       "Return       float64\n",
       "dtype: object"
      ]
     },
     "execution_count": 8,
     "metadata": {},
     "output_type": "execute_result"
    }
   ],
   "source": [
    "vix_daily.dtypes"
   ]
  },
  {
   "cell_type": "code",
   "execution_count": 9,
   "metadata": {},
   "outputs": [
    {
     "data": {
      "text/html": [
       "<div>\n",
       "<style scoped>\n",
       "    .dataframe tbody tr th:only-of-type {\n",
       "        vertical-align: middle;\n",
       "    }\n",
       "\n",
       "    .dataframe tbody tr th {\n",
       "        vertical-align: top;\n",
       "    }\n",
       "\n",
       "    .dataframe thead th {\n",
       "        text-align: right;\n",
       "    }\n",
       "</style>\n",
       "<table border=\"1\" class=\"dataframe\">\n",
       "  <thead>\n",
       "    <tr style=\"text-align: right;\">\n",
       "      <th></th>\n",
       "      <th>Date</th>\n",
       "      <th>Open</th>\n",
       "      <th>High</th>\n",
       "      <th>Low</th>\n",
       "      <th>Close</th>\n",
       "      <th>Adj Close</th>\n",
       "      <th>Volume</th>\n",
       "      <th>Return</th>\n",
       "    </tr>\n",
       "  </thead>\n",
       "  <tbody>\n",
       "    <tr>\n",
       "      <th>0</th>\n",
       "      <td>2000/1/1</td>\n",
       "      <td>24.360001</td>\n",
       "      <td>29.000000</td>\n",
       "      <td>21.719999</td>\n",
       "      <td>21.719999</td>\n",
       "      <td>21.719999</td>\n",
       "      <td>0</td>\n",
       "      <td>NaN</td>\n",
       "    </tr>\n",
       "    <tr>\n",
       "      <th>1</th>\n",
       "      <td>2000/1/8</td>\n",
       "      <td>21.889999</td>\n",
       "      <td>23.490000</td>\n",
       "      <td>19.510000</td>\n",
       "      <td>19.660000</td>\n",
       "      <td>19.660000</td>\n",
       "      <td>0</td>\n",
       "      <td>-0.094843</td>\n",
       "    </tr>\n",
       "    <tr>\n",
       "      <th>2</th>\n",
       "      <td>2000/1/15</td>\n",
       "      <td>21.389999</td>\n",
       "      <td>22.600000</td>\n",
       "      <td>20.500000</td>\n",
       "      <td>20.820000</td>\n",
       "      <td>20.820000</td>\n",
       "      <td>0</td>\n",
       "      <td>0.059003</td>\n",
       "    </tr>\n",
       "    <tr>\n",
       "      <th>3</th>\n",
       "      <td>2000/1/22</td>\n",
       "      <td>21.430000</td>\n",
       "      <td>26.540001</td>\n",
       "      <td>21.430000</td>\n",
       "      <td>26.139999</td>\n",
       "      <td>26.139999</td>\n",
       "      <td>0</td>\n",
       "      <td>0.255523</td>\n",
       "    </tr>\n",
       "    <tr>\n",
       "      <th>4</th>\n",
       "      <td>2000/1/29</td>\n",
       "      <td>26.780001</td>\n",
       "      <td>27.430000</td>\n",
       "      <td>20.690001</td>\n",
       "      <td>21.540001</td>\n",
       "      <td>21.540001</td>\n",
       "      <td>0</td>\n",
       "      <td>-0.175975</td>\n",
       "    </tr>\n",
       "  </tbody>\n",
       "</table>\n",
       "</div>"
      ],
      "text/plain": [
       "        Date       Open       High        Low      Close  Adj Close  Volume  \\\n",
       "0   2000/1/1  24.360001  29.000000  21.719999  21.719999  21.719999       0   \n",
       "1   2000/1/8  21.889999  23.490000  19.510000  19.660000  19.660000       0   \n",
       "2  2000/1/15  21.389999  22.600000  20.500000  20.820000  20.820000       0   \n",
       "3  2000/1/22  21.430000  26.540001  21.430000  26.139999  26.139999       0   \n",
       "4  2000/1/29  26.780001  27.430000  20.690001  21.540001  21.540001       0   \n",
       "\n",
       "     Return  \n",
       "0       NaN  \n",
       "1 -0.094843  \n",
       "2  0.059003  \n",
       "3  0.255523  \n",
       "4 -0.175975  "
      ]
     },
     "execution_count": 9,
     "metadata": {},
     "output_type": "execute_result"
    }
   ],
   "source": [
    "vix_weekly = pd.read_csv('VIX weekly.csv')\n",
    "vix_weekly.head()"
   ]
  },
  {
   "cell_type": "code",
   "execution_count": 10,
   "metadata": {},
   "outputs": [
    {
     "data": {
      "text/html": [
       "<div>\n",
       "<style scoped>\n",
       "    .dataframe tbody tr th:only-of-type {\n",
       "        vertical-align: middle;\n",
       "    }\n",
       "\n",
       "    .dataframe tbody tr th {\n",
       "        vertical-align: top;\n",
       "    }\n",
       "\n",
       "    .dataframe thead th {\n",
       "        text-align: right;\n",
       "    }\n",
       "</style>\n",
       "<table border=\"1\" class=\"dataframe\">\n",
       "  <thead>\n",
       "    <tr style=\"text-align: right;\">\n",
       "      <th></th>\n",
       "      <th>Date</th>\n",
       "      <th>Open</th>\n",
       "      <th>High</th>\n",
       "      <th>Low</th>\n",
       "      <th>Close</th>\n",
       "      <th>Adj Close</th>\n",
       "      <th>Volume</th>\n",
       "      <th>Return</th>\n",
       "    </tr>\n",
       "  </thead>\n",
       "  <tbody>\n",
       "    <tr>\n",
       "      <th>0</th>\n",
       "      <td>2000/1/1</td>\n",
       "      <td>24.360001</td>\n",
       "      <td>29.000000</td>\n",
       "      <td>19.510000</td>\n",
       "      <td>24.950001</td>\n",
       "      <td>24.950001</td>\n",
       "      <td>0</td>\n",
       "      <td>NaN</td>\n",
       "    </tr>\n",
       "    <tr>\n",
       "      <th>1</th>\n",
       "      <td>2000/2/1</td>\n",
       "      <td>24.430000</td>\n",
       "      <td>28.120001</td>\n",
       "      <td>20.690001</td>\n",
       "      <td>23.370001</td>\n",
       "      <td>23.370001</td>\n",
       "      <td>0</td>\n",
       "      <td>-0.063327</td>\n",
       "    </tr>\n",
       "    <tr>\n",
       "      <th>2</th>\n",
       "      <td>2000/3/1</td>\n",
       "      <td>22.650000</td>\n",
       "      <td>25.870001</td>\n",
       "      <td>19.190001</td>\n",
       "      <td>24.110001</td>\n",
       "      <td>24.110001</td>\n",
       "      <td>0</td>\n",
       "      <td>0.031665</td>\n",
       "    </tr>\n",
       "    <tr>\n",
       "      <th>3</th>\n",
       "      <td>2000/4/1</td>\n",
       "      <td>24.990000</td>\n",
       "      <td>34.310001</td>\n",
       "      <td>23.250000</td>\n",
       "      <td>26.200001</td>\n",
       "      <td>26.200001</td>\n",
       "      <td>0</td>\n",
       "      <td>0.086686</td>\n",
       "    </tr>\n",
       "    <tr>\n",
       "      <th>4</th>\n",
       "      <td>2000/5/1</td>\n",
       "      <td>26.070000</td>\n",
       "      <td>32.889999</td>\n",
       "      <td>23.230000</td>\n",
       "      <td>23.650000</td>\n",
       "      <td>23.650000</td>\n",
       "      <td>0</td>\n",
       "      <td>-0.097328</td>\n",
       "    </tr>\n",
       "  </tbody>\n",
       "</table>\n",
       "</div>"
      ],
      "text/plain": [
       "       Date       Open       High        Low      Close  Adj Close  Volume  \\\n",
       "0  2000/1/1  24.360001  29.000000  19.510000  24.950001  24.950001       0   \n",
       "1  2000/2/1  24.430000  28.120001  20.690001  23.370001  23.370001       0   \n",
       "2  2000/3/1  22.650000  25.870001  19.190001  24.110001  24.110001       0   \n",
       "3  2000/4/1  24.990000  34.310001  23.250000  26.200001  26.200001       0   \n",
       "4  2000/5/1  26.070000  32.889999  23.230000  23.650000  23.650000       0   \n",
       "\n",
       "    Return   \n",
       "0       NaN  \n",
       "1 -0.063327  \n",
       "2  0.031665  \n",
       "3  0.086686  \n",
       "4 -0.097328  "
      ]
     },
     "execution_count": 10,
     "metadata": {},
     "output_type": "execute_result"
    }
   ],
   "source": [
    "vix_monthly = pd.read_csv('VIX monthly.csv')\n",
    "vix_monthly.head()"
   ]
  },
  {
   "cell_type": "code",
   "execution_count": 11,
   "metadata": {},
   "outputs": [
    {
     "data": {
      "text/plain": [
       "[<matplotlib.lines.Line2D at 0x1115a6ba8>]"
      ]
     },
     "execution_count": 11,
     "metadata": {},
     "output_type": "execute_result"
    },
    {
     "data": {
      "image/png": "[encoded data removed]",
      "text/plain": [
       "<Figure size 432x288 with 1 Axes>"
      ]
     },
     "metadata": {
      "needs_background": "light"
     },
     "output_type": "display_data"
    }
   ],
   "source": [
    "plt.plot(vix_monthly['Date'],vix_monthly['Close'])"
   ]
  },
  {
   "cell_type": "code",
   "execution_count": 12,
   "metadata": {},
   "outputs": [
    {
     "data": {
      "text/html": [
       "<div>\n",
       "<style scoped>\n",
       "    .dataframe tbody tr th:only-of-type {\n",
       "        vertical-align: middle;\n",
       "    }\n",
       "\n",
       "    .dataframe tbody tr th {\n",
       "        vertical-align: top;\n",
       "    }\n",
       "\n",
       "    .dataframe thead th {\n",
       "        text-align: right;\n",
       "    }\n",
       "</style>\n",
       "<table border=\"1\" class=\"dataframe\">\n",
       "  <thead>\n",
       "    <tr style=\"text-align: right;\">\n",
       "      <th></th>\n",
       "      <th>Unnamed: 0</th>\n",
       "      <th>goldstein</th>\n",
       "      <th>numarticles</th>\n",
       "      <th>avgtone</th>\n",
       "      <th>quad_1</th>\n",
       "      <th>quad_2</th>\n",
       "      <th>quad_3</th>\n",
       "      <th>quad_4</th>\n",
       "      <th>avg mention</th>\n",
       "      <th>avg source</th>\n",
       "    </tr>\n",
       "  </thead>\n",
       "  <tbody>\n",
       "    <tr>\n",
       "      <th>0</th>\n",
       "      <td>20150101</td>\n",
       "      <td>1.897037</td>\n",
       "      <td>4.725926</td>\n",
       "      <td>-0.825348</td>\n",
       "      <td>0.644444</td>\n",
       "      <td>0.148148</td>\n",
       "      <td>0.133333</td>\n",
       "      <td>0.074074</td>\n",
       "      <td>4.800000</td>\n",
       "      <td>1.051852</td>\n",
       "    </tr>\n",
       "    <tr>\n",
       "      <th>1</th>\n",
       "      <td>20150102</td>\n",
       "      <td>1.292029</td>\n",
       "      <td>4.144928</td>\n",
       "      <td>-2.010586</td>\n",
       "      <td>0.463768</td>\n",
       "      <td>0.282609</td>\n",
       "      <td>0.137681</td>\n",
       "      <td>0.115942</td>\n",
       "      <td>4.144928</td>\n",
       "      <td>1.000000</td>\n",
       "    </tr>\n",
       "    <tr>\n",
       "      <th>2</th>\n",
       "      <td>20150103</td>\n",
       "      <td>0.500662</td>\n",
       "      <td>4.072848</td>\n",
       "      <td>-1.579904</td>\n",
       "      <td>0.629139</td>\n",
       "      <td>0.092715</td>\n",
       "      <td>0.112583</td>\n",
       "      <td>0.165563</td>\n",
       "      <td>4.178808</td>\n",
       "      <td>1.000000</td>\n",
       "    </tr>\n",
       "    <tr>\n",
       "      <th>3</th>\n",
       "      <td>20150104</td>\n",
       "      <td>0.078648</td>\n",
       "      <td>4.177936</td>\n",
       "      <td>-2.290629</td>\n",
       "      <td>0.491103</td>\n",
       "      <td>0.177936</td>\n",
       "      <td>0.103203</td>\n",
       "      <td>0.227758</td>\n",
       "      <td>4.249110</td>\n",
       "      <td>1.028470</td>\n",
       "    </tr>\n",
       "    <tr>\n",
       "      <th>4</th>\n",
       "      <td>20150105</td>\n",
       "      <td>-1.140491</td>\n",
       "      <td>4.365031</td>\n",
       "      <td>-2.789627</td>\n",
       "      <td>0.435583</td>\n",
       "      <td>0.138037</td>\n",
       "      <td>0.101227</td>\n",
       "      <td>0.325153</td>\n",
       "      <td>4.407975</td>\n",
       "      <td>1.033742</td>\n",
       "    </tr>\n",
       "  </tbody>\n",
       "</table>\n",
       "</div>"
      ],
      "text/plain": [
       "   Unnamed: 0  goldstein  numarticles   avgtone    quad_1    quad_2    quad_3  \\\n",
       "0    20150101   1.897037     4.725926 -0.825348  0.644444  0.148148  0.133333   \n",
       "1    20150102   1.292029     4.144928 -2.010586  0.463768  0.282609  0.137681   \n",
       "2    20150103   0.500662     4.072848 -1.579904  0.629139  0.092715  0.112583   \n",
       "3    20150104   0.078648     4.177936 -2.290629  0.491103  0.177936  0.103203   \n",
       "4    20150105  -1.140491     4.365031 -2.789627  0.435583  0.138037  0.101227   \n",
       "\n",
       "     quad_4  avg mention  avg source  \n",
       "0  0.074074     4.800000    1.051852  \n",
       "1  0.115942     4.144928    1.000000  \n",
       "2  0.165563     4.178808    1.000000  \n",
       "3  0.227758     4.249110    1.028470  \n",
       "4  0.325153     4.407975    1.033742  "
      ]
     },
     "execution_count": 12,
     "metadata": {},
     "output_type": "execute_result"
    }
   ],
   "source": [
    "df = pd.read_csv('FULL_DF.csv')\n",
    "df.head()"
   ]
  },
  {
   "cell_type": "code",
   "execution_count": 13,
   "metadata": {},
   "outputs": [
    {
     "data": {
      "text/html": [
       "<div>\n",
       "<style scoped>\n",
       "    .dataframe tbody tr th:only-of-type {\n",
       "        vertical-align: middle;\n",
       "    }\n",
       "\n",
       "    .dataframe tbody tr th {\n",
       "        vertical-align: top;\n",
       "    }\n",
       "\n",
       "    .dataframe thead th {\n",
       "        text-align: right;\n",
       "    }\n",
       "</style>\n",
       "<table border=\"1\" class=\"dataframe\">\n",
       "  <thead>\n",
       "    <tr style=\"text-align: right;\">\n",
       "      <th></th>\n",
       "      <th>Date</th>\n",
       "      <th>Open</th>\n",
       "      <th>High</th>\n",
       "      <th>Low</th>\n",
       "      <th>Close</th>\n",
       "      <th>Adj Close</th>\n",
       "      <th>Volume</th>\n",
       "      <th>Return</th>\n",
       "    </tr>\n",
       "  </thead>\n",
       "  <tbody>\n",
       "    <tr>\n",
       "      <th>3773</th>\n",
       "      <td>20150102</td>\n",
       "      <td>17.760000</td>\n",
       "      <td>20.139999</td>\n",
       "      <td>17.049999</td>\n",
       "      <td>17.790001</td>\n",
       "      <td>17.790001</td>\n",
       "      <td>0</td>\n",
       "      <td>-0.073437</td>\n",
       "    </tr>\n",
       "    <tr>\n",
       "      <th>3774</th>\n",
       "      <td>20150105</td>\n",
       "      <td>19.190001</td>\n",
       "      <td>21.290001</td>\n",
       "      <td>19.190001</td>\n",
       "      <td>19.920000</td>\n",
       "      <td>19.920000</td>\n",
       "      <td>0</td>\n",
       "      <td>0.119730</td>\n",
       "    </tr>\n",
       "    <tr>\n",
       "      <th>3775</th>\n",
       "      <td>20150106</td>\n",
       "      <td>20.330000</td>\n",
       "      <td>22.900000</td>\n",
       "      <td>19.520000</td>\n",
       "      <td>21.120001</td>\n",
       "      <td>21.120001</td>\n",
       "      <td>0</td>\n",
       "      <td>0.060241</td>\n",
       "    </tr>\n",
       "    <tr>\n",
       "      <th>3776</th>\n",
       "      <td>20150107</td>\n",
       "      <td>20.150000</td>\n",
       "      <td>20.719999</td>\n",
       "      <td>19.040001</td>\n",
       "      <td>19.309999</td>\n",
       "      <td>19.309999</td>\n",
       "      <td>0</td>\n",
       "      <td>-0.085701</td>\n",
       "    </tr>\n",
       "    <tr>\n",
       "      <th>3777</th>\n",
       "      <td>20150108</td>\n",
       "      <td>17.930000</td>\n",
       "      <td>18.090000</td>\n",
       "      <td>16.990000</td>\n",
       "      <td>17.010000</td>\n",
       "      <td>17.010000</td>\n",
       "      <td>0</td>\n",
       "      <td>-0.119109</td>\n",
       "    </tr>\n",
       "  </tbody>\n",
       "</table>\n",
       "</div>"
      ],
      "text/plain": [
       "          Date       Open       High        Low      Close  Adj Close  Volume  \\\n",
       "3773  20150102  17.760000  20.139999  17.049999  17.790001  17.790001       0   \n",
       "3774  20150105  19.190001  21.290001  19.190001  19.920000  19.920000       0   \n",
       "3775  20150106  20.330000  22.900000  19.520000  21.120001  21.120001       0   \n",
       "3776  20150107  20.150000  20.719999  19.040001  19.309999  19.309999       0   \n",
       "3777  20150108  17.930000  18.090000  16.990000  17.010000  17.010000       0   \n",
       "\n",
       "        Return  \n",
       "3773 -0.073437  \n",
       "3774  0.119730  \n",
       "3775  0.060241  \n",
       "3776 -0.085701  \n",
       "3777 -0.119109  "
      ]
     },
     "execution_count": 13,
     "metadata": {},
     "output_type": "execute_result"
    }
   ],
   "source": [
    "\n",
    "\n",
    "vix_daily['Date'] = vix_daily['Date'].apply(lambda x:int(''.join([i if int(i)>=10 else '0'+i for i in x.split('/')])))\n",
    "vix_daily = vix_daily.loc[vix_daily['Date'] >= 20150000,]\n",
    "vix_daily.head()"
   ]
  },
  {
   "cell_type": "code",
   "execution_count": 14,
   "metadata": {},
   "outputs": [
    {
     "data": {
      "text/html": [
       "<div>\n",
       "<style scoped>\n",
       "    .dataframe tbody tr th:only-of-type {\n",
       "        vertical-align: middle;\n",
       "    }\n",
       "\n",
       "    .dataframe tbody tr th {\n",
       "        vertical-align: top;\n",
       "    }\n",
       "\n",
       "    .dataframe thead th {\n",
       "        text-align: right;\n",
       "    }\n",
       "</style>\n",
       "<table border=\"1\" class=\"dataframe\">\n",
       "  <thead>\n",
       "    <tr style=\"text-align: right;\">\n",
       "      <th></th>\n",
       "      <th>Date</th>\n",
       "      <th>Open</th>\n",
       "      <th>High</th>\n",
       "      <th>Low</th>\n",
       "      <th>Close</th>\n",
       "      <th>Adj Close</th>\n",
       "      <th>Volume</th>\n",
       "      <th>Return</th>\n",
       "    </tr>\n",
       "  </thead>\n",
       "  <tbody>\n",
       "    <tr>\n",
       "      <th>783</th>\n",
       "      <td>20150103</td>\n",
       "      <td>19.190001</td>\n",
       "      <td>22.900000</td>\n",
       "      <td>16.440001</td>\n",
       "      <td>17.549999</td>\n",
       "      <td>17.549999</td>\n",
       "      <td>0</td>\n",
       "      <td>-0.013491</td>\n",
       "    </tr>\n",
       "    <tr>\n",
       "      <th>784</th>\n",
       "      <td>20150110</td>\n",
       "      <td>18.020000</td>\n",
       "      <td>23.430000</td>\n",
       "      <td>17.650000</td>\n",
       "      <td>20.950001</td>\n",
       "      <td>20.950001</td>\n",
       "      <td>0</td>\n",
       "      <td>0.193732</td>\n",
       "    </tr>\n",
       "    <tr>\n",
       "      <th>785</th>\n",
       "      <td>20150117</td>\n",
       "      <td>20.070000</td>\n",
       "      <td>21.370001</td>\n",
       "      <td>15.810000</td>\n",
       "      <td>16.660000</td>\n",
       "      <td>16.660000</td>\n",
       "      <td>0</td>\n",
       "      <td>-0.204773</td>\n",
       "    </tr>\n",
       "    <tr>\n",
       "      <th>786</th>\n",
       "      <td>20150124</td>\n",
       "      <td>16.959999</td>\n",
       "      <td>22.180000</td>\n",
       "      <td>15.520000</td>\n",
       "      <td>20.969999</td>\n",
       "      <td>20.969999</td>\n",
       "      <td>0</td>\n",
       "      <td>0.258703</td>\n",
       "    </tr>\n",
       "    <tr>\n",
       "      <th>787</th>\n",
       "      <td>20150131</td>\n",
       "      <td>20.889999</td>\n",
       "      <td>22.809999</td>\n",
       "      <td>16.059999</td>\n",
       "      <td>17.290001</td>\n",
       "      <td>17.290001</td>\n",
       "      <td>0</td>\n",
       "      <td>-0.175489</td>\n",
       "    </tr>\n",
       "  </tbody>\n",
       "</table>\n",
       "</div>"
      ],
      "text/plain": [
       "         Date       Open       High        Low      Close  Adj Close  Volume  \\\n",
       "783  20150103  19.190001  22.900000  16.440001  17.549999  17.549999       0   \n",
       "784  20150110  18.020000  23.430000  17.650000  20.950001  20.950001       0   \n",
       "785  20150117  20.070000  21.370001  15.810000  16.660000  16.660000       0   \n",
       "786  20150124  16.959999  22.180000  15.520000  20.969999  20.969999       0   \n",
       "787  20150131  20.889999  22.809999  16.059999  17.290001  17.290001       0   \n",
       "\n",
       "       Return  \n",
       "783 -0.013491  \n",
       "784  0.193732  \n",
       "785 -0.204773  \n",
       "786  0.258703  \n",
       "787 -0.175489  "
      ]
     },
     "execution_count": 14,
     "metadata": {},
     "output_type": "execute_result"
    }
   ],
   "source": [
    "vix_weekly['Date'] = vix_weekly['Date'].apply(lambda x:int(''.join([i if int(i)>=10 else '0'+i for i in x.split('/')])))\n",
    "vix_weekly = vix_weekly.loc[vix_weekly['Date'] >= 20150000,]\n",
    "vix_weekly.head()\n"
   ]
  },
  {
   "cell_type": "code",
   "execution_count": 15,
   "metadata": {},
   "outputs": [
    {
     "data": {
      "text/html": [
       "<div>\n",
       "<style scoped>\n",
       "    .dataframe tbody tr th:only-of-type {\n",
       "        vertical-align: middle;\n",
       "    }\n",
       "\n",
       "    .dataframe tbody tr th {\n",
       "        vertical-align: top;\n",
       "    }\n",
       "\n",
       "    .dataframe thead th {\n",
       "        text-align: right;\n",
       "    }\n",
       "</style>\n",
       "<table border=\"1\" class=\"dataframe\">\n",
       "  <thead>\n",
       "    <tr style=\"text-align: right;\">\n",
       "      <th></th>\n",
       "      <th>Date</th>\n",
       "      <th>Open</th>\n",
       "      <th>High</th>\n",
       "      <th>Low</th>\n",
       "      <th>Close</th>\n",
       "      <th>Adj Close</th>\n",
       "      <th>Volume</th>\n",
       "      <th>Return</th>\n",
       "    </tr>\n",
       "  </thead>\n",
       "  <tbody>\n",
       "    <tr>\n",
       "      <th>180</th>\n",
       "      <td>20150101</td>\n",
       "      <td>17.760000</td>\n",
       "      <td>23.430000</td>\n",
       "      <td>15.52</td>\n",
       "      <td>20.969999</td>\n",
       "      <td>20.969999</td>\n",
       "      <td>0</td>\n",
       "      <td>0.092187</td>\n",
       "    </tr>\n",
       "    <tr>\n",
       "      <th>181</th>\n",
       "      <td>20150201</td>\n",
       "      <td>20.889999</td>\n",
       "      <td>22.809999</td>\n",
       "      <td>12.86</td>\n",
       "      <td>13.340000</td>\n",
       "      <td>13.340000</td>\n",
       "      <td>0</td>\n",
       "      <td>-0.363853</td>\n",
       "    </tr>\n",
       "    <tr>\n",
       "      <th>182</th>\n",
       "      <td>20150301</td>\n",
       "      <td>13.900000</td>\n",
       "      <td>17.190001</td>\n",
       "      <td>12.54</td>\n",
       "      <td>15.290000</td>\n",
       "      <td>15.290000</td>\n",
       "      <td>0</td>\n",
       "      <td>0.146177</td>\n",
       "    </tr>\n",
       "    <tr>\n",
       "      <th>183</th>\n",
       "      <td>20150401</td>\n",
       "      <td>15.320000</td>\n",
       "      <td>16.660000</td>\n",
       "      <td>12.12</td>\n",
       "      <td>14.550000</td>\n",
       "      <td>14.550000</td>\n",
       "      <td>0</td>\n",
       "      <td>-0.048398</td>\n",
       "    </tr>\n",
       "    <tr>\n",
       "      <th>184</th>\n",
       "      <td>20150501</td>\n",
       "      <td>13.980000</td>\n",
       "      <td>16.360001</td>\n",
       "      <td>11.82</td>\n",
       "      <td>13.840000</td>\n",
       "      <td>13.840000</td>\n",
       "      <td>0</td>\n",
       "      <td>-0.048797</td>\n",
       "    </tr>\n",
       "  </tbody>\n",
       "</table>\n",
       "</div>"
      ],
      "text/plain": [
       "         Date       Open       High    Low      Close  Adj Close  Volume  \\\n",
       "180  20150101  17.760000  23.430000  15.52  20.969999  20.969999       0   \n",
       "181  20150201  20.889999  22.809999  12.86  13.340000  13.340000       0   \n",
       "182  20150301  13.900000  17.190001  12.54  15.290000  15.290000       0   \n",
       "183  20150401  15.320000  16.660000  12.12  14.550000  14.550000       0   \n",
       "184  20150501  13.980000  16.360001  11.82  13.840000  13.840000       0   \n",
       "\n",
       "      Return   \n",
       "180  0.092187  \n",
       "181 -0.363853  \n",
       "182  0.146177  \n",
       "183 -0.048398  \n",
       "184 -0.048797  "
      ]
     },
     "execution_count": 15,
     "metadata": {},
     "output_type": "execute_result"
    }
   ],
   "source": [
    "vix_monthly['Date'] = vix_monthly['Date'].apply(lambda x:int(''.join([i if int(i)>=10 else '0'+i for i in x.split('/')])))\n",
    "vix_monthly = vix_monthly.loc[vix_monthly['Date'] >= 20150000,]\n",
    "vix_monthly.head()\n"
   ]
  },
  {
   "cell_type": "code",
   "execution_count": 16,
   "metadata": {},
   "outputs": [],
   "source": [
    "df.rename(columns = {'Unnamed: 0': 'Date'}, inplace = True)\n",
    "#This is for DF"
   ]
  },
  {
   "cell_type": "code",
   "execution_count": 17,
   "metadata": {},
   "outputs": [
    {
     "data": {
      "text/html": [
       "<div>\n",
       "<style scoped>\n",
       "    .dataframe tbody tr th:only-of-type {\n",
       "        vertical-align: middle;\n",
       "    }\n",
       "\n",
       "    .dataframe tbody tr th {\n",
       "        vertical-align: top;\n",
       "    }\n",
       "\n",
       "    .dataframe thead th {\n",
       "        text-align: right;\n",
       "    }\n",
       "</style>\n",
       "<table border=\"1\" class=\"dataframe\">\n",
       "  <thead>\n",
       "    <tr style=\"text-align: right;\">\n",
       "      <th></th>\n",
       "      <th>Date</th>\n",
       "      <th>goldstein</th>\n",
       "      <th>numarticles</th>\n",
       "      <th>avgtone</th>\n",
       "      <th>quad_1</th>\n",
       "      <th>quad_2</th>\n",
       "      <th>quad_3</th>\n",
       "      <th>quad_4</th>\n",
       "      <th>avg mention</th>\n",
       "      <th>avg source</th>\n",
       "    </tr>\n",
       "  </thead>\n",
       "  <tbody>\n",
       "    <tr>\n",
       "      <th>0</th>\n",
       "      <td>20150101</td>\n",
       "      <td>1.897037</td>\n",
       "      <td>4.725926</td>\n",
       "      <td>-0.825348</td>\n",
       "      <td>0.644444</td>\n",
       "      <td>0.148148</td>\n",
       "      <td>0.133333</td>\n",
       "      <td>0.074074</td>\n",
       "      <td>4.800000</td>\n",
       "      <td>1.051852</td>\n",
       "    </tr>\n",
       "    <tr>\n",
       "      <th>1</th>\n",
       "      <td>20150102</td>\n",
       "      <td>1.292029</td>\n",
       "      <td>4.144928</td>\n",
       "      <td>-2.010586</td>\n",
       "      <td>0.463768</td>\n",
       "      <td>0.282609</td>\n",
       "      <td>0.137681</td>\n",
       "      <td>0.115942</td>\n",
       "      <td>4.144928</td>\n",
       "      <td>1.000000</td>\n",
       "    </tr>\n",
       "    <tr>\n",
       "      <th>2</th>\n",
       "      <td>20150103</td>\n",
       "      <td>0.500662</td>\n",
       "      <td>4.072848</td>\n",
       "      <td>-1.579904</td>\n",
       "      <td>0.629139</td>\n",
       "      <td>0.092715</td>\n",
       "      <td>0.112583</td>\n",
       "      <td>0.165563</td>\n",
       "      <td>4.178808</td>\n",
       "      <td>1.000000</td>\n",
       "    </tr>\n",
       "    <tr>\n",
       "      <th>3</th>\n",
       "      <td>20150104</td>\n",
       "      <td>0.078648</td>\n",
       "      <td>4.177936</td>\n",
       "      <td>-2.290629</td>\n",
       "      <td>0.491103</td>\n",
       "      <td>0.177936</td>\n",
       "      <td>0.103203</td>\n",
       "      <td>0.227758</td>\n",
       "      <td>4.249110</td>\n",
       "      <td>1.028470</td>\n",
       "    </tr>\n",
       "    <tr>\n",
       "      <th>4</th>\n",
       "      <td>20150105</td>\n",
       "      <td>-1.140491</td>\n",
       "      <td>4.365031</td>\n",
       "      <td>-2.789627</td>\n",
       "      <td>0.435583</td>\n",
       "      <td>0.138037</td>\n",
       "      <td>0.101227</td>\n",
       "      <td>0.325153</td>\n",
       "      <td>4.407975</td>\n",
       "      <td>1.033742</td>\n",
       "    </tr>\n",
       "  </tbody>\n",
       "</table>\n",
       "</div>"
      ],
      "text/plain": [
       "       Date  goldstein  numarticles   avgtone    quad_1    quad_2    quad_3  \\\n",
       "0  20150101   1.897037     4.725926 -0.825348  0.644444  0.148148  0.133333   \n",
       "1  20150102   1.292029     4.144928 -2.010586  0.463768  0.282609  0.137681   \n",
       "2  20150103   0.500662     4.072848 -1.579904  0.629139  0.092715  0.112583   \n",
       "3  20150104   0.078648     4.177936 -2.290629  0.491103  0.177936  0.103203   \n",
       "4  20150105  -1.140491     4.365031 -2.789627  0.435583  0.138037  0.101227   \n",
       "\n",
       "     quad_4  avg mention  avg source  \n",
       "0  0.074074     4.800000    1.051852  \n",
       "1  0.115942     4.144928    1.000000  \n",
       "2  0.165563     4.178808    1.000000  \n",
       "3  0.227758     4.249110    1.028470  \n",
       "4  0.325153     4.407975    1.033742  "
      ]
     },
     "execution_count": 17,
     "metadata": {},
     "output_type": "execute_result"
    }
   ],
   "source": [
    "df.head()"
   ]
  },
  {
   "cell_type": "code",
   "execution_count": 18,
   "metadata": {},
   "outputs": [],
   "source": [
    "df.columns = ['Date', 'goldstein','numarticles','avgtone','quad_1','quad_2','quad_3','quad_4','nummentions','numsources']\n",
    "#This is for DF_full3\n"
   ]
  },
  {
   "cell_type": "code",
   "execution_count": 19,
   "metadata": {},
   "outputs": [
    {
     "data": {
      "text/html": [
       "<div>\n",
       "<style scoped>\n",
       "    .dataframe tbody tr th:only-of-type {\n",
       "        vertical-align: middle;\n",
       "    }\n",
       "\n",
       "    .dataframe tbody tr th {\n",
       "        vertical-align: top;\n",
       "    }\n",
       "\n",
       "    .dataframe thead th {\n",
       "        text-align: right;\n",
       "    }\n",
       "</style>\n",
       "<table border=\"1\" class=\"dataframe\">\n",
       "  <thead>\n",
       "    <tr style=\"text-align: right;\">\n",
       "      <th></th>\n",
       "      <th>Date</th>\n",
       "      <th>Open</th>\n",
       "      <th>High</th>\n",
       "      <th>Low</th>\n",
       "      <th>Close</th>\n",
       "      <th>Adj Close</th>\n",
       "      <th>Volume</th>\n",
       "      <th>Return</th>\n",
       "    </tr>\n",
       "  </thead>\n",
       "  <tbody>\n",
       "    <tr>\n",
       "      <th>3773</th>\n",
       "      <td>20150102</td>\n",
       "      <td>17.760000</td>\n",
       "      <td>20.139999</td>\n",
       "      <td>17.049999</td>\n",
       "      <td>17.790001</td>\n",
       "      <td>17.790001</td>\n",
       "      <td>0</td>\n",
       "      <td>-0.073437</td>\n",
       "    </tr>\n",
       "    <tr>\n",
       "      <th>3774</th>\n",
       "      <td>20150105</td>\n",
       "      <td>19.190001</td>\n",
       "      <td>21.290001</td>\n",
       "      <td>19.190001</td>\n",
       "      <td>19.920000</td>\n",
       "      <td>19.920000</td>\n",
       "      <td>0</td>\n",
       "      <td>0.119730</td>\n",
       "    </tr>\n",
       "    <tr>\n",
       "      <th>3775</th>\n",
       "      <td>20150106</td>\n",
       "      <td>20.330000</td>\n",
       "      <td>22.900000</td>\n",
       "      <td>19.520000</td>\n",
       "      <td>21.120001</td>\n",
       "      <td>21.120001</td>\n",
       "      <td>0</td>\n",
       "      <td>0.060241</td>\n",
       "    </tr>\n",
       "    <tr>\n",
       "      <th>3776</th>\n",
       "      <td>20150107</td>\n",
       "      <td>20.150000</td>\n",
       "      <td>20.719999</td>\n",
       "      <td>19.040001</td>\n",
       "      <td>19.309999</td>\n",
       "      <td>19.309999</td>\n",
       "      <td>0</td>\n",
       "      <td>-0.085701</td>\n",
       "    </tr>\n",
       "    <tr>\n",
       "      <th>3777</th>\n",
       "      <td>20150108</td>\n",
       "      <td>17.930000</td>\n",
       "      <td>18.090000</td>\n",
       "      <td>16.990000</td>\n",
       "      <td>17.010000</td>\n",
       "      <td>17.010000</td>\n",
       "      <td>0</td>\n",
       "      <td>-0.119109</td>\n",
       "    </tr>\n",
       "  </tbody>\n",
       "</table>\n",
       "</div>"
      ],
      "text/plain": [
       "          Date       Open       High        Low      Close  Adj Close  Volume  \\\n",
       "3773  20150102  17.760000  20.139999  17.049999  17.790001  17.790001       0   \n",
       "3774  20150105  19.190001  21.290001  19.190001  19.920000  19.920000       0   \n",
       "3775  20150106  20.330000  22.900000  19.520000  21.120001  21.120001       0   \n",
       "3776  20150107  20.150000  20.719999  19.040001  19.309999  19.309999       0   \n",
       "3777  20150108  17.930000  18.090000  16.990000  17.010000  17.010000       0   \n",
       "\n",
       "        Return  \n",
       "3773 -0.073437  \n",
       "3774  0.119730  \n",
       "3775  0.060241  \n",
       "3776 -0.085701  \n",
       "3777 -0.119109  "
      ]
     },
     "execution_count": 19,
     "metadata": {},
     "output_type": "execute_result"
    }
   ],
   "source": [
    "vix_daily.head()"
   ]
  },
  {
   "cell_type": "code",
   "execution_count": 20,
   "metadata": {},
   "outputs": [
    {
     "data": {
      "text/html": [
       "<div>\n",
       "<style scoped>\n",
       "    .dataframe tbody tr th:only-of-type {\n",
       "        vertical-align: middle;\n",
       "    }\n",
       "\n",
       "    .dataframe tbody tr th {\n",
       "        vertical-align: top;\n",
       "    }\n",
       "\n",
       "    .dataframe thead th {\n",
       "        text-align: right;\n",
       "    }\n",
       "</style>\n",
       "<table border=\"1\" class=\"dataframe\">\n",
       "  <thead>\n",
       "    <tr style=\"text-align: right;\">\n",
       "      <th></th>\n",
       "      <th>Date</th>\n",
       "      <th>goldstein</th>\n",
       "      <th>numarticles</th>\n",
       "      <th>avgtone</th>\n",
       "      <th>quad_1</th>\n",
       "      <th>quad_2</th>\n",
       "      <th>quad_3</th>\n",
       "      <th>quad_4</th>\n",
       "      <th>nummentions</th>\n",
       "      <th>numsources</th>\n",
       "    </tr>\n",
       "  </thead>\n",
       "  <tbody>\n",
       "    <tr>\n",
       "      <th>0</th>\n",
       "      <td>20150101</td>\n",
       "      <td>1.897037</td>\n",
       "      <td>4.725926</td>\n",
       "      <td>-0.825348</td>\n",
       "      <td>0.644444</td>\n",
       "      <td>0.148148</td>\n",
       "      <td>0.133333</td>\n",
       "      <td>0.074074</td>\n",
       "      <td>4.800000</td>\n",
       "      <td>1.051852</td>\n",
       "    </tr>\n",
       "    <tr>\n",
       "      <th>1</th>\n",
       "      <td>20150102</td>\n",
       "      <td>1.594533</td>\n",
       "      <td>4.435427</td>\n",
       "      <td>-1.417967</td>\n",
       "      <td>0.554106</td>\n",
       "      <td>0.215378</td>\n",
       "      <td>0.135507</td>\n",
       "      <td>0.095008</td>\n",
       "      <td>4.472464</td>\n",
       "      <td>1.025926</td>\n",
       "    </tr>\n",
       "    <tr>\n",
       "      <th>2</th>\n",
       "      <td>20150103</td>\n",
       "      <td>1.229909</td>\n",
       "      <td>4.314567</td>\n",
       "      <td>-1.471946</td>\n",
       "      <td>0.579117</td>\n",
       "      <td>0.174491</td>\n",
       "      <td>0.127866</td>\n",
       "      <td>0.118526</td>\n",
       "      <td>4.374578</td>\n",
       "      <td>1.017284</td>\n",
       "    </tr>\n",
       "    <tr>\n",
       "      <th>3</th>\n",
       "      <td>20150104</td>\n",
       "      <td>0.623780</td>\n",
       "      <td>4.131904</td>\n",
       "      <td>-1.960373</td>\n",
       "      <td>0.528003</td>\n",
       "      <td>0.184420</td>\n",
       "      <td>0.117822</td>\n",
       "      <td>0.169754</td>\n",
       "      <td>4.190949</td>\n",
       "      <td>1.009490</td>\n",
       "    </tr>\n",
       "    <tr>\n",
       "      <th>4</th>\n",
       "      <td>20150105</td>\n",
       "      <td>-0.187060</td>\n",
       "      <td>4.205271</td>\n",
       "      <td>-2.220053</td>\n",
       "      <td>0.518608</td>\n",
       "      <td>0.136229</td>\n",
       "      <td>0.105671</td>\n",
       "      <td>0.239491</td>\n",
       "      <td>4.278631</td>\n",
       "      <td>1.020737</td>\n",
       "    </tr>\n",
       "    <tr>\n",
       "      <th>5</th>\n",
       "      <td>20150106</td>\n",
       "      <td>-0.388236</td>\n",
       "      <td>4.391113</td>\n",
       "      <td>-2.343902</td>\n",
       "      <td>0.472219</td>\n",
       "      <td>0.157855</td>\n",
       "      <td>0.115899</td>\n",
       "      <td>0.254027</td>\n",
       "      <td>4.455896</td>\n",
       "      <td>1.036019</td>\n",
       "    </tr>\n",
       "    <tr>\n",
       "      <th>6</th>\n",
       "      <td>20150107</td>\n",
       "      <td>-0.448297</td>\n",
       "      <td>4.646379</td>\n",
       "      <td>-2.464228</td>\n",
       "      <td>0.467086</td>\n",
       "      <td>0.148842</td>\n",
       "      <td>0.128386</td>\n",
       "      <td>0.255686</td>\n",
       "      <td>4.702782</td>\n",
       "      <td>1.066597</td>\n",
       "    </tr>\n",
       "    <tr>\n",
       "      <th>7</th>\n",
       "      <td>20150108</td>\n",
       "      <td>0.011180</td>\n",
       "      <td>4.517839</td>\n",
       "      <td>-2.225496</td>\n",
       "      <td>0.515029</td>\n",
       "      <td>0.140084</td>\n",
       "      <td>0.141703</td>\n",
       "      <td>0.203184</td>\n",
       "      <td>4.559928</td>\n",
       "      <td>1.062213</td>\n",
       "    </tr>\n",
       "    <tr>\n",
       "      <th>8</th>\n",
       "      <td>20150109</td>\n",
       "      <td>-0.108857</td>\n",
       "      <td>4.354789</td>\n",
       "      <td>-2.376277</td>\n",
       "      <td>0.500560</td>\n",
       "      <td>0.132083</td>\n",
       "      <td>0.153744</td>\n",
       "      <td>0.213614</td>\n",
       "      <td>4.382857</td>\n",
       "      <td>1.067287</td>\n",
       "    </tr>\n",
       "    <tr>\n",
       "      <th>9</th>\n",
       "      <td>20150110</td>\n",
       "      <td>-0.061400</td>\n",
       "      <td>4.085227</td>\n",
       "      <td>-2.374916</td>\n",
       "      <td>0.527416</td>\n",
       "      <td>0.123585</td>\n",
       "      <td>0.133651</td>\n",
       "      <td>0.215349</td>\n",
       "      <td>4.153684</td>\n",
       "      <td>1.063661</td>\n",
       "    </tr>\n",
       "  </tbody>\n",
       "</table>\n",
       "</div>"
      ],
      "text/plain": [
       "       Date  goldstein  numarticles   avgtone    quad_1    quad_2    quad_3  \\\n",
       "0  20150101   1.897037     4.725926 -0.825348  0.644444  0.148148  0.133333   \n",
       "1  20150102   1.594533     4.435427 -1.417967  0.554106  0.215378  0.135507   \n",
       "2  20150103   1.229909     4.314567 -1.471946  0.579117  0.174491  0.127866   \n",
       "3  20150104   0.623780     4.131904 -1.960373  0.528003  0.184420  0.117822   \n",
       "4  20150105  -0.187060     4.205271 -2.220053  0.518608  0.136229  0.105671   \n",
       "5  20150106  -0.388236     4.391113 -2.343902  0.472219  0.157855  0.115899   \n",
       "6  20150107  -0.448297     4.646379 -2.464228  0.467086  0.148842  0.128386   \n",
       "7  20150108   0.011180     4.517839 -2.225496  0.515029  0.140084  0.141703   \n",
       "8  20150109  -0.108857     4.354789 -2.376277  0.500560  0.132083  0.153744   \n",
       "9  20150110  -0.061400     4.085227 -2.374916  0.527416  0.123585  0.133651   \n",
       "\n",
       "     quad_4  nummentions  numsources  \n",
       "0  0.074074     4.800000    1.051852  \n",
       "1  0.095008     4.472464    1.025926  \n",
       "2  0.118526     4.374578    1.017284  \n",
       "3  0.169754     4.190949    1.009490  \n",
       "4  0.239491     4.278631    1.020737  \n",
       "5  0.254027     4.455896    1.036019  \n",
       "6  0.255686     4.702782    1.066597  \n",
       "7  0.203184     4.559928    1.062213  \n",
       "8  0.213614     4.382857    1.067287  \n",
       "9  0.215349     4.153684    1.063661  "
      ]
     },
     "execution_count": 20,
     "metadata": {},
     "output_type": "execute_result"
    }
   ],
   "source": [
    "three_day = df.rolling(3,min_periods = 1).mean()\n",
    "three_day['Date'] = df['Date']\n",
    "three_day.head(10)\n"
   ]
  },
  {
   "cell_type": "code",
   "execution_count": 21,
   "metadata": {},
   "outputs": [
    {
     "data": {
      "text/html": [
       "<div>\n",
       "<style scoped>\n",
       "    .dataframe tbody tr th:only-of-type {\n",
       "        vertical-align: middle;\n",
       "    }\n",
       "\n",
       "    .dataframe tbody tr th {\n",
       "        vertical-align: top;\n",
       "    }\n",
       "\n",
       "    .dataframe thead th {\n",
       "        text-align: right;\n",
       "    }\n",
       "</style>\n",
       "<table border=\"1\" class=\"dataframe\">\n",
       "  <thead>\n",
       "    <tr style=\"text-align: right;\">\n",
       "      <th></th>\n",
       "      <th>Date</th>\n",
       "      <th>Open</th>\n",
       "      <th>High</th>\n",
       "      <th>Low</th>\n",
       "      <th>Close</th>\n",
       "      <th>Adj Close</th>\n",
       "      <th>Volume</th>\n",
       "      <th>Return</th>\n",
       "      <th>Gap</th>\n",
       "    </tr>\n",
       "    <tr>\n",
       "      <th>Date</th>\n",
       "      <th></th>\n",
       "      <th></th>\n",
       "      <th></th>\n",
       "      <th></th>\n",
       "      <th></th>\n",
       "      <th></th>\n",
       "      <th></th>\n",
       "      <th></th>\n",
       "      <th></th>\n",
       "    </tr>\n",
       "  </thead>\n",
       "  <tbody>\n",
       "    <tr>\n",
       "      <th>2015-01-02</th>\n",
       "      <td>2015-01-02</td>\n",
       "      <td>17.760000</td>\n",
       "      <td>20.139999</td>\n",
       "      <td>17.049999</td>\n",
       "      <td>17.790001</td>\n",
       "      <td>17.790001</td>\n",
       "      <td>0</td>\n",
       "      <td>-0.073437</td>\n",
       "      <td>0.0</td>\n",
       "    </tr>\n",
       "    <tr>\n",
       "      <th>2015-01-05</th>\n",
       "      <td>2015-01-05</td>\n",
       "      <td>19.190001</td>\n",
       "      <td>21.290001</td>\n",
       "      <td>19.190001</td>\n",
       "      <td>19.920000</td>\n",
       "      <td>19.920000</td>\n",
       "      <td>0</td>\n",
       "      <td>0.119730</td>\n",
       "      <td>3.0</td>\n",
       "    </tr>\n",
       "    <tr>\n",
       "      <th>2015-01-06</th>\n",
       "      <td>2015-01-06</td>\n",
       "      <td>20.330000</td>\n",
       "      <td>22.900000</td>\n",
       "      <td>19.520000</td>\n",
       "      <td>21.120001</td>\n",
       "      <td>21.120001</td>\n",
       "      <td>0</td>\n",
       "      <td>0.060241</td>\n",
       "      <td>1.0</td>\n",
       "    </tr>\n",
       "    <tr>\n",
       "      <th>2015-01-07</th>\n",
       "      <td>2015-01-07</td>\n",
       "      <td>20.150000</td>\n",
       "      <td>20.719999</td>\n",
       "      <td>19.040001</td>\n",
       "      <td>19.309999</td>\n",
       "      <td>19.309999</td>\n",
       "      <td>0</td>\n",
       "      <td>-0.085701</td>\n",
       "      <td>1.0</td>\n",
       "    </tr>\n",
       "    <tr>\n",
       "      <th>2015-01-08</th>\n",
       "      <td>2015-01-08</td>\n",
       "      <td>17.930000</td>\n",
       "      <td>18.090000</td>\n",
       "      <td>16.990000</td>\n",
       "      <td>17.010000</td>\n",
       "      <td>17.010000</td>\n",
       "      <td>0</td>\n",
       "      <td>-0.119109</td>\n",
       "      <td>1.0</td>\n",
       "    </tr>\n",
       "  </tbody>\n",
       "</table>\n",
       "</div>"
      ],
      "text/plain": [
       "                 Date       Open       High        Low      Close  Adj Close  \\\n",
       "Date                                                                           \n",
       "2015-01-02 2015-01-02  17.760000  20.139999  17.049999  17.790001  17.790001   \n",
       "2015-01-05 2015-01-05  19.190001  21.290001  19.190001  19.920000  19.920000   \n",
       "2015-01-06 2015-01-06  20.330000  22.900000  19.520000  21.120001  21.120001   \n",
       "2015-01-07 2015-01-07  20.150000  20.719999  19.040001  19.309999  19.309999   \n",
       "2015-01-08 2015-01-08  17.930000  18.090000  16.990000  17.010000  17.010000   \n",
       "\n",
       "            Volume    Return  Gap  \n",
       "Date                               \n",
       "2015-01-02       0 -0.073437  0.0  \n",
       "2015-01-05       0  0.119730  3.0  \n",
       "2015-01-06       0  0.060241  1.0  \n",
       "2015-01-07       0 -0.085701  1.0  \n",
       "2015-01-08       0 -0.119109  1.0  "
      ]
     },
     "execution_count": 21,
     "metadata": {},
     "output_type": "execute_result"
    }
   ],
   "source": [
    "test_vix = vix_daily.copy()\n",
    "test_vix['Date']  = test_vix['Date'].apply(lambda x: pd.to_datetime(str(x), format='%Y%m%d'))\n",
    "test_vix['Gap'] = (test_vix.Date.diff() / pd.to_timedelta('1 day')).fillna(0)\n",
    "test_vix.index = test_vix['Date']\n",
    "test_vix.head()"
   ]
  },
  {
   "cell_type": "code",
   "execution_count": 22,
   "metadata": {},
   "outputs": [],
   "source": [
    "#test_vix.Date.dt.weekday "
   ]
  },
  {
   "cell_type": "code",
   "execution_count": 23,
   "metadata": {},
   "outputs": [
    {
     "data": {
      "text/html": [
       "<div>\n",
       "<style scoped>\n",
       "    .dataframe tbody tr th:only-of-type {\n",
       "        vertical-align: middle;\n",
       "    }\n",
       "\n",
       "    .dataframe tbody tr th {\n",
       "        vertical-align: top;\n",
       "    }\n",
       "\n",
       "    .dataframe thead th {\n",
       "        text-align: right;\n",
       "    }\n",
       "</style>\n",
       "<table border=\"1\" class=\"dataframe\">\n",
       "  <thead>\n",
       "    <tr style=\"text-align: right;\">\n",
       "      <th></th>\n",
       "      <th>Date</th>\n",
       "      <th>Open</th>\n",
       "      <th>High</th>\n",
       "      <th>Low</th>\n",
       "      <th>Close</th>\n",
       "      <th>Adj Close</th>\n",
       "      <th>Volume</th>\n",
       "      <th>Return</th>\n",
       "    </tr>\n",
       "  </thead>\n",
       "  <tbody>\n",
       "    <tr>\n",
       "      <th>3773</th>\n",
       "      <td>20150102</td>\n",
       "      <td>17.760000</td>\n",
       "      <td>20.139999</td>\n",
       "      <td>17.049999</td>\n",
       "      <td>17.790001</td>\n",
       "      <td>17.790001</td>\n",
       "      <td>0</td>\n",
       "      <td>-0.073437</td>\n",
       "    </tr>\n",
       "    <tr>\n",
       "      <th>3774</th>\n",
       "      <td>20150105</td>\n",
       "      <td>19.190001</td>\n",
       "      <td>21.290001</td>\n",
       "      <td>19.190001</td>\n",
       "      <td>19.920000</td>\n",
       "      <td>19.920000</td>\n",
       "      <td>0</td>\n",
       "      <td>0.119730</td>\n",
       "    </tr>\n",
       "    <tr>\n",
       "      <th>3775</th>\n",
       "      <td>20150106</td>\n",
       "      <td>20.330000</td>\n",
       "      <td>22.900000</td>\n",
       "      <td>19.520000</td>\n",
       "      <td>21.120001</td>\n",
       "      <td>21.120001</td>\n",
       "      <td>0</td>\n",
       "      <td>0.060241</td>\n",
       "    </tr>\n",
       "    <tr>\n",
       "      <th>3776</th>\n",
       "      <td>20150107</td>\n",
       "      <td>20.150000</td>\n",
       "      <td>20.719999</td>\n",
       "      <td>19.040001</td>\n",
       "      <td>19.309999</td>\n",
       "      <td>19.309999</td>\n",
       "      <td>0</td>\n",
       "      <td>-0.085701</td>\n",
       "    </tr>\n",
       "    <tr>\n",
       "      <th>3777</th>\n",
       "      <td>20150108</td>\n",
       "      <td>17.930000</td>\n",
       "      <td>18.090000</td>\n",
       "      <td>16.990000</td>\n",
       "      <td>17.010000</td>\n",
       "      <td>17.010000</td>\n",
       "      <td>0</td>\n",
       "      <td>-0.119109</td>\n",
       "    </tr>\n",
       "  </tbody>\n",
       "</table>\n",
       "</div>"
      ],
      "text/plain": [
       "          Date       Open       High        Low      Close  Adj Close  Volume  \\\n",
       "3773  20150102  17.760000  20.139999  17.049999  17.790001  17.790001       0   \n",
       "3774  20150105  19.190001  21.290001  19.190001  19.920000  19.920000       0   \n",
       "3775  20150106  20.330000  22.900000  19.520000  21.120001  21.120001       0   \n",
       "3776  20150107  20.150000  20.719999  19.040001  19.309999  19.309999       0   \n",
       "3777  20150108  17.930000  18.090000  16.990000  17.010000  17.010000       0   \n",
       "\n",
       "        Return  \n",
       "3773 -0.073437  \n",
       "3774  0.119730  \n",
       "3775  0.060241  \n",
       "3776 -0.085701  \n",
       "3777 -0.119109  "
      ]
     },
     "execution_count": 23,
     "metadata": {},
     "output_type": "execute_result"
    }
   ],
   "source": [
    "vix_daily.head()"
   ]
  },
  {
   "cell_type": "code",
   "execution_count": 24,
   "metadata": {},
   "outputs": [],
   "source": [
    "import datetime\n",
    "test_df = df.copy()\n",
    "test_df['Date']  = test_df['Date'].apply(lambda x: pd.to_datetime(str(x), format='%Y%m%d'))\n",
    "test_df.index = test_df.Date\n",
    "test_df = test_df.drop(columns = 'Date')\n",
    "\n",
    "df_monthly = test_df.resample('M').mean()\n",
    "df_weekly = test_df.resample('W').mean()\n",
    "\n",
    "from pandas.tseries.offsets import BDay\n",
    "isBusinessDay = BDay().onOffset\n",
    "#test_df[test_df.index.dayofweek == 1]\n",
    "#test_df[test_df.index.map(isBusinessDay)]\n",
    "\n",
    "days = [i for i in test_df.index]\n",
    "\n",
    "for i,j in enumerate(days):\n",
    "    if j not in test_vix.Date:\n",
    "        days[i] = days[i-1]\n",
    "days[0] = pd.to_datetime(str(20150101), format='%Y%m%d')\n",
    "test_df.index = days\n",
    "test_df['Date'] = test_df.index\n",
    "df_daily = test_df.groupby('Date').mean()[:-1]"
   ]
  },
  {
   "cell_type": "code",
   "execution_count": 25,
   "metadata": {},
   "outputs": [
    {
     "data": {
      "text/plain": [
       "(1039, 8)"
      ]
     },
     "execution_count": 25,
     "metadata": {},
     "output_type": "execute_result"
    }
   ],
   "source": [
    "vix_daily.shape"
   ]
  },
  {
   "cell_type": "code",
   "execution_count": 26,
   "metadata": {},
   "outputs": [
    {
     "data": {
      "text/html": [
       "<div>\n",
       "<style scoped>\n",
       "    .dataframe tbody tr th:only-of-type {\n",
       "        vertical-align: middle;\n",
       "    }\n",
       "\n",
       "    .dataframe tbody tr th {\n",
       "        vertical-align: top;\n",
       "    }\n",
       "\n",
       "    .dataframe thead th {\n",
       "        text-align: right;\n",
       "    }\n",
       "</style>\n",
       "<table border=\"1\" class=\"dataframe\">\n",
       "  <thead>\n",
       "    <tr style=\"text-align: right;\">\n",
       "      <th></th>\n",
       "      <th>Date</th>\n",
       "      <th>Open</th>\n",
       "      <th>High</th>\n",
       "      <th>Low</th>\n",
       "      <th>Close</th>\n",
       "      <th>Adj Close</th>\n",
       "      <th>Volume</th>\n",
       "      <th>Return</th>\n",
       "    </tr>\n",
       "  </thead>\n",
       "  <tbody>\n",
       "    <tr>\n",
       "      <th>180</th>\n",
       "      <td>20150101</td>\n",
       "      <td>17.760000</td>\n",
       "      <td>23.430000</td>\n",
       "      <td>15.52</td>\n",
       "      <td>20.969999</td>\n",
       "      <td>20.969999</td>\n",
       "      <td>0</td>\n",
       "      <td>0.092187</td>\n",
       "    </tr>\n",
       "    <tr>\n",
       "      <th>181</th>\n",
       "      <td>20150201</td>\n",
       "      <td>20.889999</td>\n",
       "      <td>22.809999</td>\n",
       "      <td>12.86</td>\n",
       "      <td>13.340000</td>\n",
       "      <td>13.340000</td>\n",
       "      <td>0</td>\n",
       "      <td>-0.363853</td>\n",
       "    </tr>\n",
       "    <tr>\n",
       "      <th>182</th>\n",
       "      <td>20150301</td>\n",
       "      <td>13.900000</td>\n",
       "      <td>17.190001</td>\n",
       "      <td>12.54</td>\n",
       "      <td>15.290000</td>\n",
       "      <td>15.290000</td>\n",
       "      <td>0</td>\n",
       "      <td>0.146177</td>\n",
       "    </tr>\n",
       "    <tr>\n",
       "      <th>183</th>\n",
       "      <td>20150401</td>\n",
       "      <td>15.320000</td>\n",
       "      <td>16.660000</td>\n",
       "      <td>12.12</td>\n",
       "      <td>14.550000</td>\n",
       "      <td>14.550000</td>\n",
       "      <td>0</td>\n",
       "      <td>-0.048398</td>\n",
       "    </tr>\n",
       "    <tr>\n",
       "      <th>184</th>\n",
       "      <td>20150501</td>\n",
       "      <td>13.980000</td>\n",
       "      <td>16.360001</td>\n",
       "      <td>11.82</td>\n",
       "      <td>13.840000</td>\n",
       "      <td>13.840000</td>\n",
       "      <td>0</td>\n",
       "      <td>-0.048797</td>\n",
       "    </tr>\n",
       "  </tbody>\n",
       "</table>\n",
       "</div>"
      ],
      "text/plain": [
       "         Date       Open       High    Low      Close  Adj Close  Volume  \\\n",
       "180  20150101  17.760000  23.430000  15.52  20.969999  20.969999       0   \n",
       "181  20150201  20.889999  22.809999  12.86  13.340000  13.340000       0   \n",
       "182  20150301  13.900000  17.190001  12.54  15.290000  15.290000       0   \n",
       "183  20150401  15.320000  16.660000  12.12  14.550000  14.550000       0   \n",
       "184  20150501  13.980000  16.360001  11.82  13.840000  13.840000       0   \n",
       "\n",
       "      Return   \n",
       "180  0.092187  \n",
       "181 -0.363853  \n",
       "182  0.146177  \n",
       "183 -0.048398  \n",
       "184 -0.048797  "
      ]
     },
     "execution_count": 26,
     "metadata": {},
     "output_type": "execute_result"
    }
   ],
   "source": [
    "vix_monthly.head()"
   ]
  },
  {
   "cell_type": "code",
   "execution_count": 27,
   "metadata": {},
   "outputs": [
    {
     "data": {
      "text/html": [
       "<div>\n",
       "<style scoped>\n",
       "    .dataframe tbody tr th:only-of-type {\n",
       "        vertical-align: middle;\n",
       "    }\n",
       "\n",
       "    .dataframe tbody tr th {\n",
       "        vertical-align: top;\n",
       "    }\n",
       "\n",
       "    .dataframe thead th {\n",
       "        text-align: right;\n",
       "    }\n",
       "</style>\n",
       "<table border=\"1\" class=\"dataframe\">\n",
       "  <thead>\n",
       "    <tr style=\"text-align: right;\">\n",
       "      <th></th>\n",
       "      <th>Date</th>\n",
       "      <th>Open</th>\n",
       "      <th>High</th>\n",
       "      <th>Low</th>\n",
       "      <th>Close</th>\n",
       "      <th>Adj Close</th>\n",
       "      <th>Volume</th>\n",
       "      <th>Return</th>\n",
       "    </tr>\n",
       "  </thead>\n",
       "  <tbody>\n",
       "    <tr>\n",
       "      <th>3773</th>\n",
       "      <td>20150102</td>\n",
       "      <td>17.760000</td>\n",
       "      <td>20.139999</td>\n",
       "      <td>17.049999</td>\n",
       "      <td>17.790001</td>\n",
       "      <td>17.790001</td>\n",
       "      <td>0</td>\n",
       "      <td>-0.073437</td>\n",
       "    </tr>\n",
       "    <tr>\n",
       "      <th>3774</th>\n",
       "      <td>20150105</td>\n",
       "      <td>19.190001</td>\n",
       "      <td>21.290001</td>\n",
       "      <td>19.190001</td>\n",
       "      <td>19.920000</td>\n",
       "      <td>19.920000</td>\n",
       "      <td>0</td>\n",
       "      <td>0.119730</td>\n",
       "    </tr>\n",
       "    <tr>\n",
       "      <th>3775</th>\n",
       "      <td>20150106</td>\n",
       "      <td>20.330000</td>\n",
       "      <td>22.900000</td>\n",
       "      <td>19.520000</td>\n",
       "      <td>21.120001</td>\n",
       "      <td>21.120001</td>\n",
       "      <td>0</td>\n",
       "      <td>0.060241</td>\n",
       "    </tr>\n",
       "    <tr>\n",
       "      <th>3776</th>\n",
       "      <td>20150107</td>\n",
       "      <td>20.150000</td>\n",
       "      <td>20.719999</td>\n",
       "      <td>19.040001</td>\n",
       "      <td>19.309999</td>\n",
       "      <td>19.309999</td>\n",
       "      <td>0</td>\n",
       "      <td>-0.085701</td>\n",
       "    </tr>\n",
       "    <tr>\n",
       "      <th>3777</th>\n",
       "      <td>20150108</td>\n",
       "      <td>17.930000</td>\n",
       "      <td>18.090000</td>\n",
       "      <td>16.990000</td>\n",
       "      <td>17.010000</td>\n",
       "      <td>17.010000</td>\n",
       "      <td>0</td>\n",
       "      <td>-0.119109</td>\n",
       "    </tr>\n",
       "  </tbody>\n",
       "</table>\n",
       "</div>"
      ],
      "text/plain": [
       "          Date       Open       High        Low      Close  Adj Close  Volume  \\\n",
       "3773  20150102  17.760000  20.139999  17.049999  17.790001  17.790001       0   \n",
       "3774  20150105  19.190001  21.290001  19.190001  19.920000  19.920000       0   \n",
       "3775  20150106  20.330000  22.900000  19.520000  21.120001  21.120001       0   \n",
       "3776  20150107  20.150000  20.719999  19.040001  19.309999  19.309999       0   \n",
       "3777  20150108  17.930000  18.090000  16.990000  17.010000  17.010000       0   \n",
       "\n",
       "        Return  \n",
       "3773 -0.073437  \n",
       "3774  0.119730  \n",
       "3775  0.060241  \n",
       "3776 -0.085701  \n",
       "3777 -0.119109  "
      ]
     },
     "execution_count": 27,
     "metadata": {},
     "output_type": "execute_result"
    }
   ],
   "source": [
    "vix_daily.head()"
   ]
  },
  {
   "cell_type": "code",
   "execution_count": 28,
   "metadata": {},
   "outputs": [
    {
     "data": {
      "text/plain": [
       "[<matplotlib.lines.Line2D at 0x10fd99278>]"
      ]
     },
     "execution_count": 28,
     "metadata": {},
     "output_type": "execute_result"
    },
    {
     "data": {
      "image/png": "[encoded data removed]",
      "text/plain": [
       "<Figure size 432x288 with 1 Axes>"
      ]
     },
     "metadata": {
      "needs_background": "light"
     },
     "output_type": "display_data"
    }
   ],
   "source": [
    "plt.plot(range(len(vix_monthly['Return '])), vix_monthly['Return '])\n",
    "plt.plot(range(len(df_monthly.goldstein)), df_monthly.goldstein)"
   ]
  },
  {
   "cell_type": "code",
   "execution_count": 39,
   "metadata": {},
   "outputs": [
    {
     "data": {
      "text/plain": [
       "(1039, 9)"
      ]
     },
     "execution_count": 39,
     "metadata": {},
     "output_type": "execute_result"
    }
   ],
   "source": [
    "df_daily.shape"
   ]
  },
  {
   "cell_type": "code",
   "execution_count": 40,
   "metadata": {},
   "outputs": [
    {
     "data": {
      "text/html": [
       "<div>\n",
       "<style scoped>\n",
       "    .dataframe tbody tr th:only-of-type {\n",
       "        vertical-align: middle;\n",
       "    }\n",
       "\n",
       "    .dataframe tbody tr th {\n",
       "        vertical-align: top;\n",
       "    }\n",
       "\n",
       "    .dataframe thead th {\n",
       "        text-align: right;\n",
       "    }\n",
       "</style>\n",
       "<table border=\"1\" class=\"dataframe\">\n",
       "  <thead>\n",
       "    <tr style=\"text-align: right;\">\n",
       "      <th></th>\n",
       "      <th>Date</th>\n",
       "      <th>Open</th>\n",
       "      <th>High</th>\n",
       "      <th>Low</th>\n",
       "      <th>Close</th>\n",
       "      <th>Adj Close</th>\n",
       "      <th>Volume</th>\n",
       "      <th>Return</th>\n",
       "    </tr>\n",
       "  </thead>\n",
       "  <tbody>\n",
       "    <tr>\n",
       "      <th>0</th>\n",
       "      <td>2000/1/3</td>\n",
       "      <td>24.360001</td>\n",
       "      <td>26.150000</td>\n",
       "      <td>23.980000</td>\n",
       "      <td>24.209999</td>\n",
       "      <td>24.209999</td>\n",
       "      <td>0</td>\n",
       "      <td>NaN</td>\n",
       "    </tr>\n",
       "    <tr>\n",
       "      <th>1</th>\n",
       "      <td>2000/1/4</td>\n",
       "      <td>24.940001</td>\n",
       "      <td>27.180000</td>\n",
       "      <td>24.799999</td>\n",
       "      <td>27.010000</td>\n",
       "      <td>27.010000</td>\n",
       "      <td>0</td>\n",
       "      <td>0.115655</td>\n",
       "    </tr>\n",
       "    <tr>\n",
       "      <th>2</th>\n",
       "      <td>2000/1/5</td>\n",
       "      <td>27.980000</td>\n",
       "      <td>29.000000</td>\n",
       "      <td>25.850000</td>\n",
       "      <td>26.410000</td>\n",
       "      <td>26.410000</td>\n",
       "      <td>0</td>\n",
       "      <td>-0.022214</td>\n",
       "    </tr>\n",
       "    <tr>\n",
       "      <th>3</th>\n",
       "      <td>2000/1/6</td>\n",
       "      <td>26.680000</td>\n",
       "      <td>26.709999</td>\n",
       "      <td>24.700001</td>\n",
       "      <td>25.730000</td>\n",
       "      <td>25.730000</td>\n",
       "      <td>0</td>\n",
       "      <td>-0.025748</td>\n",
       "    </tr>\n",
       "    <tr>\n",
       "      <th>4</th>\n",
       "      <td>2000/1/7</td>\n",
       "      <td>25.139999</td>\n",
       "      <td>25.170000</td>\n",
       "      <td>21.719999</td>\n",
       "      <td>21.719999</td>\n",
       "      <td>21.719999</td>\n",
       "      <td>0</td>\n",
       "      <td>-0.155849</td>\n",
       "    </tr>\n",
       "  </tbody>\n",
       "</table>\n",
       "</div>"
      ],
      "text/plain": [
       "       Date       Open       High        Low      Close  Adj Close  Volume  \\\n",
       "0  2000/1/3  24.360001  26.150000  23.980000  24.209999  24.209999       0   \n",
       "1  2000/1/4  24.940001  27.180000  24.799999  27.010000  27.010000       0   \n",
       "2  2000/1/5  27.980000  29.000000  25.850000  26.410000  26.410000       0   \n",
       "3  2000/1/6  26.680000  26.709999  24.700001  25.730000  25.730000       0   \n",
       "4  2000/1/7  25.139999  25.170000  21.719999  21.719999  21.719999       0   \n",
       "\n",
       "     Return  \n",
       "0       NaN  \n",
       "1  0.115655  \n",
       "2 -0.022214  \n",
       "3 -0.025748  \n",
       "4 -0.155849  "
      ]
     },
     "execution_count": 40,
     "metadata": {},
     "output_type": "execute_result"
    }
   ],
   "source": [
    "vix_daily.head()"
   ]
  },
  {
   "cell_type": "code",
   "execution_count": 42,
   "metadata": {},
   "outputs": [
    {
     "data": {
      "text/html": [
       "<div>\n",
       "<style scoped>\n",
       "    .dataframe tbody tr th:only-of-type {\n",
       "        vertical-align: middle;\n",
       "    }\n",
       "\n",
       "    .dataframe tbody tr th {\n",
       "        vertical-align: top;\n",
       "    }\n",
       "\n",
       "    .dataframe thead th {\n",
       "        text-align: right;\n",
       "    }\n",
       "</style>\n",
       "<table border=\"1\" class=\"dataframe\">\n",
       "  <thead>\n",
       "    <tr style=\"text-align: right;\">\n",
       "      <th></th>\n",
       "      <th>Date</th>\n",
       "      <th>Open</th>\n",
       "      <th>High</th>\n",
       "      <th>Low</th>\n",
       "      <th>Close</th>\n",
       "      <th>Adj Close</th>\n",
       "      <th>Volume</th>\n",
       "      <th>Return</th>\n",
       "      <th>sign</th>\n",
       "    </tr>\n",
       "  </thead>\n",
       "  <tbody>\n",
       "    <tr>\n",
       "      <th>0</th>\n",
       "      <td>2000/1/3</td>\n",
       "      <td>24.360001</td>\n",
       "      <td>26.150000</td>\n",
       "      <td>23.980000</td>\n",
       "      <td>24.209999</td>\n",
       "      <td>24.209999</td>\n",
       "      <td>0</td>\n",
       "      <td>NaN</td>\n",
       "      <td>0</td>\n",
       "    </tr>\n",
       "    <tr>\n",
       "      <th>1</th>\n",
       "      <td>2000/1/4</td>\n",
       "      <td>24.940001</td>\n",
       "      <td>27.180000</td>\n",
       "      <td>24.799999</td>\n",
       "      <td>27.010000</td>\n",
       "      <td>27.010000</td>\n",
       "      <td>0</td>\n",
       "      <td>0.115655</td>\n",
       "      <td>1</td>\n",
       "    </tr>\n",
       "    <tr>\n",
       "      <th>2</th>\n",
       "      <td>2000/1/5</td>\n",
       "      <td>27.980000</td>\n",
       "      <td>29.000000</td>\n",
       "      <td>25.850000</td>\n",
       "      <td>26.410000</td>\n",
       "      <td>26.410000</td>\n",
       "      <td>0</td>\n",
       "      <td>-0.022214</td>\n",
       "      <td>0</td>\n",
       "    </tr>\n",
       "    <tr>\n",
       "      <th>3</th>\n",
       "      <td>2000/1/6</td>\n",
       "      <td>26.680000</td>\n",
       "      <td>26.709999</td>\n",
       "      <td>24.700001</td>\n",
       "      <td>25.730000</td>\n",
       "      <td>25.730000</td>\n",
       "      <td>0</td>\n",
       "      <td>-0.025748</td>\n",
       "      <td>0</td>\n",
       "    </tr>\n",
       "    <tr>\n",
       "      <th>4</th>\n",
       "      <td>2000/1/7</td>\n",
       "      <td>25.139999</td>\n",
       "      <td>25.170000</td>\n",
       "      <td>21.719999</td>\n",
       "      <td>21.719999</td>\n",
       "      <td>21.719999</td>\n",
       "      <td>0</td>\n",
       "      <td>-0.155849</td>\n",
       "      <td>0</td>\n",
       "    </tr>\n",
       "  </tbody>\n",
       "</table>\n",
       "</div>"
      ],
      "text/plain": [
       "       Date       Open       High        Low      Close  Adj Close  Volume  \\\n",
       "0  2000/1/3  24.360001  26.150000  23.980000  24.209999  24.209999       0   \n",
       "1  2000/1/4  24.940001  27.180000  24.799999  27.010000  27.010000       0   \n",
       "2  2000/1/5  27.980000  29.000000  25.850000  26.410000  26.410000       0   \n",
       "3  2000/1/6  26.680000  26.709999  24.700001  25.730000  25.730000       0   \n",
       "4  2000/1/7  25.139999  25.170000  21.719999  21.719999  21.719999       0   \n",
       "\n",
       "     Return  sign  \n",
       "0       NaN     0  \n",
       "1  0.115655     1  \n",
       "2 -0.022214     0  \n",
       "3 -0.025748     0  \n",
       "4 -0.155849     0  "
      ]
     },
     "execution_count": 42,
     "metadata": {},
     "output_type": "execute_result"
    }
   ],
   "source": [
    "vix_daily['sign'] = vix_daily['Return'].apply(lambda x: 1 if x>=0 else 0)\n",
    "vix_daily.head()\n"
   ]
  },
  {
   "cell_type": "code",
   "execution_count": 45,
   "metadata": {},
   "outputs": [
    {
     "data": {
      "text/html": [
       "<div>\n",
       "<style scoped>\n",
       "    .dataframe tbody tr th:only-of-type {\n",
       "        vertical-align: middle;\n",
       "    }\n",
       "\n",
       "    .dataframe tbody tr th {\n",
       "        vertical-align: top;\n",
       "    }\n",
       "\n",
       "    .dataframe thead th {\n",
       "        text-align: right;\n",
       "    }\n",
       "</style>\n",
       "<table border=\"1\" class=\"dataframe\">\n",
       "  <thead>\n",
       "    <tr style=\"text-align: right;\">\n",
       "      <th></th>\n",
       "      <th>goldstein</th>\n",
       "      <th>numarticles</th>\n",
       "      <th>avgtone</th>\n",
       "      <th>quad_1</th>\n",
       "      <th>quad_2</th>\n",
       "      <th>quad_3</th>\n",
       "      <th>quad_4</th>\n",
       "      <th>nummentions</th>\n",
       "      <th>numsources</th>\n",
       "      <th>previous_sign</th>\n",
       "    </tr>\n",
       "    <tr>\n",
       "      <th>Date</th>\n",
       "      <th></th>\n",
       "      <th></th>\n",
       "      <th></th>\n",
       "      <th></th>\n",
       "      <th></th>\n",
       "      <th></th>\n",
       "      <th></th>\n",
       "      <th></th>\n",
       "      <th></th>\n",
       "      <th></th>\n",
       "    </tr>\n",
       "  </thead>\n",
       "  <tbody>\n",
       "    <tr>\n",
       "      <th>2015-01-01</th>\n",
       "      <td>1.897037</td>\n",
       "      <td>4.725926</td>\n",
       "      <td>-0.825348</td>\n",
       "      <td>0.644444</td>\n",
       "      <td>0.148148</td>\n",
       "      <td>0.133333</td>\n",
       "      <td>0.074074</td>\n",
       "      <td>4.800000</td>\n",
       "      <td>1.051852</td>\n",
       "      <td>NaN</td>\n",
       "    </tr>\n",
       "    <tr>\n",
       "      <th>2015-01-02</th>\n",
       "      <td>0.623780</td>\n",
       "      <td>4.131904</td>\n",
       "      <td>-1.960373</td>\n",
       "      <td>0.528003</td>\n",
       "      <td>0.184420</td>\n",
       "      <td>0.117822</td>\n",
       "      <td>0.169754</td>\n",
       "      <td>4.190949</td>\n",
       "      <td>1.009490</td>\n",
       "      <td>NaN</td>\n",
       "    </tr>\n",
       "    <tr>\n",
       "      <th>2015-01-05</th>\n",
       "      <td>-1.140491</td>\n",
       "      <td>4.365031</td>\n",
       "      <td>-2.789627</td>\n",
       "      <td>0.435583</td>\n",
       "      <td>0.138037</td>\n",
       "      <td>0.101227</td>\n",
       "      <td>0.325153</td>\n",
       "      <td>4.407975</td>\n",
       "      <td>1.033742</td>\n",
       "      <td>NaN</td>\n",
       "    </tr>\n",
       "    <tr>\n",
       "      <th>2015-01-06</th>\n",
       "      <td>-0.102865</td>\n",
       "      <td>4.630372</td>\n",
       "      <td>-1.951449</td>\n",
       "      <td>0.489971</td>\n",
       "      <td>0.157593</td>\n",
       "      <td>0.143266</td>\n",
       "      <td>0.209169</td>\n",
       "      <td>4.710602</td>\n",
       "      <td>1.045845</td>\n",
       "      <td>NaN</td>\n",
       "    </tr>\n",
       "    <tr>\n",
       "      <th>2015-01-07</th>\n",
       "      <td>-0.101535</td>\n",
       "      <td>4.943734</td>\n",
       "      <td>-2.651608</td>\n",
       "      <td>0.475703</td>\n",
       "      <td>0.150895</td>\n",
       "      <td>0.140665</td>\n",
       "      <td>0.232737</td>\n",
       "      <td>4.989770</td>\n",
       "      <td>1.120205</td>\n",
       "      <td>NaN</td>\n",
       "    </tr>\n",
       "  </tbody>\n",
       "</table>\n",
       "</div>"
      ],
      "text/plain": [
       "            goldstein  numarticles   avgtone    quad_1    quad_2    quad_3  \\\n",
       "Date                                                                         \n",
       "2015-01-01   1.897037     4.725926 -0.825348  0.644444  0.148148  0.133333   \n",
       "2015-01-02   0.623780     4.131904 -1.960373  0.528003  0.184420  0.117822   \n",
       "2015-01-05  -1.140491     4.365031 -2.789627  0.435583  0.138037  0.101227   \n",
       "2015-01-06  -0.102865     4.630372 -1.951449  0.489971  0.157593  0.143266   \n",
       "2015-01-07  -0.101535     4.943734 -2.651608  0.475703  0.150895  0.140665   \n",
       "\n",
       "              quad_4  nummentions  numsources  previous_sign  \n",
       "Date                                                          \n",
       "2015-01-01  0.074074     4.800000    1.051852            NaN  \n",
       "2015-01-02  0.169754     4.190949    1.009490            NaN  \n",
       "2015-01-05  0.325153     4.407975    1.033742            NaN  \n",
       "2015-01-06  0.209169     4.710602    1.045845            NaN  \n",
       "2015-01-07  0.232737     4.989770    1.120205            NaN  "
      ]
     },
     "execution_count": 45,
     "metadata": {},
     "output_type": "execute_result"
    }
   ],
   "source": [
    "df_daily.head()"
   ]
  },
  {
   "cell_type": "code",
   "execution_count": 31,
   "metadata": {},
   "outputs": [],
   "source": [
    "vix_weekly.loc[:,'sign'] = vix_weekly['Return'].apply(lambda x: 1 if x>=0 else 0)\n",
    "vix_monthly.loc[:,'sign'] = vix_monthly['Return '].apply(lambda x: 1 if x>=0 else 0)\n",
    "\n",
    "vix_weekly = vix_weekly[1::]\n",
    "df_weekly = df_weekly[:-3]\n",
    "vix_monthly = vix_monthly[2::]\n",
    "df_monthly = df_monthly[:-2]"
   ]
  },
  {
   "cell_type": "code",
   "execution_count": 32,
   "metadata": {},
   "outputs": [],
   "source": [
    "vix_daily['extreme'] = vix_daily['Return'].apply(lambda x: 1 if np.absolute (x) >= .1 else 0)\n",
    "vix_weekly['extreme'] = vix_weekly['Return'].apply(lambda x: 1 if np.absolute (x) >= .1 else 0)\n",
    "vix_monthly['extreme'] = vix_monthly['Return '].apply(lambda x: 1 if np.absolute (x) >= .1 else 0)"
   ]
  },
  {
   "cell_type": "code",
   "execution_count": null,
   "metadata": {},
   "outputs": [],
   "source": []
  },
  {
   "cell_type": "code",
   "execution_count": 33,
   "metadata": {},
   "outputs": [
    {
     "data": {
      "text/html": [
       "<div>\n",
       "<style scoped>\n",
       "    .dataframe tbody tr th:only-of-type {\n",
       "        vertical-align: middle;\n",
       "    }\n",
       "\n",
       "    .dataframe tbody tr th {\n",
       "        vertical-align: top;\n",
       "    }\n",
       "\n",
       "    .dataframe thead th {\n",
       "        text-align: right;\n",
       "    }\n",
       "</style>\n",
       "<table border=\"1\" class=\"dataframe\">\n",
       "  <thead>\n",
       "    <tr style=\"text-align: right;\">\n",
       "      <th></th>\n",
       "      <th>goldstein</th>\n",
       "      <th>numarticles</th>\n",
       "      <th>avgtone</th>\n",
       "      <th>quad_1</th>\n",
       "      <th>quad_2</th>\n",
       "      <th>quad_3</th>\n",
       "      <th>numsources</th>\n",
       "    </tr>\n",
       "  </thead>\n",
       "  <tbody>\n",
       "    <tr>\n",
       "      <th>goldstein</th>\n",
       "      <td>1.000000</td>\n",
       "      <td>0.010095</td>\n",
       "      <td>0.625721</td>\n",
       "      <td>0.684583</td>\n",
       "      <td>0.228727</td>\n",
       "      <td>-0.281290</td>\n",
       "      <td>0.007987</td>\n",
       "    </tr>\n",
       "    <tr>\n",
       "      <th>numarticles</th>\n",
       "      <td>0.010095</td>\n",
       "      <td>1.000000</td>\n",
       "      <td>0.061615</td>\n",
       "      <td>0.025351</td>\n",
       "      <td>0.090660</td>\n",
       "      <td>-0.269937</td>\n",
       "      <td>0.506949</td>\n",
       "    </tr>\n",
       "    <tr>\n",
       "      <th>avgtone</th>\n",
       "      <td>0.625721</td>\n",
       "      <td>0.061615</td>\n",
       "      <td>1.000000</td>\n",
       "      <td>0.574521</td>\n",
       "      <td>-0.032124</td>\n",
       "      <td>-0.214796</td>\n",
       "      <td>-0.057606</td>\n",
       "    </tr>\n",
       "    <tr>\n",
       "      <th>quad_1</th>\n",
       "      <td>0.684583</td>\n",
       "      <td>0.025351</td>\n",
       "      <td>0.574521</td>\n",
       "      <td>1.000000</td>\n",
       "      <td>-0.447761</td>\n",
       "      <td>-0.376837</td>\n",
       "      <td>0.033553</td>\n",
       "    </tr>\n",
       "    <tr>\n",
       "      <th>quad_2</th>\n",
       "      <td>0.228727</td>\n",
       "      <td>0.090660</td>\n",
       "      <td>-0.032124</td>\n",
       "      <td>-0.447761</td>\n",
       "      <td>1.000000</td>\n",
       "      <td>-0.177854</td>\n",
       "      <td>0.004887</td>\n",
       "    </tr>\n",
       "    <tr>\n",
       "      <th>quad_3</th>\n",
       "      <td>-0.281290</td>\n",
       "      <td>-0.269937</td>\n",
       "      <td>-0.214796</td>\n",
       "      <td>-0.376837</td>\n",
       "      <td>-0.177854</td>\n",
       "      <td>1.000000</td>\n",
       "      <td>-0.103556</td>\n",
       "    </tr>\n",
       "    <tr>\n",
       "      <th>numsources</th>\n",
       "      <td>0.007987</td>\n",
       "      <td>0.506949</td>\n",
       "      <td>-0.057606</td>\n",
       "      <td>0.033553</td>\n",
       "      <td>0.004887</td>\n",
       "      <td>-0.103556</td>\n",
       "      <td>1.000000</td>\n",
       "    </tr>\n",
       "  </tbody>\n",
       "</table>\n",
       "</div>"
      ],
      "text/plain": [
       "             goldstein  numarticles   avgtone    quad_1    quad_2    quad_3  \\\n",
       "goldstein     1.000000     0.010095  0.625721  0.684583  0.228727 -0.281290   \n",
       "numarticles   0.010095     1.000000  0.061615  0.025351  0.090660 -0.269937   \n",
       "avgtone       0.625721     0.061615  1.000000  0.574521 -0.032124 -0.214796   \n",
       "quad_1        0.684583     0.025351  0.574521  1.000000 -0.447761 -0.376837   \n",
       "quad_2        0.228727     0.090660 -0.032124 -0.447761  1.000000 -0.177854   \n",
       "quad_3       -0.281290    -0.269937 -0.214796 -0.376837 -0.177854  1.000000   \n",
       "numsources    0.007987     0.506949 -0.057606  0.033553  0.004887 -0.103556   \n",
       "\n",
       "             numsources  \n",
       "goldstein      0.007987  \n",
       "numarticles    0.506949  \n",
       "avgtone       -0.057606  \n",
       "quad_1         0.033553  \n",
       "quad_2         0.004887  \n",
       "quad_3        -0.103556  \n",
       "numsources     1.000000  "
      ]
     },
     "execution_count": 33,
     "metadata": {},
     "output_type": "execute_result"
    }
   ],
   "source": [
    "df_daily[['goldstein','numarticles','avgtone','quad_1','quad_2','quad_3','numsources']].corr()"
   ]
  },
  {
   "cell_type": "code",
   "execution_count": 34,
   "metadata": {},
   "outputs": [
    {
     "data": {
      "text/plain": [
       "<matplotlib.axes._subplots.AxesSubplot at 0x11afa6128>"
      ]
     },
     "execution_count": 34,
     "metadata": {},
     "output_type": "execute_result"
    },
    {
     "data": {
      "image/png": "[encoded data removed]",
      "text/plain": [
       "<Figure size 432x288 with 1 Axes>"
      ]
     },
     "metadata": {
      "needs_background": "light"
     },
     "output_type": "display_data"
    }
   ],
   "source": [
    "vix_daily.Close.hist()"
   ]
  },
  {
   "cell_type": "code",
   "execution_count": 35,
   "metadata": {},
   "outputs": [
    {
     "data": {
      "text/plain": [
       "<matplotlib.collections.PathCollection at 0x11b0ace10>"
      ]
     },
     "execution_count": 35,
     "metadata": {},
     "output_type": "execute_result"
    },
    {
     "data": {
      "image/png": "[encoded data removed]",
      "text/plain": [
       "<Figure size 432x288 with 1 Axes>"
      ]
     },
     "metadata": {
      "needs_background": "light"
     },
     "output_type": "display_data"
    }
   ],
   "source": [
    "plt.scatter(vix_daily.Close, df_daily['avgtone'])"
   ]
  },
  {
   "cell_type": "code",
   "execution_count": 208,
   "metadata": {},
   "outputs": [
    {
     "name": "stdout",
     "output_type": "stream",
     "text": [
      "{'fit_time': array([0.14233613, 0.14512372, 0.1421566 , 0.16436887, 0.15036225,\n",
      "       0.14570594, 0.15237689, 0.1496892 , 0.14422178, 0.14279389]), 'score_time': array([0.00193882, 0.00194621, 0.00195622, 0.00260305, 0.00193882,\n",
      "       0.00208616, 0.00195217, 0.00193787, 0.00199819, 0.00196886]), 'test_r2': array([-0.44416906, -0.10769886, -0.12317124, -0.24667091, -0.07075153,\n",
      "       -0.41578406, -0.09372815, -0.01207938, -0.42256467, -0.23904674]), 'train_r2': array([0.85070535, 0.89192418, 0.86496933, 0.88328115, 0.8799548 ,\n",
      "       0.86396487, 0.87129057, 0.84848861, 0.88526702, 0.86366984]), 'test_neg_mean_squared_error': array([-0.00653273, -0.01295807, -0.00747908, -0.00825603, -0.00652967,\n",
      "       -0.0072609 , -0.00682719, -0.0215876 , -0.00727815, -0.01083529]), 'train_neg_mean_squared_error': array([-0.00128997, -0.0008471 , -0.00113443, -0.00098103, -0.00101598,\n",
      "       -0.00116588, -0.00108728, -0.00102513, -0.0009834 , -0.00111376])}\n"
     ]
    },
    {
     "data": {
      "image/png": "[encoded data removed]",
      "text/plain": [
       "<Figure size 432x288 with 1 Axes>"
      ]
     },
     "metadata": {},
     "output_type": "display_data"
    }
   ],
   "source": [
    "import seaborn as sns; sns.set()\n",
    "\n",
    "def train_shift(num):\n",
    "    y = vix_daily['Return'].shift(num)[num::]\n",
    "    X = df_daily.iloc[:-num][['goldstein','numarticles','avgtone','quad_1','quad_2','quad_3','numsources']]\n",
    "    scalar = StandardScaler()\n",
    "    scalar.fit(X)\n",
    "    X = scalar.transform(X)\n",
    "    X_train, X_test, y_train, y_test = train_test_split(X, y, test_size=0.2, shuffle = True, random_state = 0)\n",
    "\n",
    "    gbm = xgb.XGBRegressor(objective = 'reg:linear',\n",
    "                       min_child_weight = 1,\n",
    "                       eta = .1,gamma = 0,n_estimators = 100, max_depth = 6)\n",
    "    \n",
    "    gbm.fit(X_train,y_train)\n",
    "    \n",
    "    print(cross_validate(gbm,X,y , cv = 10 ,\n",
    "               scoring=('r2', 'neg_mean_squared_error'),\n",
    "                return_train_score = True))\n",
    "    \n",
    "    y_predict = gbm.predict(np.array(pd.DataFrame(X_test,index = y_test.index).sort_index()))\n",
    "    g = sns.lineplot(x=y_test.sort_index().index, y=y_test.sort_index(), color = 'lightblue', label = 'Actual')\n",
    "    g = sns.lineplot(y_test.sort_index().index,y_predict, label = 'Predicted') \n",
    "    g.set(xlabel='Time step', ylabel='Percent Change', title = 'Predicted VIX vs actual VIX with %d days delay'%(num))\n",
    "    \n",
    "    #plt.plot(y_test.sort_index())\n",
    "    #plt.plot(y_test.sort_index().index,y_predict)\n",
    "    \n",
    "\n",
    "train_shift(7)"
   ]
  },
  {
   "cell_type": "code",
   "execution_count": 213,
   "metadata": {},
   "outputs": [
    {
     "name": "stdout",
     "output_type": "stream",
     "text": [
      "{'fit_time': array([0.14191413, 0.15415788, 0.14931583, 0.17191696, 0.14784479,\n",
      "       0.14750195, 0.14377499, 0.14797211, 0.14378691, 0.14531207]), 'score_time': array([0.00205588, 0.00191617, 0.0023911 , 0.00296712, 0.0019362 ,\n",
      "       0.00201392, 0.00201321, 0.00182605, 0.00200772, 0.00197196]), 'test_r2': array([-0.31939446, -0.1083342 , -0.11359168, -0.19177595, -0.10996434,\n",
      "       -0.39347663, -0.10368609,  0.04141921, -0.3305674 , -0.22366511]), 'train_r2': array([0.85320895, 0.89443257, 0.87661518, 0.86380766, 0.87823534,\n",
      "       0.87428142, 0.87312626, 0.84073434, 0.88528065, 0.8725213 ]), 'test_neg_mean_squared_error': array([-0.00596831, -0.01302755, -0.00737494, -0.00799549, -0.00666185,\n",
      "       -0.0072762 , -0.00688722, -0.02040035, -0.0068214 , -0.01069262]), 'train_neg_mean_squared_error': array([-0.00126912, -0.00082765, -0.00103772, -0.00114403, -0.00103248,\n",
      "       -0.00107675, -0.00107244, -0.00107869, -0.00098375, -0.0010422 ])}\n"
     ]
    },
    {
     "data": {
      "image/png": "[encoded data removed]",
      "text/plain": [
       "<Figure size 432x288 with 1 Axes>"
      ]
     },
     "metadata": {},
     "output_type": "display_data"
    }
   ],
   "source": [
    "train_shift(8)"
   ]
  },
  {
   "cell_type": "code",
   "execution_count": 210,
   "metadata": {},
   "outputs": [
    {
     "name": "stdout",
     "output_type": "stream",
     "text": [
      "{'fit_time': array([0.16118503, 0.14123511, 0.16669989, 0.15887713, 0.15077806,\n",
      "       0.14413619, 0.19669604, 0.20313787, 0.16035676, 0.1571238 ]), 'score_time': array([0.00212717, 0.00281596, 0.00210714, 0.00210404, 0.004035  ,\n",
      "       0.00212479, 0.00337481, 0.00185418, 0.00319409, 0.0019381 ]), 'test_r2': array([-0.33847044, -0.11576607, -0.13823909, -0.24109098, -0.15743407,\n",
      "       -0.49055335, -0.18089555, -0.00483488, -0.23208171, -0.29678302]), 'train_r2': array([0.85245866, 0.89528348, 0.88810521, 0.88551057, 0.88330688,\n",
      "       0.87845114, 0.88223639, 0.86250903, 0.86718664, 0.88800524]), 'test_neg_mean_squared_error': array([-0.00616666, -0.0132162 , -0.00759576, -0.00833853, -0.0071877 ,\n",
      "       -0.00773315, -0.00724146, -0.02091771, -0.00756954, -0.01110819]), 'train_neg_mean_squared_error': array([-0.00128663, -0.00082854, -0.00095018, -0.00097134, -0.00099668,\n",
      "       -0.00105181, -0.00100685, -0.00094981, -0.00113488, -0.00092721])}\n"
     ]
    },
    {
     "data": {
      "image/png": "[encoded data removed]",
      "text/plain": [
       "<Figure size 432x288 with 1 Axes>"
      ]
     },
     "metadata": {},
     "output_type": "display_data"
    }
   ],
   "source": [
    "train_shift(26)"
   ]
  },
  {
   "cell_type": "code",
   "execution_count": 59,
   "metadata": {},
   "outputs": [
    {
     "data": {
      "text/plain": [
       "LinearRegression(copy_X=True, fit_intercept=True, n_jobs=None,\n",
       "         normalize=False)"
      ]
     },
     "execution_count": 59,
     "metadata": {},
     "output_type": "execute_result"
    }
   ],
   "source": [
    "from patsy import dmatrix\n",
    "from sklearn.linear_model import LinearRegression\n",
    "from sklearn.preprocessing import StandardScaler\n",
    "import xgboost as xgb\n",
    "from sklearn.model_selection import train_test_split\n",
    "from sklearn.preprocessing import StandardScaler\n",
    "from sklearn.preprocessing import Normalizer\n",
    "from sklearn.metrics import accuracy_score\n",
    "from sklearn.linear_model import LogisticRegression\n",
    "from sklearn.decomposition import PCA\n",
    "from sklearn.metrics import f1_score\n",
    "from sklearn.linear_model import LinearRegression\n",
    "from sklearn.svm import SVR\n",
    "from sklearn.svm import SVC\n",
    "\n",
    "\n",
    "lm = LinearRegression()\n",
    "svr = SVR()\n",
    "svc = SVC()\n",
    "\n",
    "y = df_price['sign']\n",
    "#X = df_daily.loc[::-4,:]\n",
    "#y = vix_weekly['sign']\n",
    "#y = vix_monthly['sign']\n",
    "#X = df_daily[['goldstein','numarticles','avgtone','quad_1','quad_2','quad_3','quad_4','avg source']]\n",
    "X = df_daily[['goldstein','numarticles','avgtone','quad_1','quad_2','quad_3','numsources']].loc[:y.index[-2],:]\n",
    "#X = df_daily[['previous']]\n",
    "#X = df_weekly[['goldstein','avgtone','quad_1','quad_2','quad_3','avg source']]\n",
    "#X = df_monthly[['goldstein','avgtone','quad_1','quad_2','quad_3','avg source']]\n",
    "\n",
    "# norm = Normalizer()\n",
    "# norm.fit(X)\n",
    "# X = norm.transform(X)\n",
    "\n",
    "scalar = StandardScaler()\n",
    "scalar.fit(X)\n",
    "X = scalar.transform(X)\n",
    "\n",
    "feature_mean = df_daily[['goldstein','numarticles','avgtone','quad_1','quad_2','quad_3','numsources']].mean()\n",
    "\n",
    "\n",
    "log = LogisticRegression(solver = 'lbfgs')\n",
    "#gbm = xgb.XGBRegressor(objective = 'reg:linear',eta = .01, min_child_weight = 1, gamma = 0,n_estimators = 100, max_depth = 3)\n",
    "gbm = xgb.XGBClassifier(objective = 'binary:logistic', n_estimators = 10,max_depth = 2,normalize = False)\n",
    "X_train, X_test, y_train, y_test = train_test_split(X, y, test_size=0.2, shuffle = True, random_state = 0)\n",
    "\n",
    "gbm.fit(X_train,y_train)\n",
    "lm.fit(X_train,y_train)\n",
    "# X_train = scalar.transform(X_train)\n",
    "# X_test = scalar.transform(X_test)\n"
   ]
  },
  {
   "cell_type": "code",
   "execution_count": 245,
   "metadata": {},
   "outputs": [
    {
     "data": {
      "image/svg+xml": [
       "<?xml version=\"1.0\" encoding=\"UTF-8\" standalone=\"no\"?>\n",
       "<!DOCTYPE svg PUBLIC \"-//W3C//DTD SVG 1.1//EN\"\n",
       " \"http://www.w3.org/Graphics/SVG/1.1/DTD/svg11.dtd\">\n",
       "<!-- Generated by graphviz version 2.38.0 (20140413.2041)\n",
       " -->\n",
       "<!-- Title: %3 Pages: 1 -->\n",
       "<svg width=\"580pt\" height=\"410pt\"\n",
       " viewBox=\"0.00 0.00 579.54 410.07\" xmlns=\"http://www.w3.org/2000/svg\" xmlns:xlink=\"http://www.w3.org/1999/xlink\">\n",
       "<g id=\"graph0\" class=\"graph\" transform=\"scale(1 1) rotate(0) translate(4 406.065)\">\n",
       "<title>%3</title>\n",
       "<polygon fill=\"white\" stroke=\"none\" points=\"-4,4 -4,-406.065 575.537,-406.065 575.537,4 -4,4\"/>\n",
       "<!-- 0 -->\n",
       "<g id=\"node1\" class=\"node\"><title>0</title>\n",
       "<ellipse fill=\"none\" stroke=\"black\" cx=\"299.519\" cy=\"-337.922\" rx=\"64.2873\" ry=\"64.2873\"/>\n",
       "<text text-anchor=\"middle\" x=\"299.519\" y=\"-333.722\" font-family=\"Times,serif\" font-size=\"14.00\">f2&lt;1.64563811</text>\n",
       "</g>\n",
       "<!-- 1 -->\n",
       "<g id=\"node2\" class=\"node\"><title>1</title>\n",
       "<ellipse fill=\"none\" stroke=\"black\" cx=\"217.519\" cy=\"-154.889\" rx=\"64.2873\" ry=\"64.2873\"/>\n",
       "<text text-anchor=\"middle\" x=\"217.519\" y=\"-150.689\" font-family=\"Times,serif\" font-size=\"14.00\">f0&lt;0.68249011</text>\n",
       "</g>\n",
       "<!-- 0&#45;&gt;1 -->\n",
       "<g id=\"edge1\" class=\"edge\"><title>0&#45;&gt;1</title>\n",
       "<path fill=\"none\" stroke=\"#0000ff\" d=\"M270.918,-280.395C266.928,-272.177 262.947,-263.789 259.291,-255.778 254.613,-245.528 249.835,-234.602 245.261,-223.877\"/>\n",
       "<polygon fill=\"#0000ff\" stroke=\"#0000ff\" points=\"248.424,-222.371 241.302,-214.527 241.978,-225.101 248.424,-222.371\"/>\n",
       "<text text-anchor=\"middle\" x=\"294.132\" y=\"-244.578\" font-family=\"Times,serif\" font-size=\"14.00\">yes, missing</text>\n",
       "</g>\n",
       "<!-- 2 -->\n",
       "<g id=\"node3\" class=\"node\"><title>2</title>\n",
       "<ellipse fill=\"none\" stroke=\"black\" cx=\"368.519\" cy=\"-154.889\" rx=\"68.7784\" ry=\"68.7784\"/>\n",
       "<text text-anchor=\"middle\" x=\"368.519\" y=\"-150.689\" font-family=\"Times,serif\" font-size=\"14.00\">f5&lt;0.490398884</text>\n",
       "</g>\n",
       "<!-- 0&#45;&gt;2 -->\n",
       "<g id=\"edge2\" class=\"edge\"><title>0&#45;&gt;2</title>\n",
       "<path fill=\"none\" stroke=\"#ff0000\" d=\"M322.112,-277.645C328.026,-262.129 334.472,-245.217 340.626,-229.069\"/>\n",
       "<polygon fill=\"#ff0000\" stroke=\"#ff0000\" points=\"343.919,-230.258 344.21,-219.667 337.378,-227.764 343.919,-230.258\"/>\n",
       "<text text-anchor=\"middle\" x=\"341.519\" y=\"-244.578\" font-family=\"Times,serif\" font-size=\"14.00\">no</text>\n",
       "</g>\n",
       "<!-- 3 -->\n",
       "<g id=\"node4\" class=\"node\"><title>3</title>\n",
       "<polygon fill=\"none\" stroke=\"black\" points=\"137.056,-36 -0.0185597,-36 -0.0185597,-0 137.056,-0 137.056,-36\"/>\n",
       "<text text-anchor=\"middle\" x=\"68.5186\" y=\"-13.8\" font-family=\"Times,serif\" font-size=\"14.00\">leaf=&#45;0.00637416029</text>\n",
       "</g>\n",
       "<!-- 1&#45;&gt;3 -->\n",
       "<g id=\"edge3\" class=\"edge\"><title>1&#45;&gt;3</title>\n",
       "<path fill=\"none\" stroke=\"#0000ff\" d=\"M170.374,-111.209C145.426,-88.6239 115.725,-61.7359 94.8529,-42.8404\"/>\n",
       "<polygon fill=\"#0000ff\" stroke=\"#0000ff\" points=\"97.0764,-40.1321 87.314,-36.0155 92.3785,-45.3215 97.0764,-40.1321\"/>\n",
       "<text text-anchor=\"middle\" x=\"156.132\" y=\"-56.8\" font-family=\"Times,serif\" font-size=\"14.00\">yes, missing</text>\n",
       "</g>\n",
       "<!-- 4 -->\n",
       "<g id=\"node5\" class=\"node\"><title>4</title>\n",
       "<polygon fill=\"none\" stroke=\"black\" points=\"285.556,-36 155.481,-36 155.481,-0 285.556,-0 285.556,-36\"/>\n",
       "<text text-anchor=\"middle\" x=\"220.519\" y=\"-13.8\" font-family=\"Times,serif\" font-size=\"14.00\">leaf=&#45;0.0659576803</text>\n",
       "</g>\n",
       "<!-- 1&#45;&gt;4 -->\n",
       "<g id=\"edge4\" class=\"edge\"><title>1&#45;&gt;4</title>\n",
       "<path fill=\"none\" stroke=\"#ff0000\" d=\"M218.931,-90.3944C219.274,-74.962 219.623,-59.2529 219.907,-46.5138\"/>\n",
       "<polygon fill=\"#ff0000\" stroke=\"#ff0000\" points=\"223.413,-46.2405 220.137,-36.1651 216.415,-46.0848 223.413,-46.2405\"/>\n",
       "<text text-anchor=\"middle\" x=\"227.519\" y=\"-56.8\" font-family=\"Times,serif\" font-size=\"14.00\">no</text>\n",
       "</g>\n",
       "<!-- 5 -->\n",
       "<g id=\"node6\" class=\"node\"><title>5</title>\n",
       "<polygon fill=\"none\" stroke=\"black\" points=\"423.381,-36 305.656,-36 305.656,-0 423.381,-0 423.381,-36\"/>\n",
       "<text text-anchor=\"middle\" x=\"364.519\" y=\"-13.8\" font-family=\"Times,serif\" font-size=\"14.00\">leaf=0.119502641</text>\n",
       "</g>\n",
       "<!-- 2&#45;&gt;5 -->\n",
       "<g id=\"edge5\" class=\"edge\"><title>2&#45;&gt;5</title>\n",
       "<path fill=\"none\" stroke=\"#0000ff\" d=\"M366.495,-85.6542C366.081,-71.6897 365.668,-57.7704 365.328,-46.2914\"/>\n",
       "<polygon fill=\"#0000ff\" stroke=\"#0000ff\" points=\"368.821,-46.0034 365.026,-36.1116 361.824,-46.211 368.821,-46.0034\"/>\n",
       "<text text-anchor=\"middle\" x=\"401.132\" y=\"-56.8\" font-family=\"Times,serif\" font-size=\"14.00\">yes, missing</text>\n",
       "</g>\n",
       "<!-- 6 -->\n",
       "<g id=\"node7\" class=\"node\"><title>6</title>\n",
       "<polygon fill=\"none\" stroke=\"black\" points=\"571.556,-36 441.481,-36 441.481,-0 571.556,-0 571.556,-36\"/>\n",
       "<text text-anchor=\"middle\" x=\"506.519\" y=\"-13.8\" font-family=\"Times,serif\" font-size=\"14.00\">leaf=&#45;0.0261612777</text>\n",
       "</g>\n",
       "<!-- 2&#45;&gt;6 -->\n",
       "<g id=\"edge6\" class=\"edge\"><title>2&#45;&gt;6</title>\n",
       "<path fill=\"none\" stroke=\"#ff0000\" d=\"M417.561,-105.952C439.253,-84.7496 463.824,-60.7323 481.638,-43.32\"/>\n",
       "<polygon fill=\"#ff0000\" stroke=\"#ff0000\" points=\"484.126,-45.7824 488.83,-36.2895 479.233,-40.7766 484.126,-45.7824\"/>\n",
       "<text text-anchor=\"middle\" x=\"476.519\" y=\"-56.8\" font-family=\"Times,serif\" font-size=\"14.00\">no</text>\n",
       "</g>\n",
       "</g>\n",
       "</svg>\n"
      ],
      "text/plain": [
       "<graphviz.dot.Digraph at 0x1a23e9db70>"
      ]
     },
     "execution_count": 245,
     "metadata": {},
     "output_type": "execute_result"
    }
   ],
   "source": [
    "plot = xgb.to_graphviz(gbm,num_trees = 2)\n",
    "plot.render()\n",
    "plot"
   ]
  },
  {
   "cell_type": "code",
   "execution_count": 60,
   "metadata": {},
   "outputs": [],
   "source": [
    "def avg_accuracy(iteration,X,y):\n",
    "    a = []\n",
    "    for i in range(iteration):\n",
    "        X_train, X_test, y_train, y_test = train_test_split(X, y, test_size=0.2, shuffle = False)\n",
    "        gbm.fit(X_train,y_train)\n",
    "        y_predict = gbm.predict(X_test)\n",
    "        a.append(accuracy_score(y_predict, y_test))\n",
    "    return(np.mean(a))"
   ]
  },
  {
   "cell_type": "code",
   "execution_count": 471,
   "metadata": {},
   "outputs": [
    {
     "data": {
      "text/plain": [
       "goldstein      0.545265\n",
       "numarticles    4.384079\n",
       "avgtone       -1.929612\n",
       "quad_1         0.599350\n",
       "quad_2         0.131563\n",
       "quad_3         0.126046\n",
       "numsources     1.100101\n",
       "dtype: float64"
      ]
     },
     "execution_count": 471,
     "metadata": {},
     "output_type": "execute_result"
    }
   ],
   "source": [
    "df_daily[['goldstein','numarticles','avgtone','quad_1','quad_2','quad_3','numsources']].mean()"
   ]
  },
  {
   "cell_type": "code",
   "execution_count": 431,
   "metadata": {},
   "outputs": [
    {
     "data": {
      "text/html": [
       "<div>\n",
       "<style scoped>\n",
       "    .dataframe tbody tr th:only-of-type {\n",
       "        vertical-align: middle;\n",
       "    }\n",
       "\n",
       "    .dataframe tbody tr th {\n",
       "        vertical-align: top;\n",
       "    }\n",
       "\n",
       "    .dataframe thead th {\n",
       "        text-align: right;\n",
       "    }\n",
       "</style>\n",
       "<table border=\"1\" class=\"dataframe\">\n",
       "  <thead>\n",
       "    <tr style=\"text-align: right;\">\n",
       "      <th></th>\n",
       "      <th>goldstein</th>\n",
       "      <th>numarticles</th>\n",
       "      <th>avgtone</th>\n",
       "      <th>quad_1</th>\n",
       "      <th>quad_2</th>\n",
       "      <th>quad_3</th>\n",
       "      <th>quad_4</th>\n",
       "      <th>nummentions</th>\n",
       "      <th>numsources</th>\n",
       "      <th>previous_sign</th>\n",
       "      <th>vix</th>\n",
       "      <th>previous</th>\n",
       "      <th>previous pct</th>\n",
       "    </tr>\n",
       "  </thead>\n",
       "  <tbody>\n",
       "    <tr>\n",
       "      <th>0</th>\n",
       "      <td>1.897037</td>\n",
       "      <td>4.725926</td>\n",
       "      <td>-0.825348</td>\n",
       "      <td>0.644444</td>\n",
       "      <td>0.148148</td>\n",
       "      <td>0.133333</td>\n",
       "      <td>0.074074</td>\n",
       "      <td>4.800000</td>\n",
       "      <td>1.051852</td>\n",
       "      <td>NaN</td>\n",
       "      <td>17.790001</td>\n",
       "      <td>15.158285</td>\n",
       "      <td>0.003388</td>\n",
       "    </tr>\n",
       "    <tr>\n",
       "      <th>1</th>\n",
       "      <td>0.623780</td>\n",
       "      <td>4.131904</td>\n",
       "      <td>-1.960373</td>\n",
       "      <td>0.528003</td>\n",
       "      <td>0.184420</td>\n",
       "      <td>0.117822</td>\n",
       "      <td>0.169754</td>\n",
       "      <td>4.190949</td>\n",
       "      <td>1.009490</td>\n",
       "      <td>NaN</td>\n",
       "      <td>19.920000</td>\n",
       "      <td>17.790001</td>\n",
       "      <td>-0.073437</td>\n",
       "    </tr>\n",
       "    <tr>\n",
       "      <th>2</th>\n",
       "      <td>-1.140491</td>\n",
       "      <td>4.365031</td>\n",
       "      <td>-2.789627</td>\n",
       "      <td>0.435583</td>\n",
       "      <td>0.138037</td>\n",
       "      <td>0.101227</td>\n",
       "      <td>0.325153</td>\n",
       "      <td>4.407975</td>\n",
       "      <td>1.033742</td>\n",
       "      <td>NaN</td>\n",
       "      <td>21.120001</td>\n",
       "      <td>19.920000</td>\n",
       "      <td>0.119730</td>\n",
       "    </tr>\n",
       "    <tr>\n",
       "      <th>3</th>\n",
       "      <td>-0.102865</td>\n",
       "      <td>4.630372</td>\n",
       "      <td>-1.951449</td>\n",
       "      <td>0.489971</td>\n",
       "      <td>0.157593</td>\n",
       "      <td>0.143266</td>\n",
       "      <td>0.209169</td>\n",
       "      <td>4.710602</td>\n",
       "      <td>1.045845</td>\n",
       "      <td>NaN</td>\n",
       "      <td>19.309999</td>\n",
       "      <td>21.120001</td>\n",
       "      <td>0.060241</td>\n",
       "    </tr>\n",
       "    <tr>\n",
       "      <th>4</th>\n",
       "      <td>-0.101535</td>\n",
       "      <td>4.943734</td>\n",
       "      <td>-2.651608</td>\n",
       "      <td>0.475703</td>\n",
       "      <td>0.150895</td>\n",
       "      <td>0.140665</td>\n",
       "      <td>0.232737</td>\n",
       "      <td>4.989770</td>\n",
       "      <td>1.120205</td>\n",
       "      <td>NaN</td>\n",
       "      <td>17.010000</td>\n",
       "      <td>19.309999</td>\n",
       "      <td>-0.085701</td>\n",
       "    </tr>\n",
       "  </tbody>\n",
       "</table>\n",
       "</div>"
      ],
      "text/plain": [
       "   goldstein  numarticles   avgtone    quad_1    quad_2    quad_3    quad_4  \\\n",
       "0   1.897037     4.725926 -0.825348  0.644444  0.148148  0.133333  0.074074   \n",
       "1   0.623780     4.131904 -1.960373  0.528003  0.184420  0.117822  0.169754   \n",
       "2  -1.140491     4.365031 -2.789627  0.435583  0.138037  0.101227  0.325153   \n",
       "3  -0.102865     4.630372 -1.951449  0.489971  0.157593  0.143266  0.209169   \n",
       "4  -0.101535     4.943734 -2.651608  0.475703  0.150895  0.140665  0.232737   \n",
       "\n",
       "   nummentions  numsources  previous_sign        vix   previous  previous pct  \n",
       "0     4.800000    1.051852            NaN  17.790001  15.158285      0.003388  \n",
       "1     4.190949    1.009490            NaN  19.920000  17.790001     -0.073437  \n",
       "2     4.407975    1.033742            NaN  21.120001  19.920000      0.119730  \n",
       "3     4.710602    1.045845            NaN  19.309999  21.120001      0.060241  \n",
       "4     4.989770    1.120205            NaN  17.010000  19.309999     -0.085701  "
      ]
     },
     "execution_count": 431,
     "metadata": {},
     "output_type": "execute_result"
    }
   ],
   "source": [
    "df_daily['vix'] = vix_daily['Close']\n",
    "df_daily['previous'] = vix_daily['Close'].shift()\n",
    "df_daily.head()\n",
    "df_daily['previous'] = df_daily['previous'].fillna(df_daily.previous.mean())\n",
    "df_daily['previous pct'] = vix_daily['Return'].shift()\n",
    "df_daily['previous pct'] = df_daily['previous pct'].fillna(df_daily['previous pct'].mean())\n",
    "df_daily.head()"
   ]
  },
  {
   "cell_type": "code",
   "execution_count": 229,
   "metadata": {},
   "outputs": [
    {
     "data": {
      "text/html": [
       "<div>\n",
       "<style scoped>\n",
       "    .dataframe tbody tr th:only-of-type {\n",
       "        vertical-align: middle;\n",
       "    }\n",
       "\n",
       "    .dataframe tbody tr th {\n",
       "        vertical-align: top;\n",
       "    }\n",
       "\n",
       "    .dataframe thead th {\n",
       "        text-align: right;\n",
       "    }\n",
       "</style>\n",
       "<table border=\"1\" class=\"dataframe\">\n",
       "  <thead>\n",
       "    <tr style=\"text-align: right;\">\n",
       "      <th></th>\n",
       "      <th>goldstein</th>\n",
       "      <th>numarticles</th>\n",
       "      <th>avgtone</th>\n",
       "      <th>quad_1</th>\n",
       "      <th>quad_2</th>\n",
       "      <th>quad_3</th>\n",
       "      <th>quad_4</th>\n",
       "      <th>nummentions</th>\n",
       "      <th>numsources</th>\n",
       "      <th>previous_sign</th>\n",
       "    </tr>\n",
       "  </thead>\n",
       "  <tbody>\n",
       "    <tr>\n",
       "      <th>goldstein</th>\n",
       "      <td>1.000000</td>\n",
       "      <td>0.010095</td>\n",
       "      <td>0.625721</td>\n",
       "      <td>0.684583</td>\n",
       "      <td>0.228727</td>\n",
       "      <td>-0.281290</td>\n",
       "      <td>-0.860495</td>\n",
       "      <td>-0.008073</td>\n",
       "      <td>0.007987</td>\n",
       "      <td>NaN</td>\n",
       "    </tr>\n",
       "    <tr>\n",
       "      <th>numarticles</th>\n",
       "      <td>0.010095</td>\n",
       "      <td>1.000000</td>\n",
       "      <td>0.061615</td>\n",
       "      <td>0.025351</td>\n",
       "      <td>0.090660</td>\n",
       "      <td>-0.269937</td>\n",
       "      <td>0.074514</td>\n",
       "      <td>0.983356</td>\n",
       "      <td>0.506949</td>\n",
       "      <td>NaN</td>\n",
       "    </tr>\n",
       "    <tr>\n",
       "      <th>avgtone</th>\n",
       "      <td>0.625721</td>\n",
       "      <td>0.061615</td>\n",
       "      <td>1.000000</td>\n",
       "      <td>0.574521</td>\n",
       "      <td>-0.032124</td>\n",
       "      <td>-0.214796</td>\n",
       "      <td>-0.600289</td>\n",
       "      <td>0.031823</td>\n",
       "      <td>-0.057606</td>\n",
       "      <td>NaN</td>\n",
       "    </tr>\n",
       "    <tr>\n",
       "      <th>quad_1</th>\n",
       "      <td>0.684583</td>\n",
       "      <td>0.025351</td>\n",
       "      <td>0.574521</td>\n",
       "      <td>1.000000</td>\n",
       "      <td>-0.447761</td>\n",
       "      <td>-0.376837</td>\n",
       "      <td>-0.807642</td>\n",
       "      <td>0.042019</td>\n",
       "      <td>0.033553</td>\n",
       "      <td>NaN</td>\n",
       "    </tr>\n",
       "    <tr>\n",
       "      <th>quad_2</th>\n",
       "      <td>0.228727</td>\n",
       "      <td>0.090660</td>\n",
       "      <td>-0.032124</td>\n",
       "      <td>-0.447761</td>\n",
       "      <td>1.000000</td>\n",
       "      <td>-0.177854</td>\n",
       "      <td>0.089290</td>\n",
       "      <td>0.067509</td>\n",
       "      <td>0.004887</td>\n",
       "      <td>NaN</td>\n",
       "    </tr>\n",
       "    <tr>\n",
       "      <th>quad_3</th>\n",
       "      <td>-0.281290</td>\n",
       "      <td>-0.269937</td>\n",
       "      <td>-0.214796</td>\n",
       "      <td>-0.376837</td>\n",
       "      <td>-0.177854</td>\n",
       "      <td>1.000000</td>\n",
       "      <td>-0.002370</td>\n",
       "      <td>-0.282098</td>\n",
       "      <td>-0.103556</td>\n",
       "      <td>NaN</td>\n",
       "    </tr>\n",
       "    <tr>\n",
       "      <th>quad_4</th>\n",
       "      <td>-0.860495</td>\n",
       "      <td>0.074514</td>\n",
       "      <td>-0.600289</td>\n",
       "      <td>-0.807642</td>\n",
       "      <td>0.089290</td>\n",
       "      <td>-0.002370</td>\n",
       "      <td>1.000000</td>\n",
       "      <td>0.074007</td>\n",
       "      <td>0.015503</td>\n",
       "      <td>NaN</td>\n",
       "    </tr>\n",
       "    <tr>\n",
       "      <th>nummentions</th>\n",
       "      <td>-0.008073</td>\n",
       "      <td>0.983356</td>\n",
       "      <td>0.031823</td>\n",
       "      <td>0.042019</td>\n",
       "      <td>0.067509</td>\n",
       "      <td>-0.282098</td>\n",
       "      <td>0.074007</td>\n",
       "      <td>1.000000</td>\n",
       "      <td>0.503506</td>\n",
       "      <td>NaN</td>\n",
       "    </tr>\n",
       "    <tr>\n",
       "      <th>numsources</th>\n",
       "      <td>0.007987</td>\n",
       "      <td>0.506949</td>\n",
       "      <td>-0.057606</td>\n",
       "      <td>0.033553</td>\n",
       "      <td>0.004887</td>\n",
       "      <td>-0.103556</td>\n",
       "      <td>0.015503</td>\n",
       "      <td>0.503506</td>\n",
       "      <td>1.000000</td>\n",
       "      <td>NaN</td>\n",
       "    </tr>\n",
       "    <tr>\n",
       "      <th>previous_sign</th>\n",
       "      <td>NaN</td>\n",
       "      <td>NaN</td>\n",
       "      <td>NaN</td>\n",
       "      <td>NaN</td>\n",
       "      <td>NaN</td>\n",
       "      <td>NaN</td>\n",
       "      <td>NaN</td>\n",
       "      <td>NaN</td>\n",
       "      <td>NaN</td>\n",
       "      <td>NaN</td>\n",
       "    </tr>\n",
       "  </tbody>\n",
       "</table>\n",
       "</div>"
      ],
      "text/plain": [
       "               goldstein  numarticles   avgtone    quad_1    quad_2    quad_3  \\\n",
       "goldstein       1.000000     0.010095  0.625721  0.684583  0.228727 -0.281290   \n",
       "numarticles     0.010095     1.000000  0.061615  0.025351  0.090660 -0.269937   \n",
       "avgtone         0.625721     0.061615  1.000000  0.574521 -0.032124 -0.214796   \n",
       "quad_1          0.684583     0.025351  0.574521  1.000000 -0.447761 -0.376837   \n",
       "quad_2          0.228727     0.090660 -0.032124 -0.447761  1.000000 -0.177854   \n",
       "quad_3         -0.281290    -0.269937 -0.214796 -0.376837 -0.177854  1.000000   \n",
       "quad_4         -0.860495     0.074514 -0.600289 -0.807642  0.089290 -0.002370   \n",
       "nummentions    -0.008073     0.983356  0.031823  0.042019  0.067509 -0.282098   \n",
       "numsources      0.007987     0.506949 -0.057606  0.033553  0.004887 -0.103556   \n",
       "previous_sign        NaN          NaN       NaN       NaN       NaN       NaN   \n",
       "\n",
       "                 quad_4  nummentions  numsources  previous_sign  \n",
       "goldstein     -0.860495    -0.008073    0.007987            NaN  \n",
       "numarticles    0.074514     0.983356    0.506949            NaN  \n",
       "avgtone       -0.600289     0.031823   -0.057606            NaN  \n",
       "quad_1        -0.807642     0.042019    0.033553            NaN  \n",
       "quad_2         0.089290     0.067509    0.004887            NaN  \n",
       "quad_3        -0.002370    -0.282098   -0.103556            NaN  \n",
       "quad_4         1.000000     0.074007    0.015503            NaN  \n",
       "nummentions    0.074007     1.000000    0.503506            NaN  \n",
       "numsources     0.015503     0.503506    1.000000            NaN  \n",
       "previous_sign       NaN          NaN         NaN            NaN  "
      ]
     },
     "execution_count": 229,
     "metadata": {},
     "output_type": "execute_result"
    }
   ],
   "source": [
    "df_daily.corr()"
   ]
  },
  {
   "cell_type": "code",
   "execution_count": 68,
   "metadata": {},
   "outputs": [
    {
     "data": {
      "text/plain": [
       "0.5240384615384616"
      ]
     },
     "execution_count": 68,
     "metadata": {},
     "output_type": "execute_result"
    }
   ],
   "source": [
    "avg_accuracy(100, X,y)"
   ]
  },
  {
   "cell_type": "code",
   "execution_count": 377,
   "metadata": {},
   "outputs": [
    {
     "data": {
      "text/plain": [
       "0.4667949951876805"
      ]
     },
     "execution_count": 377,
     "metadata": {},
     "output_type": "execute_result"
    }
   ],
   "source": [
    "np.mean(vix_daily['sign'])"
   ]
  },
  {
   "cell_type": "code",
   "execution_count": null,
   "metadata": {},
   "outputs": [],
   "source": [
    "import tensorflow as tf\n"
   ]
  },
  {
   "cell_type": "code",
   "execution_count": 307,
   "metadata": {},
   "outputs": [
    {
     "data": {
      "text/plain": [
       "DatetimeIndex(['2015-04-30', '2015-02-28', '2018-12-31', '2016-01-31',\n",
       "               '2015-10-31', '2016-03-31', '2018-01-31', '2015-01-31',\n",
       "               '2015-08-31', '2016-10-31'],\n",
       "              dtype='datetime64[ns]', name='Date', freq=None)"
      ]
     },
     "execution_count": 307,
     "metadata": {},
     "output_type": "execute_result"
    }
   ],
   "source": [
    "df_monthly.sample(int(np.ceil(.2*df_monthly.shape[0]))).index"
   ]
  },
  {
   "cell_type": "code",
   "execution_count": 510,
   "metadata": {},
   "outputs": [
    {
     "data": {
      "text/plain": [
       "[<matplotlib.lines.Line2D at 0x1a1d48f8d0>]"
      ]
     },
     "execution_count": 510,
     "metadata": {},
     "output_type": "execute_result"
    },
    {
     "data": {
      "image/png": "[encoded data removed]",
      "text/plain": [
       "<Figure size 432x288 with 1 Axes>"
      ]
     },
     "metadata": {
      "needs_background": "light"
     },
     "output_type": "display_data"
    }
   ],
   "source": [
    "plt.plot(y_train.sort_index())\n",
    "plt.plot(y_train.sort_index().index,gbm.predict(np.array(pd.DataFrame(X_train,index = y_train.index).sort_index())))"
   ]
  },
  {
   "cell_type": "code",
   "execution_count": 61,
   "metadata": {},
   "outputs": [
    {
     "name": "stderr",
     "output_type": "stream",
     "text": [
      "/Users/royluo/anaconda3/lib/python3.6/site-packages/sklearn/svm/base.py:196: FutureWarning: The default value of gamma will change from 'auto' to 'scale' in version 0.22 to account better for unscaled features. Set gamma explicitly to 'auto' or 'scale' to avoid this warning.\n",
      "  \"avoid this warning.\", FutureWarning)\n"
     ]
    },
    {
     "data": {
      "text/plain": [
       "SVC(C=1.0, cache_size=200, class_weight=None, coef0=0.0,\n",
       "  decision_function_shape='ovr', degree=3, gamma='auto_deprecated',\n",
       "  kernel='rbf', max_iter=-1, probability=False, random_state=None,\n",
       "  shrinking=True, tol=0.001, verbose=False)"
      ]
     },
     "execution_count": 61,
     "metadata": {},
     "output_type": "execute_result"
    }
   ],
   "source": [
    "gbm.fit(X_train,y_train)\n",
    "lm.fit(X_train,y_train)\n",
    "#svr.fit(X_train,y_train)\n",
    "svc.fit(X_train,y_train)\n",
    "# y_predict = gbm.predict(X_test)\n",
    "# print('accuracy: %.2f ' %accuracy_score(y_test, y_predict))\n",
    "# print('f1 score: %.2f' %f1_score(y_predict, y_test))\n",
    "\n",
    "\n",
    "# def plot_model_test(model):\n",
    "#     y_predict = model.predict(np.array(pd.DataFrame(X_test,index = y_test.index).sort_index()))\n",
    "#     plt.plot(y_test.sort_index()[::-1])\n",
    "#     plt.plot(y_test.sort_index().index,pd.DataFrame(y_predict).shift())\n",
    "# plot_model_test(gbm)"
   ]
  },
  {
   "cell_type": "code",
   "execution_count": 130,
   "metadata": {},
   "outputs": [
    {
     "data": {
      "text/plain": [
       "0.4667949951876805"
      ]
     },
     "execution_count": 130,
     "metadata": {},
     "output_type": "execute_result"
    }
   ],
   "source": [
    "np.mean(vix_daily['sign'])"
   ]
  },
  {
   "cell_type": "code",
   "execution_count": 65,
   "metadata": {},
   "outputs": [
    {
     "data": {
      "text/plain": [
       "0.530763270050368"
      ]
     },
     "execution_count": 65,
     "metadata": {},
     "output_type": "execute_result"
    }
   ],
   "source": [
    "\n",
    "gbm = xgb.XGBClassifier(objective = 'binary:logistic', n_estimators = 10,max_depth = 1,normalize = False)\n",
    "a = cross_validate(gbm,X,y , cv = 10 ,\n",
    "                   scoring = 'accuracy',\n",
    "                   return_train_score = True)\n",
    "a['test_score'].mean()\n"
   ]
  },
  {
   "cell_type": "code",
   "execution_count": 63,
   "metadata": {},
   "outputs": [
    {
     "data": {
      "text/plain": [
       "{'fit_time': array([0.01895404, 0.01943088, 0.02124095, 0.01686287, 0.01636505]),\n",
       " 'score_time': array([0.00145626, 0.00102305, 0.00092125, 0.00090814, 0.00090289]),\n",
       " 'test_r2': array([-0.10520858, -0.0169068 , -0.00389697, -0.01628819, -0.00573034]),\n",
       " 'train_r2': array([0.05357424, 0.05310342, 0.05111838, 0.04778798, 0.04537305]),\n",
       " 'test_neg_mean_squared_error': array([-0.27541016, -0.25409538, -0.25084461, -0.24669005, -0.24750395]),\n",
       " 'train_neg_mean_squared_error': array([-0.23488781, -0.23571347, -0.23620761, -0.23786088, -0.23827921])}"
      ]
     },
     "execution_count": 63,
     "metadata": {},
     "output_type": "execute_result"
    }
   ],
   "source": [
    "from sklearn.model_selection import cross_val_score\n",
    "from sklearn.model_selection import cross_validate\n",
    "gbm = xgb.XGBRegressor(objective = 'reg:linear',\n",
    "                       min_child_weight = 1,\n",
    "                       eta = .1,gamma = 0,n_estimators = 50, max_depth = 1)\n",
    "cross_validate(gbm,X,y , cv = 5 ,\n",
    "               scoring=('r2', 'neg_mean_squared_error'),\n",
    "                return_train_score = True)"
   ]
  },
  {
   "cell_type": "code",
   "execution_count": 38,
   "metadata": {},
   "outputs": [
    {
     "name": "stdout",
     "output_type": "stream",
     "text": [
      "-0.2517783022579113\n"
     ]
    },
    {
     "data": {
      "text/plain": [
       "-0.018817496451378413"
      ]
     },
     "execution_count": 38,
     "metadata": {},
     "output_type": "execute_result"
    }
   ],
   "source": [
    "from sklearn.model_selection import cross_val_score\n",
    "from sklearn.model_selection import cross_validate\n",
    "a = cross_validate(gbm,X,y , cv = 10 ,\n",
    "               scoring=('r2', 'neg_mean_squared_error'),\n",
    "                return_train_score = True)\n",
    "print (a['test_neg_mean_squared_error'].mean())\n",
    "a['test_r2'].mean()"
   ]
  },
  {
   "cell_type": "code",
   "execution_count": 205,
   "metadata": {},
   "outputs": [
    {
     "name": "stdout",
     "output_type": "stream",
     "text": [
      "-0.008249729983529125\n"
     ]
    },
    {
     "data": {
      "text/plain": [
       "-0.01071796970445662"
      ]
     },
     "execution_count": 205,
     "metadata": {},
     "output_type": "execute_result"
    }
   ],
   "source": [
    "gbm = xgb.XGBRegressor(objective = 'reg:linear',eta = .01, gamma = 0,n_estimators = 10, max_depth = 3)\n",
    "a = cross_validate(lm,X,y , cv = 10 ,\n",
    "               scoring=('r2', 'neg_mean_squared_error'),\n",
    "                return_train_score = True)\n",
    "print (a['test_neg_mean_squared_error'].mean())\n",
    "a['test_r2'].mean()"
   ]
  },
  {
   "cell_type": "code",
   "execution_count": 296,
   "metadata": {},
   "outputs": [
    {
     "name": "stdout",
     "output_type": "stream",
     "text": [
      "9.811326671599392\n"
     ]
    },
    {
     "data": {
      "text/plain": [
       "12.744423592504948"
      ]
     },
     "execution_count": 296,
     "metadata": {},
     "output_type": "execute_result"
    }
   ],
   "source": [
    "from sklearn.metrics import mean_squared_error\n",
    "print(mean_squared_error(y_train,gbm.predict(X_train)))\n",
    "mean_squared_error(y_test,gbm.predict(X_test))"
   ]
  },
  {
   "cell_type": "code",
   "execution_count": 240,
   "metadata": {},
   "outputs": [
    {
     "name": "stdout",
     "output_type": "stream",
     "text": [
      "0.8768047586111613\n"
     ]
    },
    {
     "data": {
      "text/plain": [
       "0.8899885707215913"
      ]
     },
     "execution_count": 240,
     "metadata": {},
     "output_type": "execute_result"
    }
   ],
   "source": [
    "from sklearn.metrics import r2_score\n",
    "print(r2_score(y_train,lm.predict(X_train)))\n",
    "r2_score(y_test,lm.predict(X_test))"
   ]
  },
  {
   "cell_type": "code",
   "execution_count": 204,
   "metadata": {},
   "outputs": [
    {
     "data": {
      "image/png": "[encoded data removed]",
      "text/plain": [
       "<Figure size 432x288 with 1 Axes>"
      ]
     },
     "metadata": {},
     "output_type": "display_data"
    }
   ],
   "source": [
    "lm.fit(X_train,y_train)\n",
    "import seaborn as sns; sns.set()\n",
    "def plot_model_test(model):\n",
    "    y_predict = model.predict(np.array(pd.DataFrame(X_test,index = y_test.index).sort_index()))\n",
    "    g = sns.lineplot(x=y_test.sort_index().index, y=y_test.sort_index(), color = 'lightblue', label = 'Actual')\n",
    "    g = sns.lineplot(y_test.sort_index().index,y_predict, label = 'Predicted') \n",
    "    g.set(xlabel='Time step', ylabel='Percent Change', title = 'Boosted regression tree - Predicted VIX vs actual VIX with %d day delay'%(0))\n",
    "plot_model_test(gbm)"
   ]
  },
  {
   "cell_type": "code",
   "execution_count": 157,
   "metadata": {},
   "outputs": [
    {
     "data": {
      "text/plain": [
       "0.4667949951876805"
      ]
     },
     "execution_count": 157,
     "metadata": {},
     "output_type": "execute_result"
    }
   ],
   "source": [
    "np.mean(vix_daily['sign'])"
   ]
  },
  {
   "cell_type": "code",
   "execution_count": 229,
   "metadata": {},
   "outputs": [
    {
     "data": {
      "text/plain": [
       "<matplotlib.axes._subplots.AxesSubplot at 0x1a23c24a90>"
      ]
     },
     "execution_count": 229,
     "metadata": {},
     "output_type": "execute_result"
    },
    {
     "data": {
      "image/png": "[encoded data removed]",
      "text/plain": [
       "<Figure size 432x288 with 1 Axes>"
      ]
     },
     "metadata": {},
     "output_type": "display_data"
    }
   ],
   "source": [
    "xgb.plot_importance(gbm)"
   ]
  },
  {
   "cell_type": "code",
   "execution_count": 225,
   "metadata": {},
   "outputs": [
    {
     "data": {
      "text/plain": [
       "array([0.13114753, 0.09836066, 0.16393442, 0.10655738, 0.13114753,\n",
       "       0.13934426, 0.22950819], dtype=float32)"
      ]
     },
     "execution_count": 225,
     "metadata": {},
     "output_type": "execute_result"
    }
   ],
   "source": [
    "gbm.feature_importances_"
   ]
  },
  {
   "cell_type": "code",
   "execution_count": 216,
   "metadata": {},
   "outputs": [
    {
     "data": {
      "image/png": "[encoded data removed]",
      "text/plain": [
       "<Figure size 432x288 with 1 Axes>"
      ]
     },
     "metadata": {},
     "output_type": "display_data"
    },
    {
     "name": "stdout",
     "output_type": "stream",
     "text": [
      "0.5500369959304476\n"
     ]
    }
   ],
   "source": [
    "from sklearn.metrics import roc_auc_score\n",
    "from sklearn.metrics import roc_curve\n",
    "logit_roc_auc = roc_auc_score(y_test, gbm.predict(X_test))\n",
    "fpr, tpr, thresholds = roc_curve(y_test, gbm.predict_proba(X_test)[:,1])\n",
    "plt.figure()\n",
    "plt.plot(fpr, tpr, label='Boosted Tree classification (area = %0.2f)' % logit_roc_auc)\n",
    "plt.plot([0, 1], [0, 1],'r--')\n",
    "plt.xlim([0.0, 1.0])\n",
    "plt.ylim([0.0, 1.05])\n",
    "plt.xlabel('False Positive Rate')\n",
    "plt.ylabel('True Positive Rate')\n",
    "plt.title('Receiver operating characteristic')\n",
    "plt.legend(loc=\"lower right\")\n",
    "plt.savefig('Log_ROC')\n",
    "plt.show()\n",
    "print (logit_roc_auc)"
   ]
  },
  {
   "cell_type": "code",
   "execution_count": 230,
   "metadata": {},
   "outputs": [
    {
     "data": {
      "text/plain": [
       "<matplotlib.image.AxesImage at 0x1a21b8f2b0>"
      ]
     },
     "execution_count": 230,
     "metadata": {},
     "output_type": "execute_result"
    },
    {
     "data": {
      "image/png": "[encoded data removed]",
      "text/plain": [
       "<Figure size 288x288 with 1 Axes>"
      ]
     },
     "metadata": {},
     "output_type": "display_data"
    }
   ],
   "source": [
    "plt.matshow(df.iloc[:,1::].corr())"
   ]
  },
  {
   "cell_type": "code",
   "execution_count": 30,
   "metadata": {},
   "outputs": [
    {
     "data": {
      "text/html": [
       "<div>\n",
       "<style scoped>\n",
       "    .dataframe tbody tr th:only-of-type {\n",
       "        vertical-align: middle;\n",
       "    }\n",
       "\n",
       "    .dataframe tbody tr th {\n",
       "        vertical-align: top;\n",
       "    }\n",
       "\n",
       "    .dataframe thead th {\n",
       "        text-align: right;\n",
       "    }\n",
       "</style>\n",
       "<table border=\"1\" class=\"dataframe\">\n",
       "  <thead>\n",
       "    <tr style=\"text-align: right;\">\n",
       "      <th></th>\n",
       "      <th>goldstein</th>\n",
       "      <th>numarticles</th>\n",
       "      <th>avgtone</th>\n",
       "      <th>quad_1</th>\n",
       "      <th>quad_2</th>\n",
       "      <th>quad_3</th>\n",
       "      <th>quad_4</th>\n",
       "      <th>avg mention</th>\n",
       "      <th>avg source</th>\n",
       "    </tr>\n",
       "  </thead>\n",
       "  <tbody>\n",
       "    <tr>\n",
       "      <th>goldstein</th>\n",
       "      <td>1.000000</td>\n",
       "      <td>-0.005574</td>\n",
       "      <td>0.603847</td>\n",
       "      <td>0.630025</td>\n",
       "      <td>0.274719</td>\n",
       "      <td>-0.319499</td>\n",
       "      <td>-0.846469</td>\n",
       "      <td>-0.031480</td>\n",
       "      <td>-0.013271</td>\n",
       "    </tr>\n",
       "    <tr>\n",
       "      <th>numarticles</th>\n",
       "      <td>-0.005574</td>\n",
       "      <td>1.000000</td>\n",
       "      <td>0.057282</td>\n",
       "      <td>0.022788</td>\n",
       "      <td>0.077431</td>\n",
       "      <td>-0.232496</td>\n",
       "      <td>0.064739</td>\n",
       "      <td>0.958819</td>\n",
       "      <td>0.513763</td>\n",
       "    </tr>\n",
       "    <tr>\n",
       "      <th>avgtone</th>\n",
       "      <td>0.603847</td>\n",
       "      <td>0.057282</td>\n",
       "      <td>1.000000</td>\n",
       "      <td>0.559032</td>\n",
       "      <td>-0.042051</td>\n",
       "      <td>-0.209194</td>\n",
       "      <td>-0.602006</td>\n",
       "      <td>0.029398</td>\n",
       "      <td>-0.076970</td>\n",
       "    </tr>\n",
       "    <tr>\n",
       "      <th>quad_1</th>\n",
       "      <td>0.630025</td>\n",
       "      <td>0.022788</td>\n",
       "      <td>0.559032</td>\n",
       "      <td>1.000000</td>\n",
       "      <td>-0.475724</td>\n",
       "      <td>-0.416964</td>\n",
       "      <td>-0.773689</td>\n",
       "      <td>0.042861</td>\n",
       "      <td>-0.013310</td>\n",
       "    </tr>\n",
       "    <tr>\n",
       "      <th>quad_2</th>\n",
       "      <td>0.274719</td>\n",
       "      <td>0.077431</td>\n",
       "      <td>-0.042051</td>\n",
       "      <td>-0.475724</td>\n",
       "      <td>1.000000</td>\n",
       "      <td>-0.147542</td>\n",
       "      <td>0.057436</td>\n",
       "      <td>0.042111</td>\n",
       "      <td>0.027840</td>\n",
       "    </tr>\n",
       "    <tr>\n",
       "      <th>quad_3</th>\n",
       "      <td>-0.319499</td>\n",
       "      <td>-0.232496</td>\n",
       "      <td>-0.209194</td>\n",
       "      <td>-0.416964</td>\n",
       "      <td>-0.147542</td>\n",
       "      <td>1.000000</td>\n",
       "      <td>0.030434</td>\n",
       "      <td>-0.240225</td>\n",
       "      <td>-0.081000</td>\n",
       "    </tr>\n",
       "    <tr>\n",
       "      <th>quad_4</th>\n",
       "      <td>-0.846469</td>\n",
       "      <td>0.064739</td>\n",
       "      <td>-0.602006</td>\n",
       "      <td>-0.773689</td>\n",
       "      <td>0.057436</td>\n",
       "      <td>0.030434</td>\n",
       "      <td>1.000000</td>\n",
       "      <td>0.066539</td>\n",
       "      <td>0.051047</td>\n",
       "    </tr>\n",
       "    <tr>\n",
       "      <th>avg mention</th>\n",
       "      <td>-0.031480</td>\n",
       "      <td>0.958819</td>\n",
       "      <td>0.029398</td>\n",
       "      <td>0.042861</td>\n",
       "      <td>0.042111</td>\n",
       "      <td>-0.240225</td>\n",
       "      <td>0.066539</td>\n",
       "      <td>1.000000</td>\n",
       "      <td>0.487723</td>\n",
       "    </tr>\n",
       "    <tr>\n",
       "      <th>avg source</th>\n",
       "      <td>-0.013271</td>\n",
       "      <td>0.513763</td>\n",
       "      <td>-0.076970</td>\n",
       "      <td>-0.013310</td>\n",
       "      <td>0.027840</td>\n",
       "      <td>-0.081000</td>\n",
       "      <td>0.051047</td>\n",
       "      <td>0.487723</td>\n",
       "      <td>1.000000</td>\n",
       "    </tr>\n",
       "  </tbody>\n",
       "</table>\n",
       "</div>"
      ],
      "text/plain": [
       "             goldstein  numarticles   avgtone    quad_1    quad_2    quad_3  \\\n",
       "goldstein     1.000000    -0.005574  0.603847  0.630025  0.274719 -0.319499   \n",
       "numarticles  -0.005574     1.000000  0.057282  0.022788  0.077431 -0.232496   \n",
       "avgtone       0.603847     0.057282  1.000000  0.559032 -0.042051 -0.209194   \n",
       "quad_1        0.630025     0.022788  0.559032  1.000000 -0.475724 -0.416964   \n",
       "quad_2        0.274719     0.077431 -0.042051 -0.475724  1.000000 -0.147542   \n",
       "quad_3       -0.319499    -0.232496 -0.209194 -0.416964 -0.147542  1.000000   \n",
       "quad_4       -0.846469     0.064739 -0.602006 -0.773689  0.057436  0.030434   \n",
       "avg mention  -0.031480     0.958819  0.029398  0.042861  0.042111 -0.240225   \n",
       "avg source   -0.013271     0.513763 -0.076970 -0.013310  0.027840 -0.081000   \n",
       "\n",
       "               quad_4  avg mention  avg source  \n",
       "goldstein   -0.846469    -0.031480   -0.013271  \n",
       "numarticles  0.064739     0.958819    0.513763  \n",
       "avgtone     -0.602006     0.029398   -0.076970  \n",
       "quad_1      -0.773689     0.042861   -0.013310  \n",
       "quad_2       0.057436     0.042111    0.027840  \n",
       "quad_3       0.030434    -0.240225   -0.081000  \n",
       "quad_4       1.000000     0.066539    0.051047  \n",
       "avg mention  0.066539     1.000000    0.487723  \n",
       "avg source   0.051047     0.487723    1.000000  "
      ]
     },
     "execution_count": 30,
     "metadata": {},
     "output_type": "execute_result"
    }
   ],
   "source": [
    "df.iloc[:,1::].corr()\n",
    "# from sklearn.preprocessing import StandardScaler\n",
    "# scalar = StandardScaler()\n",
    "# scalar.fit(df)\n",
    "# df_trans = scalar.transform(df)\n",
    "# pd.DataFrame(df_trans).iloc[:,1::].corr()\n"
   ]
  },
  {
   "cell_type": "code",
   "execution_count": 10,
   "metadata": {},
   "outputs": [
    {
     "data": {
      "text/plain": [
       "<matplotlib.collections.PathCollection at 0x10326e400>"
      ]
     },
     "execution_count": 10,
     "metadata": {},
     "output_type": "execute_result"
    },
    {
     "data": {
      "image/png": "[encoded data removed]",
      "text/plain": [
       "<Figure size 432x288 with 1 Axes>"
      ]
     },
     "metadata": {
      "needs_background": "light"
     },
     "output_type": "display_data"
    }
   ],
   "source": [
    "plt.scatter(df['quad_2'],df['quad_3'])"
   ]
  },
  {
   "cell_type": "code",
   "execution_count": 18,
   "metadata": {},
   "outputs": [],
   "source": [
    "# from statsmodels.stats.outliers_influence import variance_inflation_factor\n",
    "# from patsy import dmatrices\n",
    "# vif = pd.DataFrame()\n",
    "# features = \"+\".join(df.columns[1:5])\n",
    "# y, X = dmatrices('Date ~' + features, df, return_type='dataframe')\n",
    "\n",
    "# vif[\"VIF Factor\"] = [variance_inflation_factor(X.values, i) for i in range(X.shape[1])]\n",
    "# vif[\"features\"] = X.columns\n",
    "# vif"
   ]
  },
  {
   "cell_type": "code",
   "execution_count": 170,
   "metadata": {},
   "outputs": [
    {
     "data": {
      "image/png": "[encoded data removed]",
      "text/plain": [
       "<Figure size 432x432 with 3 Axes>"
      ]
     },
     "metadata": {},
     "output_type": "display_data"
    }
   ],
   "source": [
    "from mpl_toolkits import mplot3d\n",
    "\n",
    "sns.jointplot(x=\"avgtone\", y=\"Percent Change\", data=df_daily);"
   ]
  },
  {
   "cell_type": "code",
   "execution_count": 145,
   "metadata": {},
   "outputs": [
    {
     "data": {
      "image/png": "[encoded data removed]",
      "text/plain": [
       "<Figure size 432x432 with 3 Axes>"
      ]
     },
     "metadata": {},
     "output_type": "display_data"
    }
   ],
   "source": [
    "sns.jointplot(x=\"goldstein\", y=\"Percent Change\", data=df_daily, kind=\"kde\")"
   ]
  },
  {
   "cell_type": "code",
   "execution_count": 148,
   "metadata": {},
   "outputs": [
    {
     "data": {
      "image/png": "[encoded data removed]",
      "text/plain": [
       "<Figure size 432x432 with 1 Axes>"
      ]
     },
     "metadata": {},
     "output_type": "display_data"
    }
   ],
   "source": [
    "f, ax = plt.subplots(figsize=(6, 6))\n",
    "sns.kdeplot(df_daily['goldstein'], df_daily['Percent Change'], ax=ax)\n",
    "sns.rugplot(df_daily['goldstein'], color=\"g\", ax=ax)\n",
    "sns.rugplot(df_daily['Percent Change'], vertical=True, ax=ax);"
   ]
  },
  {
   "cell_type": "code",
   "execution_count": 219,
   "metadata": {},
   "outputs": [
    {
     "data": {
      "image/png": "[encoded data removed]",
      "text/plain": [
       "<Figure size 432x432 with 3 Axes>"
      ]
     },
     "metadata": {},
     "output_type": "display_data"
    }
   ],
   "source": [
    "Percent_change = df_daily['Percent Change']\n",
    "goldstein = df_daily['goldstein']\n",
    "\n",
    "with sns.axes_style(\"white\"):\n",
    "    sns.jointplot(x=goldstein, y=Percent_change, kind=\"hex\", color=\"k\");"
   ]
  },
  {
   "cell_type": "code",
   "execution_count": 158,
   "metadata": {},
   "outputs": [
    {
     "data": {
      "image/png": "[encoded data removed]",
      "text/plain": [
       "<Figure size 432x432 with 1 Axes>"
      ]
     },
     "metadata": {},
     "output_type": "display_data"
    }
   ],
   "source": [
    "f, ax = plt.subplots(figsize=(6, 6))\n",
    "cmap = sns.cubehelix_palette(as_cmap=True, dark=0, light=1, reverse=True)\n",
    "sns.kdeplot(df_daily['goldstein'], df_daily['Percent Change'], cmap=cmap, n_levels=60, shade=True);"
   ]
  },
  {
   "cell_type": "code",
   "execution_count": 156,
   "metadata": {},
   "outputs": [],
   "source": [
    "# g = sns.PairGrid(df_daily.drop(columns = ['previous_sign','nummentions']))\n",
    "# g.map_diag(sns.kdeplot)\n",
    "# g.map_offdiag(sns.kdeplot)"
   ]
  },
  {
   "cell_type": "code",
   "execution_count": 1,
   "metadata": {},
   "outputs": [
    {
     "ename": "NameError",
     "evalue": "name 'sns' is not defined",
     "output_type": "error",
     "traceback": [
      "\u001b[0;31m---------------------------------------------------------------------------\u001b[0m",
      "\u001b[0;31mNameError\u001b[0m                                 Traceback (most recent call last)",
      "\u001b[0;32m<ipython-input-1-3b6039f3e822>\u001b[0m in \u001b[0;36m<module>\u001b[0;34m\u001b[0m\n\u001b[0;32m----> 1\u001b[0;31m \u001b[0mg\u001b[0m \u001b[0;34m=\u001b[0m \u001b[0msns\u001b[0m\u001b[0;34m.\u001b[0m\u001b[0mPairGrid\u001b[0m\u001b[0;34m(\u001b[0m\u001b[0mdf_daily\u001b[0m\u001b[0;34m.\u001b[0m\u001b[0mdrop\u001b[0m\u001b[0;34m(\u001b[0m\u001b[0mcolumns\u001b[0m \u001b[0;34m=\u001b[0m \u001b[0;34m[\u001b[0m\u001b[0;34m'previous_sign'\u001b[0m\u001b[0;34m,\u001b[0m\u001b[0;34m'nummentions'\u001b[0m\u001b[0;34m]\u001b[0m\u001b[0;34m)\u001b[0m\u001b[0;34m)\u001b[0m\u001b[0;34m\u001b[0m\u001b[0;34m\u001b[0m\u001b[0m\n\u001b[0m\u001b[1;32m      2\u001b[0m \u001b[0mg\u001b[0m \u001b[0;34m=\u001b[0m \u001b[0mg\u001b[0m\u001b[0;34m.\u001b[0m\u001b[0mmap_diag\u001b[0m\u001b[0;34m(\u001b[0m\u001b[0mplt\u001b[0m\u001b[0;34m.\u001b[0m\u001b[0mhist\u001b[0m\u001b[0;34m(\u001b[0m\u001b[0mbins\u001b[0m \u001b[0;34m=\u001b[0m \u001b[0;36m100\u001b[0m\u001b[0;34m)\u001b[0m\u001b[0;34m,\u001b[0m \u001b[0medgecolor\u001b[0m\u001b[0;34m=\u001b[0m\u001b[0;34m\"w\"\u001b[0m\u001b[0;34m)\u001b[0m\u001b[0;34m\u001b[0m\u001b[0;34m\u001b[0m\u001b[0m\n\u001b[1;32m      3\u001b[0m \u001b[0mg\u001b[0m \u001b[0;34m=\u001b[0m \u001b[0mg\u001b[0m\u001b[0;34m.\u001b[0m\u001b[0mmap_offdiag\u001b[0m\u001b[0;34m(\u001b[0m\u001b[0mplt\u001b[0m\u001b[0;34m.\u001b[0m\u001b[0mscatter\u001b[0m\u001b[0;34m,\u001b[0m \u001b[0medgecolor\u001b[0m\u001b[0;34m=\u001b[0m\u001b[0;34m\"w\"\u001b[0m\u001b[0;34m,\u001b[0m \u001b[0ms\u001b[0m\u001b[0;34m=\u001b[0m\u001b[0;36m40\u001b[0m\u001b[0;34m)\u001b[0m\u001b[0;34m\u001b[0m\u001b[0;34m\u001b[0m\u001b[0m\n",
      "\u001b[0;31mNameError\u001b[0m: name 'sns' is not defined"
     ]
    }
   ],
   "source": [
    "g = sns.PairGrid(df_daily.drop(columns = ['previous_sign','nummentions']))\n",
    "g = g.map_diag(plt.hist, edgecolor=\"w\")\n",
    "g = g.map_offdiag(plt.scatter, edgecolor=\"w\", s=40)"
   ]
  },
  {
   "cell_type": "code",
   "execution_count": 230,
   "metadata": {},
   "outputs": [
    {
     "data": {
      "text/plain": [
       "array([0.14285715, 0.06349207, 0.15873016, 0.0952381 , 0.12698413,\n",
       "       0.17460318, 0.23809524], dtype=float32)"
      ]
     },
     "execution_count": 230,
     "metadata": {},
     "output_type": "execute_result"
    }
   ],
   "source": [
    "gbm.feature_importances_"
   ]
  },
  {
   "cell_type": "code",
   "execution_count": 7,
   "metadata": {},
   "outputs": [
    {
     "data": {
      "image/png": "[encoded data removed]",
      "text/plain": [
       "<Figure size 432x288 with 1 Axes>"
      ]
     },
     "metadata": {
      "needs_background": "dark"
     },
     "output_type": "display_data"
    },
    {
     "data": {
      "image/png": "[encoded data removed]",
      "text/plain": [
       "<Figure size 1000x1000 with 1 Axes>"
      ]
     },
     "metadata": {
      "needs_background": "dark"
     },
     "output_type": "display_data"
    },
    {
     "data": {
      "image/png": "[encoded data removed]",
      "text/plain": [
       "<Figure size 1000x1000 with 1 Axes>"
      ]
     },
     "metadata": {
      "needs_background": "dark"
     },
     "output_type": "display_data"
    },
    {
     "data": {
      "image/png": "[encoded data removed]",
      "text/plain": [
       "<Figure size 1000x1000 with 1 Axes>"
      ]
     },
     "metadata": {
      "needs_background": "dark"
     },
     "output_type": "display_data"
    },
    {
     "data": {
      "text/plain": [
       "<Figure size 1000x1000 with 0 Axes>"
      ]
     },
     "metadata": {},
     "output_type": "display_data"
    }
   ],
   "source": [
    "import matplotlib.pyplot as plt\n",
    "import pandas as pd\n",
    "from math import pi\n",
    " \n",
    "# Set data\n",
    "df = pd.DataFrame({\n",
    "'Model': ['A','Feature Importance','Accuracy Comparison','ROC AUC Comparison'],\n",
    "'GBM': [38, .14285715*100, 55.08, 51.14],\n",
    "'Logistic Regression': [29, .06349207*100, 51.44, 50.78],\n",
    "'SVM': [8, .15873016*100, 50.86, 49.97],\n",
    "#     'Quad 1': [7, .0952381*100, 33, 14],\n",
    "# 'Quad 2': [28, .12698413*100, 32, 14],\n",
    "#  'Quad 3': [1,.17460318*100,1,1],\n",
    "#   'Num Sources': [1,.23809524*100,23,4]\n",
    "})\n",
    " \n",
    "# ------- PART 1: Define a function that do a plot for one line of the dataset!\n",
    " \n",
    "def make_spider( row, title, color):\n",
    " \n",
    "# number of variable\n",
    "    categories=list(df)[1:]\n",
    "    N = len(categories)\n",
    "\n",
    "    # What will be the angle of each axis in the plot? (we divide the plot / number of variable)\n",
    "    angles = [n / float(N) * 2 * pi for n in range(N)]\n",
    "    angles += angles[:1]\n",
    "\n",
    "    # Initialise the spider plot\n",
    "    ax = plt.subplot(2,2,row+1, polar=True, )\n",
    "\n",
    "    # If you want the first axis to be on top:\n",
    "    ax.set_theta_offset(pi / 2)\n",
    "    ax.set_theta_direction(-1)\n",
    "\n",
    "    # Draw one axe per variable + add labels labels yet\n",
    "    plt.xticks(angles[:-1], categories, color='grey', size=16)\n",
    "\n",
    "    # Draw ylabels\n",
    "    ax.set_rlabel_position(0)\n",
    "    plt.yticks([47,50,53,56], [\"47\",'50',\"53\",'56'], color=\"grey\", size=10)\n",
    "    plt.ylim(45,58)\n",
    "\n",
    "    # Ind1\n",
    "    values=df.loc[row].drop('Model').values.flatten().tolist()\n",
    "    values += values[:1]\n",
    "    ax.plot(angles, values, color=color, linewidth=2, linestyle='solid')\n",
    "    ax.fill(angles, values, color=color, alpha=0.4)\n",
    "\n",
    "    # Add a title\n",
    "    plt.title(title, size=20, color=color, y=1.1)\n",
    "\n",
    "    # ------- PART 2: Apply to all individuals\n",
    "    # initialize the figure\n",
    "    my_dpi=96\n",
    "    plt.figure(figsize=(1000/my_dpi, 1000/my_dpi), dpi=my_dpi)\n",
    "\n",
    "    # Create a color palette:\n",
    "my_palette = plt.cm.get_cmap(\"Set2\", len(df.index))\n",
    "\n",
    "# Loop to plot\n",
    "for row in range(0, len(df.index)):\n",
    "    if row >= 0:\n",
    "    \n",
    "        make_spider(row=row, title='Model '+df['Model'][row], color=my_palette(row-2))\n"
   ]
  },
  {
   "cell_type": "code",
   "execution_count": null,
   "metadata": {},
   "outputs": [],
   "source": []
  }
 ],
 "metadata": {
  "kernelspec": {
   "display_name": "Python 3",
   "language": "python",
   "name": "python3"
  },
  "language_info": {
   "codemirror_mode": {
    "name": "ipython",
    "version": 3
   },
   "file_extension": ".py",
   "mimetype": "text/x-python",
   "name": "python",
   "nbconvert_exporter": "python",
   "pygments_lexer": "ipython3",
   "version": "3.6.8"
  }
 },
 "nbformat": 4,
 "nbformat_minor": 2
}
