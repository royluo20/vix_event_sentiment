{
 "cells": [
  {
   "cell_type": "code",
   "execution_count": 1,
   "metadata": {},
   "outputs": [],
   "source": [
    "#data are pulled from Google BigQuery using SQL",
    "import pandas as pd\n",
    "import numpy as np\n",
    "import matplotlib.pyplot as plt\n",
    "%matplotlib inline"
   ]
  },
  {
   "cell_type": "code",
   "execution_count": 4,
   "metadata": {},
   "outputs": [
    {
     "data": {
      "text/html": [
       "<div>\n",
       "<style scoped>\n",
       "    .dataframe tbody tr th:only-of-type {\n",
       "        vertical-align: middle;\n",
       "    }\n",
       "\n",
       "    .dataframe tbody tr th {\n",
       "        vertical-align: top;\n",
       "    }\n",
       "\n",
       "    .dataframe thead th {\n",
       "        text-align: right;\n",
       "    }\n",
       "</style>\n",
       "<table border=\"1\" class=\"dataframe\">\n",
       "  <thead>\n",
       "    <tr style=\"text-align: right;\">\n",
       "      <th></th>\n",
       "      <th>sqldate</th>\n",
       "      <th>quadclass</th>\n",
       "      <th>goldsteinscale</th>\n",
       "      <th>numarticles</th>\n",
       "      <th>avgtone</th>\n",
       "    </tr>\n",
       "  </thead>\n",
       "  <tbody>\n",
       "    <tr>\n",
       "      <th>0</th>\n",
       "      <td>20180222</td>\n",
       "      <td>2</td>\n",
       "      <td>6.4</td>\n",
       "      <td>10</td>\n",
       "      <td>1.309329</td>\n",
       "    </tr>\n",
       "    <tr>\n",
       "      <th>1</th>\n",
       "      <td>20180221</td>\n",
       "      <td>1</td>\n",
       "      <td>-0.3</td>\n",
       "      <td>1</td>\n",
       "      <td>-2.417582</td>\n",
       "    </tr>\n",
       "    <tr>\n",
       "      <th>2</th>\n",
       "      <td>20180220</td>\n",
       "      <td>4</td>\n",
       "      <td>-9.2</td>\n",
       "      <td>2</td>\n",
       "      <td>-0.522388</td>\n",
       "    </tr>\n",
       "    <tr>\n",
       "      <th>3</th>\n",
       "      <td>20180220</td>\n",
       "      <td>4</td>\n",
       "      <td>-9.2</td>\n",
       "      <td>1</td>\n",
       "      <td>-0.615385</td>\n",
       "    </tr>\n",
       "    <tr>\n",
       "      <th>4</th>\n",
       "      <td>20180221</td>\n",
       "      <td>1</td>\n",
       "      <td>-0.1</td>\n",
       "      <td>2</td>\n",
       "      <td>-0.421348</td>\n",
       "    </tr>\n",
       "  </tbody>\n",
       "</table>\n",
       "</div>"
      ],
      "text/plain": [
       "    sqldate  quadclass  goldsteinscale  numarticles   avgtone\n",
       "0  20180222          2             6.4           10  1.309329\n",
       "1  20180221          1            -0.3            1 -2.417582\n",
       "2  20180220          4            -9.2            2 -0.522388\n",
       "3  20180220          4            -9.2            1 -0.615385\n",
       "4  20180221          1            -0.1            2 -0.421348"
      ]
     },
     "execution_count": 4,
     "metadata": {},
     "output_type": "execute_result"
    }
   ],
   "source": [
    "a = list(range(10))\n",
    "a = [ '0' + str(i) for i in a]\n",
    "dfs = [pd.read_table('event-0000000000'+i,sep = ',') for i in a]\n",
    "df = pd.concat(dfs)\n",
    "df.head()"
   ]
  },
  {
   "cell_type": "code",
   "execution_count": 2,
   "metadata": {},
   "outputs": [
    {
     "data": {
      "text/html": [
       "<div>\n",
       "<style scoped>\n",
       "    .dataframe tbody tr th:only-of-type {\n",
       "        vertical-align: middle;\n",
       "    }\n",
       "\n",
       "    .dataframe tbody tr th {\n",
       "        vertical-align: top;\n",
       "    }\n",
       "\n",
       "    .dataframe thead th {\n",
       "        text-align: right;\n",
       "    }\n",
       "</style>\n",
       "<table border=\"1\" class=\"dataframe\">\n",
       "  <thead>\n",
       "    <tr style=\"text-align: right;\">\n",
       "      <th></th>\n",
       "      <th>sqldate</th>\n",
       "      <th>nummentions</th>\n",
       "      <th>numsources</th>\n",
       "    </tr>\n",
       "  </thead>\n",
       "  <tbody>\n",
       "    <tr>\n",
       "      <th>0</th>\n",
       "      <td>20170902</td>\n",
       "      <td>18</td>\n",
       "      <td>1</td>\n",
       "    </tr>\n",
       "    <tr>\n",
       "      <th>1</th>\n",
       "      <td>20170830</td>\n",
       "      <td>9</td>\n",
       "      <td>2</td>\n",
       "    </tr>\n",
       "    <tr>\n",
       "      <th>2</th>\n",
       "      <td>20170831</td>\n",
       "      <td>16</td>\n",
       "      <td>8</td>\n",
       "    </tr>\n",
       "    <tr>\n",
       "      <th>3</th>\n",
       "      <td>20170901</td>\n",
       "      <td>14</td>\n",
       "      <td>7</td>\n",
       "    </tr>\n",
       "    <tr>\n",
       "      <th>4</th>\n",
       "      <td>20170901</td>\n",
       "      <td>15</td>\n",
       "      <td>1</td>\n",
       "    </tr>\n",
       "  </tbody>\n",
       "</table>\n",
       "</div>"
      ],
      "text/plain": [
       "    sqldate  nummentions  numsources\n",
       "0  20170902           18           1\n",
       "1  20170830            9           2\n",
       "2  20170831           16           8\n",
       "3  20170901           14           7\n",
       "4  20170901           15           1"
      ]
     },
     "execution_count": 2,
     "metadata": {},
     "output_type": "execute_result"
    }
   ],
   "source": [
    "df_mention = [pd.read_table('mentions'+str(j), sep=',') for j in range(10)]\n",
    "df_mention = pd.concat(df_mention)\n",
    "df_mention.head()"
   ]
  },
  {
   "cell_type": "code",
   "execution_count": 5,
   "metadata": {},
   "outputs": [
    {
     "data": {
      "text/plain": [
       "(52271029, 3)"
      ]
     },
     "execution_count": 5,
     "metadata": {},
     "output_type": "execute_result"
    }
   ],
   "source": [
    "df_mention = df_mention.loc[df_mention['sqldate']>20150000 ,]\n",
    "df_mention.shape"
   ]
  },
  {
   "cell_type": "code",
   "execution_count": 5,
   "metadata": {},
   "outputs": [
    {
     "data": {
      "text/plain": [
       "(52209023, 5)"
      ]
     },
     "execution_count": 5,
     "metadata": {},
     "output_type": "execute_result"
    }
   ],
   "source": [
    "df = df.loc[df['sqldate']>20150000,]\n",
    "df.shape"
   ]
  },
  {
   "cell_type": "code",
   "execution_count": 3,
   "metadata": {},
   "outputs": [
    {
     "data": {
      "text/html": [
       "<div>\n",
       "<style scoped>\n",
       "    .dataframe tbody tr th:only-of-type {\n",
       "        vertical-align: middle;\n",
       "    }\n",
       "\n",
       "    .dataframe tbody tr th {\n",
       "        vertical-align: top;\n",
       "    }\n",
       "\n",
       "    .dataframe thead th {\n",
       "        text-align: right;\n",
       "    }\n",
       "</style>\n",
       "<table border=\"1\" class=\"dataframe\">\n",
       "  <thead>\n",
       "    <tr style=\"text-align: right;\">\n",
       "      <th></th>\n",
       "      <th>sqldate</th>\n",
       "      <th>nummentions</th>\n",
       "      <th>numsources</th>\n",
       "    </tr>\n",
       "  </thead>\n",
       "  <tbody>\n",
       "    <tr>\n",
       "      <th>sqldate</th>\n",
       "      <td>1.000000</td>\n",
       "      <td>-0.011905</td>\n",
       "      <td>0.000328</td>\n",
       "    </tr>\n",
       "    <tr>\n",
       "      <th>nummentions</th>\n",
       "      <td>-0.011905</td>\n",
       "      <td>1.000000</td>\n",
       "      <td>0.346716</td>\n",
       "    </tr>\n",
       "    <tr>\n",
       "      <th>numsources</th>\n",
       "      <td>0.000328</td>\n",
       "      <td>0.346716</td>\n",
       "      <td>1.000000</td>\n",
       "    </tr>\n",
       "  </tbody>\n",
       "</table>\n",
       "</div>"
      ],
      "text/plain": [
       "              sqldate  nummentions  numsources\n",
       "sqldate      1.000000    -0.011905    0.000328\n",
       "nummentions -0.011905     1.000000    0.346716\n",
       "numsources   0.000328     0.346716    1.000000"
      ]
     },
     "execution_count": 3,
     "metadata": {},
     "output_type": "execute_result"
    }
   ],
   "source": [
    "df_mention.corr()"
   ]
  },
  {
   "cell_type": "code",
   "execution_count": 6,
   "metadata": {},
   "outputs": [
    {
     "data": {
      "text/html": [
       "<div>\n",
       "<style scoped>\n",
       "    .dataframe tbody tr th:only-of-type {\n",
       "        vertical-align: middle;\n",
       "    }\n",
       "\n",
       "    .dataframe tbody tr th {\n",
       "        vertical-align: top;\n",
       "    }\n",
       "\n",
       "    .dataframe thead th {\n",
       "        text-align: right;\n",
       "    }\n",
       "</style>\n",
       "<table border=\"1\" class=\"dataframe\">\n",
       "  <thead>\n",
       "    <tr style=\"text-align: right;\">\n",
       "      <th></th>\n",
       "      <th>1</th>\n",
       "      <th>2</th>\n",
       "      <th>3</th>\n",
       "      <th>4</th>\n",
       "    </tr>\n",
       "  </thead>\n",
       "  <tbody>\n",
       "    <tr>\n",
       "      <th>0</th>\n",
       "      <td>0</td>\n",
       "      <td>1</td>\n",
       "      <td>0</td>\n",
       "      <td>0</td>\n",
       "    </tr>\n",
       "    <tr>\n",
       "      <th>1</th>\n",
       "      <td>1</td>\n",
       "      <td>0</td>\n",
       "      <td>0</td>\n",
       "      <td>0</td>\n",
       "    </tr>\n",
       "    <tr>\n",
       "      <th>2</th>\n",
       "      <td>0</td>\n",
       "      <td>0</td>\n",
       "      <td>0</td>\n",
       "      <td>1</td>\n",
       "    </tr>\n",
       "    <tr>\n",
       "      <th>3</th>\n",
       "      <td>0</td>\n",
       "      <td>0</td>\n",
       "      <td>0</td>\n",
       "      <td>1</td>\n",
       "    </tr>\n",
       "    <tr>\n",
       "      <th>4</th>\n",
       "      <td>1</td>\n",
       "      <td>0</td>\n",
       "      <td>0</td>\n",
       "      <td>0</td>\n",
       "    </tr>\n",
       "  </tbody>\n",
       "</table>\n",
       "</div>"
      ],
      "text/plain": [
       "   1  2  3  4\n",
       "0  0  1  0  0\n",
       "1  1  0  0  0\n",
       "2  0  0  0  1\n",
       "3  0  0  0  1\n",
       "4  1  0  0  0"
      ]
     },
     "execution_count": 6,
     "metadata": {},
     "output_type": "execute_result"
    }
   ],
   "source": [
    "df_quad = pd.get_dummies(df['quadclass'])\n",
    "#df_quad = df[['sqldate']].join(df_quad)\n",
    "df_quad.shape\n",
    "df_quad.head()"
   ]
  },
  {
   "cell_type": "code",
   "execution_count": 24,
   "metadata": {},
   "outputs": [],
   "source": [
    "#df = df[['sqldate','goldsteinscale','numarticles','avgtone']].join(df_quad)"
   ]
  },
  {
   "cell_type": "code",
   "execution_count": 25,
   "metadata": {},
   "outputs": [
    {
     "data": {
      "text/plain": [
       "sqldate             int64\n",
       "quadclass           int64\n",
       "goldsteinscale    float64\n",
       "numarticles         int64\n",
       "avgtone           float64\n",
       "dtype: object"
      ]
     },
     "execution_count": 25,
     "metadata": {},
     "output_type": "execute_result"
    }
   ],
   "source": [
    "df.dtypes"
   ]
  },
  {
   "cell_type": "code",
   "execution_count": 7,
   "metadata": {},
   "outputs": [],
   "source": [
    "b = pd.unique(df['sqldate'])"
   ]
  },
  {
   "cell_type": "code",
   "execution_count": 8,
   "metadata": {},
   "outputs": [],
   "source": [
    "b.sort()"
   ]
  },
  {
   "cell_type": "code",
   "execution_count": 9,
   "metadata": {},
   "outputs": [],
   "source": [
    "col1 = ['goldsteinscale', 'numarticles', 'avgtone']"
   ]
  },
  {
   "cell_type": "code",
   "execution_count": null,
   "metadata": {},
   "outputs": [],
   "source": []
  },
  {
   "cell_type": "code",
   "execution_count": 29,
   "metadata": {},
   "outputs": [],
   "source": [
    "#df_1 = [pd.DataFrame([sum([k for k in df[j][df['sqldate'] == i]]) for j in col1]) for i in b]"
   ]
  },
  {
   "cell_type": "code",
   "execution_count": 10,
   "metadata": {},
   "outputs": [],
   "source": [
    "data = []\n",
    "\n",
    "data.append([np.mean(df['goldsteinscale'][df['sqldate']==i]) for i in b])"
   ]
  },
  {
   "cell_type": "code",
   "execution_count": 11,
   "metadata": {},
   "outputs": [],
   "source": [
    "data.append([np.mean(df['numarticles'][df['sqldate']==i]) for i in b])"
   ]
  },
  {
   "cell_type": "code",
   "execution_count": 12,
   "metadata": {},
   "outputs": [],
   "source": [
    "data.append([np.mean(df['avgtone'][df['sqldate']==i]) for i in b])"
   ]
  },
  {
   "cell_type": "code",
   "execution_count": 13,
   "metadata": {},
   "outputs": [],
   "source": [
    "df_1 = pd.DataFrame(np.array(data).transpose(),columns = ['goldstein','numarticles','avgtone'], index = b)"
   ]
  },
  {
   "cell_type": "code",
   "execution_count": 14,
   "metadata": {},
   "outputs": [
    {
     "data": {
      "text/html": [
       "<div>\n",
       "<style scoped>\n",
       "    .dataframe tbody tr th:only-of-type {\n",
       "        vertical-align: middle;\n",
       "    }\n",
       "\n",
       "    .dataframe tbody tr th {\n",
       "        vertical-align: top;\n",
       "    }\n",
       "\n",
       "    .dataframe thead th {\n",
       "        text-align: right;\n",
       "    }\n",
       "</style>\n",
       "<table border=\"1\" class=\"dataframe\">\n",
       "  <thead>\n",
       "    <tr style=\"text-align: right;\">\n",
       "      <th></th>\n",
       "      <th>goldstein</th>\n",
       "      <th>numarticles</th>\n",
       "      <th>avgtone</th>\n",
       "    </tr>\n",
       "  </thead>\n",
       "  <tbody>\n",
       "    <tr>\n",
       "      <th>20150101</th>\n",
       "      <td>1.897037</td>\n",
       "      <td>4.725926</td>\n",
       "      <td>-0.825348</td>\n",
       "    </tr>\n",
       "    <tr>\n",
       "      <th>20150102</th>\n",
       "      <td>1.292029</td>\n",
       "      <td>4.144928</td>\n",
       "      <td>-2.010586</td>\n",
       "    </tr>\n",
       "    <tr>\n",
       "      <th>20150103</th>\n",
       "      <td>0.500662</td>\n",
       "      <td>4.072848</td>\n",
       "      <td>-1.579904</td>\n",
       "    </tr>\n",
       "    <tr>\n",
       "      <th>20150104</th>\n",
       "      <td>0.078648</td>\n",
       "      <td>4.177936</td>\n",
       "      <td>-2.290629</td>\n",
       "    </tr>\n",
       "    <tr>\n",
       "      <th>20150105</th>\n",
       "      <td>-1.140491</td>\n",
       "      <td>4.365031</td>\n",
       "      <td>-2.789627</td>\n",
       "    </tr>\n",
       "  </tbody>\n",
       "</table>\n",
       "</div>"
      ],
      "text/plain": [
       "          goldstein  numarticles   avgtone\n",
       "20150101   1.897037     4.725926 -0.825348\n",
       "20150102   1.292029     4.144928 -2.010586\n",
       "20150103   0.500662     4.072848 -1.579904\n",
       "20150104   0.078648     4.177936 -2.290629\n",
       "20150105  -1.140491     4.365031 -2.789627"
      ]
     },
     "execution_count": 14,
     "metadata": {},
     "output_type": "execute_result"
    }
   ],
   "source": [
    "#df_articles = pd.DataFrame(np.array([[i for i in b], [np.mean(df['numarticles'][df['sqldate']==i]) for i in b]]),\n",
    "#                           columns = ['date','numarticles'])\n",
    "df_1.head()                       "
   ]
  },
  {
   "cell_type": "code",
   "execution_count": 15,
   "metadata": {},
   "outputs": [],
   "source": [
    "# df_avgtone = pd.DataFrame(np.array([[i for i in b], [np.mean(df['avgtone'][df['sqldate']==i]) for i in b]]),\n",
    "#                           columns = ['date','avgtone'])"
   ]
  },
  {
   "cell_type": "code",
   "execution_count": 17,
   "metadata": {},
   "outputs": [],
   "source": [
    "data_mention = []\n",
    "data_mention.append([np.mean(df_mention['nummentions'][df_mention['sqldate']==i]) for i in b])"
   ]
  },
  {
   "cell_type": "code",
   "execution_count": 18,
   "metadata": {},
   "outputs": [],
   "source": [
    "data_mention.append([np.mean(df_mention['numsources'][df_mention['sqldate']==i]) for i in b])"
   ]
  },
  {
   "cell_type": "code",
   "execution_count": 19,
   "metadata": {},
   "outputs": [],
   "source": [
    "df_3 = pd.DataFrame(np.array(data_mention).transpose(),columns = ['avg mention','avg source'], index = b)"
   ]
  },
  {
   "cell_type": "code",
   "execution_count": 20,
   "metadata": {},
   "outputs": [],
   "source": [
    "data_quad = []\n",
    "\n",
    "data_quad.append([np.mean(df_quad[1][df['sqldate']==i]) for i in b])"
   ]
  },
  {
   "cell_type": "code",
   "execution_count": 21,
   "metadata": {},
   "outputs": [],
   "source": [
    "data_quad.append([np.mean(df_quad[2][df['sqldate']==i]) for i in b])"
   ]
  },
  {
   "cell_type": "code",
   "execution_count": 22,
   "metadata": {},
   "outputs": [],
   "source": [
    "data_quad.append([np.mean(df_quad[3][df['sqldate']==i]) for i in b])"
   ]
  },
  {
   "cell_type": "code",
   "execution_count": 23,
   "metadata": {},
   "outputs": [],
   "source": [
    "data_quad.append([np.mean(df_quad[4][df['sqldate']==i]) for i in b])"
   ]
  },
  {
   "cell_type": "code",
   "execution_count": 24,
   "metadata": {},
   "outputs": [],
   "source": [
    "df_2 = pd.DataFrame(np.array(data_quad).transpose(),columns = ['quad_1','quad_2','quad_3','quad_4'], index = b)"
   ]
  },
  {
   "cell_type": "code",
   "execution_count": 25,
   "metadata": {},
   "outputs": [
    {
     "data": {
      "text/html": [
       "<div>\n",
       "<style scoped>\n",
       "    .dataframe tbody tr th:only-of-type {\n",
       "        vertical-align: middle;\n",
       "    }\n",
       "\n",
       "    .dataframe tbody tr th {\n",
       "        vertical-align: top;\n",
       "    }\n",
       "\n",
       "    .dataframe thead th {\n",
       "        text-align: right;\n",
       "    }\n",
       "</style>\n",
       "<table border=\"1\" class=\"dataframe\">\n",
       "  <thead>\n",
       "    <tr style=\"text-align: right;\">\n",
       "      <th></th>\n",
       "      <th>quad_1</th>\n",
       "      <th>quad_2</th>\n",
       "      <th>quad_3</th>\n",
       "      <th>quad_4</th>\n",
       "    </tr>\n",
       "  </thead>\n",
       "  <tbody>\n",
       "    <tr>\n",
       "      <th>20150101</th>\n",
       "      <td>0.644444</td>\n",
       "      <td>0.148148</td>\n",
       "      <td>0.133333</td>\n",
       "      <td>0.074074</td>\n",
       "    </tr>\n",
       "    <tr>\n",
       "      <th>20150102</th>\n",
       "      <td>0.463768</td>\n",
       "      <td>0.282609</td>\n",
       "      <td>0.137681</td>\n",
       "      <td>0.115942</td>\n",
       "    </tr>\n",
       "    <tr>\n",
       "      <th>20150103</th>\n",
       "      <td>0.629139</td>\n",
       "      <td>0.092715</td>\n",
       "      <td>0.112583</td>\n",
       "      <td>0.165563</td>\n",
       "    </tr>\n",
       "    <tr>\n",
       "      <th>20150104</th>\n",
       "      <td>0.491103</td>\n",
       "      <td>0.177936</td>\n",
       "      <td>0.103203</td>\n",
       "      <td>0.227758</td>\n",
       "    </tr>\n",
       "    <tr>\n",
       "      <th>20150105</th>\n",
       "      <td>0.435583</td>\n",
       "      <td>0.138037</td>\n",
       "      <td>0.101227</td>\n",
       "      <td>0.325153</td>\n",
       "    </tr>\n",
       "  </tbody>\n",
       "</table>\n",
       "</div>"
      ],
      "text/plain": [
       "            quad_1    quad_2    quad_3    quad_4\n",
       "20150101  0.644444  0.148148  0.133333  0.074074\n",
       "20150102  0.463768  0.282609  0.137681  0.115942\n",
       "20150103  0.629139  0.092715  0.112583  0.165563\n",
       "20150104  0.491103  0.177936  0.103203  0.227758\n",
       "20150105  0.435583  0.138037  0.101227  0.325153"
      ]
     },
     "execution_count": 25,
     "metadata": {},
     "output_type": "execute_result"
    }
   ],
   "source": [
    "df_2.head()"
   ]
  },
  {
   "cell_type": "code",
   "execution_count": 26,
   "metadata": {},
   "outputs": [],
   "source": [
    "full_df = df_1.join(df_2).join(df_3)"
   ]
  },
  {
   "cell_type": "code",
   "execution_count": 28,
   "metadata": {},
   "outputs": [
    {
     "data": {
      "text/html": [
       "<div>\n",
       "<style scoped>\n",
       "    .dataframe tbody tr th:only-of-type {\n",
       "        vertical-align: middle;\n",
       "    }\n",
       "\n",
       "    .dataframe tbody tr th {\n",
       "        vertical-align: top;\n",
       "    }\n",
       "\n",
       "    .dataframe thead th {\n",
       "        text-align: right;\n",
       "    }\n",
       "</style>\n",
       "<table border=\"1\" class=\"dataframe\">\n",
       "  <thead>\n",
       "    <tr style=\"text-align: right;\">\n",
       "      <th></th>\n",
       "      <th>goldstein</th>\n",
       "      <th>numarticles</th>\n",
       "      <th>avgtone</th>\n",
       "      <th>quad_1</th>\n",
       "      <th>quad_2</th>\n",
       "      <th>quad_3</th>\n",
       "      <th>quad_4</th>\n",
       "      <th>avg mention</th>\n",
       "      <th>avg source</th>\n",
       "    </tr>\n",
       "  </thead>\n",
       "  <tbody>\n",
       "    <tr>\n",
       "      <th>20150101</th>\n",
       "      <td>1.897037</td>\n",
       "      <td>4.725926</td>\n",
       "      <td>-0.825348</td>\n",
       "      <td>0.644444</td>\n",
       "      <td>0.148148</td>\n",
       "      <td>0.133333</td>\n",
       "      <td>0.074074</td>\n",
       "      <td>4.800000</td>\n",
       "      <td>1.051852</td>\n",
       "    </tr>\n",
       "    <tr>\n",
       "      <th>20150102</th>\n",
       "      <td>1.292029</td>\n",
       "      <td>4.144928</td>\n",
       "      <td>-2.010586</td>\n",
       "      <td>0.463768</td>\n",
       "      <td>0.282609</td>\n",
       "      <td>0.137681</td>\n",
       "      <td>0.115942</td>\n",
       "      <td>4.144928</td>\n",
       "      <td>1.000000</td>\n",
       "    </tr>\n",
       "    <tr>\n",
       "      <th>20150103</th>\n",
       "      <td>0.500662</td>\n",
       "      <td>4.072848</td>\n",
       "      <td>-1.579904</td>\n",
       "      <td>0.629139</td>\n",
       "      <td>0.092715</td>\n",
       "      <td>0.112583</td>\n",
       "      <td>0.165563</td>\n",
       "      <td>4.178808</td>\n",
       "      <td>1.000000</td>\n",
       "    </tr>\n",
       "    <tr>\n",
       "      <th>20150104</th>\n",
       "      <td>0.078648</td>\n",
       "      <td>4.177936</td>\n",
       "      <td>-2.290629</td>\n",
       "      <td>0.491103</td>\n",
       "      <td>0.177936</td>\n",
       "      <td>0.103203</td>\n",
       "      <td>0.227758</td>\n",
       "      <td>4.249110</td>\n",
       "      <td>1.028470</td>\n",
       "    </tr>\n",
       "    <tr>\n",
       "      <th>20150105</th>\n",
       "      <td>-1.140491</td>\n",
       "      <td>4.365031</td>\n",
       "      <td>-2.789627</td>\n",
       "      <td>0.435583</td>\n",
       "      <td>0.138037</td>\n",
       "      <td>0.101227</td>\n",
       "      <td>0.325153</td>\n",
       "      <td>4.407975</td>\n",
       "      <td>1.033742</td>\n",
       "    </tr>\n",
       "  </tbody>\n",
       "</table>\n",
       "</div>"
      ],
      "text/plain": [
       "          goldstein  numarticles   avgtone    quad_1    quad_2    quad_3  \\\n",
       "20150101   1.897037     4.725926 -0.825348  0.644444  0.148148  0.133333   \n",
       "20150102   1.292029     4.144928 -2.010586  0.463768  0.282609  0.137681   \n",
       "20150103   0.500662     4.072848 -1.579904  0.629139  0.092715  0.112583   \n",
       "20150104   0.078648     4.177936 -2.290629  0.491103  0.177936  0.103203   \n",
       "20150105  -1.140491     4.365031 -2.789627  0.435583  0.138037  0.101227   \n",
       "\n",
       "            quad_4  avg mention  avg source  \n",
       "20150101  0.074074     4.800000    1.051852  \n",
       "20150102  0.115942     4.144928    1.000000  \n",
       "20150103  0.165563     4.178808    1.000000  \n",
       "20150104  0.227758     4.249110    1.028470  \n",
       "20150105  0.325153     4.407975    1.033742  "
      ]
     },
     "execution_count": 28,
     "metadata": {},
     "output_type": "execute_result"
    }
   ],
   "source": [
    "full_df.head()"
   ]
  },
  {
   "cell_type": "code",
   "execution_count": 27,
   "metadata": {},
   "outputs": [],
   "source": [
    "full_df.to_csv('FULL_DF2.csv')"
   ]
  },
  {
   "cell_type": "code",
   "execution_count": 29,
   "metadata": {},
   "outputs": [
    {
     "data": {
      "text/html": [
       "<div>\n",
       "<style scoped>\n",
       "    .dataframe tbody tr th:only-of-type {\n",
       "        vertical-align: middle;\n",
       "    }\n",
       "\n",
       "    .dataframe tbody tr th {\n",
       "        vertical-align: top;\n",
       "    }\n",
       "\n",
       "    .dataframe thead th {\n",
       "        text-align: right;\n",
       "    }\n",
       "</style>\n",
       "<table border=\"1\" class=\"dataframe\">\n",
       "  <thead>\n",
       "    <tr style=\"text-align: right;\">\n",
       "      <th></th>\n",
       "      <th>goldstein</th>\n",
       "      <th>numarticles</th>\n",
       "      <th>avgtone</th>\n",
       "      <th>quad_1</th>\n",
       "      <th>quad_2</th>\n",
       "      <th>quad_3</th>\n",
       "      <th>quad_4</th>\n",
       "      <th>avg mention</th>\n",
       "      <th>avg source</th>\n",
       "    </tr>\n",
       "  </thead>\n",
       "  <tbody>\n",
       "    <tr>\n",
       "      <th>goldstein</th>\n",
       "      <td>1.000000</td>\n",
       "      <td>-0.005574</td>\n",
       "      <td>0.603847</td>\n",
       "      <td>0.630025</td>\n",
       "      <td>0.274719</td>\n",
       "      <td>-0.319499</td>\n",
       "      <td>-0.846469</td>\n",
       "      <td>-0.031480</td>\n",
       "      <td>-0.013271</td>\n",
       "    </tr>\n",
       "    <tr>\n",
       "      <th>numarticles</th>\n",
       "      <td>-0.005574</td>\n",
       "      <td>1.000000</td>\n",
       "      <td>0.057282</td>\n",
       "      <td>0.022788</td>\n",
       "      <td>0.077431</td>\n",
       "      <td>-0.232496</td>\n",
       "      <td>0.064739</td>\n",
       "      <td>0.958819</td>\n",
       "      <td>0.513763</td>\n",
       "    </tr>\n",
       "    <tr>\n",
       "      <th>avgtone</th>\n",
       "      <td>0.603847</td>\n",
       "      <td>0.057282</td>\n",
       "      <td>1.000000</td>\n",
       "      <td>0.559032</td>\n",
       "      <td>-0.042051</td>\n",
       "      <td>-0.209194</td>\n",
       "      <td>-0.602006</td>\n",
       "      <td>0.029398</td>\n",
       "      <td>-0.076970</td>\n",
       "    </tr>\n",
       "    <tr>\n",
       "      <th>quad_1</th>\n",
       "      <td>0.630025</td>\n",
       "      <td>0.022788</td>\n",
       "      <td>0.559032</td>\n",
       "      <td>1.000000</td>\n",
       "      <td>-0.475724</td>\n",
       "      <td>-0.416964</td>\n",
       "      <td>-0.773689</td>\n",
       "      <td>0.042861</td>\n",
       "      <td>-0.013310</td>\n",
       "    </tr>\n",
       "    <tr>\n",
       "      <th>quad_2</th>\n",
       "      <td>0.274719</td>\n",
       "      <td>0.077431</td>\n",
       "      <td>-0.042051</td>\n",
       "      <td>-0.475724</td>\n",
       "      <td>1.000000</td>\n",
       "      <td>-0.147542</td>\n",
       "      <td>0.057436</td>\n",
       "      <td>0.042111</td>\n",
       "      <td>0.027840</td>\n",
       "    </tr>\n",
       "    <tr>\n",
       "      <th>quad_3</th>\n",
       "      <td>-0.319499</td>\n",
       "      <td>-0.232496</td>\n",
       "      <td>-0.209194</td>\n",
       "      <td>-0.416964</td>\n",
       "      <td>-0.147542</td>\n",
       "      <td>1.000000</td>\n",
       "      <td>0.030434</td>\n",
       "      <td>-0.240225</td>\n",
       "      <td>-0.081000</td>\n",
       "    </tr>\n",
       "    <tr>\n",
       "      <th>quad_4</th>\n",
       "      <td>-0.846469</td>\n",
       "      <td>0.064739</td>\n",
       "      <td>-0.602006</td>\n",
       "      <td>-0.773689</td>\n",
       "      <td>0.057436</td>\n",
       "      <td>0.030434</td>\n",
       "      <td>1.000000</td>\n",
       "      <td>0.066539</td>\n",
       "      <td>0.051047</td>\n",
       "    </tr>\n",
       "    <tr>\n",
       "      <th>avg mention</th>\n",
       "      <td>-0.031480</td>\n",
       "      <td>0.958819</td>\n",
       "      <td>0.029398</td>\n",
       "      <td>0.042861</td>\n",
       "      <td>0.042111</td>\n",
       "      <td>-0.240225</td>\n",
       "      <td>0.066539</td>\n",
       "      <td>1.000000</td>\n",
       "      <td>0.487723</td>\n",
       "    </tr>\n",
       "    <tr>\n",
       "      <th>avg source</th>\n",
       "      <td>-0.013271</td>\n",
       "      <td>0.513763</td>\n",
       "      <td>-0.076970</td>\n",
       "      <td>-0.013310</td>\n",
       "      <td>0.027840</td>\n",
       "      <td>-0.081000</td>\n",
       "      <td>0.051047</td>\n",
       "      <td>0.487723</td>\n",
       "      <td>1.000000</td>\n",
       "    </tr>\n",
       "  </tbody>\n",
       "</table>\n",
       "</div>"
      ],
      "text/plain": [
       "             goldstein  numarticles   avgtone    quad_1    quad_2    quad_3  \\\n",
       "goldstein     1.000000    -0.005574  0.603847  0.630025  0.274719 -0.319499   \n",
       "numarticles  -0.005574     1.000000  0.057282  0.022788  0.077431 -0.232496   \n",
       "avgtone       0.603847     0.057282  1.000000  0.559032 -0.042051 -0.209194   \n",
       "quad_1        0.630025     0.022788  0.559032  1.000000 -0.475724 -0.416964   \n",
       "quad_2        0.274719     0.077431 -0.042051 -0.475724  1.000000 -0.147542   \n",
       "quad_3       -0.319499    -0.232496 -0.209194 -0.416964 -0.147542  1.000000   \n",
       "quad_4       -0.846469     0.064739 -0.602006 -0.773689  0.057436  0.030434   \n",
       "avg mention  -0.031480     0.958819  0.029398  0.042861  0.042111 -0.240225   \n",
       "avg source   -0.013271     0.513763 -0.076970 -0.013310  0.027840 -0.081000   \n",
       "\n",
       "               quad_4  avg mention  avg source  \n",
       "goldstein   -0.846469    -0.031480   -0.013271  \n",
       "numarticles  0.064739     0.958819    0.513763  \n",
       "avgtone     -0.602006     0.029398   -0.076970  \n",
       "quad_1      -0.773689     0.042861   -0.013310  \n",
       "quad_2       0.057436     0.042111    0.027840  \n",
       "quad_3       0.030434    -0.240225   -0.081000  \n",
       "quad_4       1.000000     0.066539    0.051047  \n",
       "avg mention  0.066539     1.000000    0.487723  \n",
       "avg source   0.051047     0.487723    1.000000  "
      ]
     },
     "execution_count": 29,
     "metadata": {},
     "output_type": "execute_result"
    }
   ],
   "source": [
    "full_df.corr()"
   ]
  },
  {
   "cell_type": "code",
   "execution_count": null,
   "metadata": {},
   "outputs": [],
   "source": []
  }
 ],
 "metadata": {
  "kernelspec": {
   "display_name": "Python 3",
   "language": "python",
   "name": "python3"
  },
  "language_info": {
   "codemirror_mode": {
    "name": "ipython",
    "version": 3
   },
   "file_extension": ".py",
   "mimetype": "text/x-python",
   "name": "python",
   "nbconvert_exporter": "python",
   "pygments_lexer": "ipython3",
   "version": "3.6.8"
  }
 },
 "nbformat": 4,
 "nbformat_minor": 2
}
